{
 "cells": [
  {
   "cell_type": "code",
   "execution_count": null,
   "id": "93958289",
   "metadata": {},
   "outputs": [],
   "source": [
    "!pip install -q -U keras-nlp keras datasets kagglehub keras_hub \n",
    "!pip install -q -U tensorflow-text\n",
    "# Install tensorflow-cpu so tensorflow does not attempt to access the TPU.\n",
    "!pip install -q -U tensorflow-cpu\n",
    "!pip install -q -U wandb"
   ]
  },
  {
   "cell_type": "code",
   "execution_count": 2,
   "id": "73cda2fb",
   "metadata": {
    "execution": {
     "iopub.execute_input": "2024-12-29T17:07:14.097830Z",
     "iopub.status.busy": "2024-12-29T17:07:14.097595Z",
     "iopub.status.idle": "2024-12-29T17:07:23.269184Z",
     "shell.execute_reply": "2024-12-29T17:07:23.268026Z"
    },
    "papermill": {
     "duration": 9.178072,
     "end_time": "2024-12-29T17:07:23.270803",
     "exception": false,
     "start_time": "2024-12-29T17:07:14.092731",
     "status": "completed"
    },
    "tags": []
   },
   "outputs": [
    {
     "name": "stderr",
     "output_type": "stream",
     "text": [
      "WARNING: Logging before InitGoogle() is written to STDERR\n",
      "E0000 00:00:1735492039.290019      74 common_lib.cc:798] Could not set metric server port: INVALID_ARGUMENT: Could not find SliceBuilder port 8471 in any of the 0 ports provided in `tpu_process_addresses`=\"local\"\n",
      "=== Source Location Trace: ===\n",
      "learning/45eac/tfrc/runtime/common_lib.cc:479\n",
      "E1229 17:07:19.328749401      74 oauth2_credentials.cc:238]            oauth_fetch: UNKNOWN:C-ares status is not ARES_SUCCESS qtype=A name=metadata.google.internal. is_balancer=0: Domain name not found {grpc_status:2, created_time:\"2024-12-29T17:07:19.328732956+00:00\"}\n"
     ]
    },
    {
     "data": {
      "text/plain": [
       "[TpuDevice(id=0, process_index=0, coords=(0,0,0), core_on_chip=0),\n",
       " TpuDevice(id=1, process_index=0, coords=(0,0,0), core_on_chip=1),\n",
       " TpuDevice(id=2, process_index=0, coords=(1,0,0), core_on_chip=0),\n",
       " TpuDevice(id=3, process_index=0, coords=(1,0,0), core_on_chip=1),\n",
       " TpuDevice(id=4, process_index=0, coords=(0,1,0), core_on_chip=0),\n",
       " TpuDevice(id=5, process_index=0, coords=(0,1,0), core_on_chip=1),\n",
       " TpuDevice(id=6, process_index=0, coords=(1,1,0), core_on_chip=0),\n",
       " TpuDevice(id=7, process_index=0, coords=(1,1,0), core_on_chip=1)]"
      ]
     },
     "execution_count": 2,
     "metadata": {},
     "output_type": "execute_result"
    }
   ],
   "source": [
    "import jax\n",
    "jax.devices()"
   ]
  },
  {
   "cell_type": "code",
   "execution_count": 3,
   "id": "38b6a72b",
   "metadata": {
    "execution": {
     "iopub.execute_input": "2024-12-29T17:07:23.280814Z",
     "iopub.status.busy": "2024-12-29T17:07:23.280496Z",
     "iopub.status.idle": "2024-12-29T17:07:23.284946Z",
     "shell.execute_reply": "2024-12-29T17:07:23.283892Z"
    },
    "papermill": {
     "duration": 0.011391,
     "end_time": "2024-12-29T17:07:23.286504",
     "exception": false,
     "start_time": "2024-12-29T17:07:23.275113",
     "status": "completed"
    },
    "tags": []
   },
   "outputs": [],
   "source": [
    "import os\n",
    "# Set the environment variables for Kaggle and Weights & Biases.\n",
    "# from kaggle_secrets import UserSecretsClient\n",
    "# from google.colab import userdata\n",
    "#import getpass\n",
    "os.environ[\"KAGGLE_USERNAME\"] = \"your-username\"# or UserSecretsClient().get_secret(KAGGLE_USERNAME) or userdata.get(KAGGLE_USERNAME) or getpass.getpass(\"Enter your KAGGLE_USERNAME: \")\n",
    "os.environ[\"KAGGLE_KEY\"] = \"kaggle-api-key\" # or UserSecretsClient().get_secret(KAGGLE_KEY) or userdata.get(KAGGLE_KEY) or getpass.getpass(\"Enter your  KAGGLE_KEY: \")\n",
    "os.environ[\"WANDB_API_KEY\"] = \"wand-api-key\" # or UserSecretsClient().get_secret(WANDB_API_KEY) or userdata.get(WANDB_API_KEY) or getpass.getpass(\"Enter your WANDB_API_KEY: \")\n",
    "os.environ[\"KERAS_BACKEND\"] = \"jax\"\n",
    "os.environ[\"XLA_PYTHON_CLIENT_MEM_FRACTION\"] = \"1.00\""
   ]
  },
  {
   "cell_type": "code",
   "execution_count": 4,
   "id": "f50614c3",
   "metadata": {
    "execution": {
     "iopub.execute_input": "2024-12-29T17:07:23.295430Z",
     "iopub.status.busy": "2024-12-29T17:07:23.295175Z",
     "iopub.status.idle": "2024-12-29T17:07:38.619758Z",
     "shell.execute_reply": "2024-12-29T17:07:38.618584Z"
    },
    "papermill": {
     "duration": 15.331254,
     "end_time": "2024-12-29T17:07:38.621793",
     "exception": false,
     "start_time": "2024-12-29T17:07:23.290539",
     "status": "completed"
    },
    "tags": []
   },
   "outputs": [
    {
     "name": "stderr",
     "output_type": "stream",
     "text": [
      "/usr/local/lib/python3.10/site-packages/tqdm/auto.py:21: TqdmWarning: IProgress not found. Please update jupyter and ipywidgets. See https://ipywidgets.readthedocs.io/en/stable/user_install.html\n",
      "  from .autonotebook import tqdm as notebook_tqdm\n"
     ]
    }
   ],
   "source": [
    "import tensorflow as tf\n",
    "import keras\n",
    "import keras_nlp\n",
    "from datasets import load_dataset\n",
    "import itertools\n",
    "import wandb\n",
    "from wandb.integration.keras import WandbMetricsLogger"
   ]
  },
  {
   "cell_type": "code",
   "execution_count": 5,
   "id": "a9066bcf",
   "metadata": {
    "execution": {
     "iopub.execute_input": "2024-12-29T17:07:38.631460Z",
     "iopub.status.busy": "2024-12-29T17:07:38.631193Z",
     "iopub.status.idle": "2024-12-29T17:08:23.539826Z",
     "shell.execute_reply": "2024-12-29T17:08:23.538537Z"
    },
    "papermill": {
     "duration": 44.915859,
     "end_time": "2024-12-29T17:08:23.541741",
     "exception": false,
     "start_time": "2024-12-29T17:07:38.625882",
     "status": "completed"
    },
    "tags": []
   },
   "outputs": [],
   "source": [
    "data = load_dataset(\"allenai/c4\", \"ja\", streaming=True)"
   ]
  },
  {
   "cell_type": "code",
   "execution_count": 6,
   "id": "e77e808f",
   "metadata": {
    "execution": {
     "iopub.execute_input": "2024-12-29T17:08:23.552426Z",
     "iopub.status.busy": "2024-12-29T17:08:23.552170Z",
     "iopub.status.idle": "2024-12-29T17:08:35.302930Z",
     "shell.execute_reply": "2024-12-29T17:08:35.301944Z"
    },
    "papermill": {
     "duration": 11.757884,
     "end_time": "2024-12-29T17:08:35.304673",
     "exception": false,
     "start_time": "2024-12-29T17:08:23.546789",
     "status": "completed"
    },
    "tags": []
   },
   "outputs": [
    {
     "name": "stdout",
     "output_type": "stream",
     "text": [
      "Sample Japanese Data:\n",
      "Example 1: 生八つ橋のタグまとめ | エキサイトブログ\n",
      "生八つ橋のタグまとめ\n",
      "「生八つ橋」のタグがついている新着記事と人気記事をまとめました。エキサイトブログには生八つ橋に関連するブログ（日記、記録、写真、レビュー、噂、まとめ）がたくさん投稿されています。\n",
      "「生八つ橋」タグの記事（4）\n",
      "生八つ橋いろいろ\n",
      "京都旅行のお土産(我が家用)に色々な生八つ橋を買ってきました。我が家はみんな八つ橋ファンなのです～。地元の方達や京都を案内してくれたYさんは「八つ橋なんてもう何年も食べたことないわ～～～」と仰っていましたが、いやいや、美味しいですよ～～！！私は大好きです！まぁ確かに私は東京出身ですが、雷おこしや人形焼きは食べませんからね～。それと同じことでしょうか＾＾；とはいえ、舟和の芋ようかんや東京ばな奈...\n",
      "2020/03/06 23:54 - ＮＹの小さな灯り　～ヘアメイク日記～\n",
      "黒糖きな粉\n",
      "冬限定の生八つ橋「ふゆおたべ」\n",
      "日本から戻る時に大抵空港で生八つ橋か信玄餅のどちらかを必ず買って帰ってくるのですが、今回は珍しいバージョンを見かけたので生八つ橋を買う事にしました。それがこちら、冬限定の生八つ橋「ふゆ\n",
      "Example 2: 廃棄物をチップ／ペレットに - Gneuss\n",
      "フィルム、繊維、更には市場回収品であるPETボトルフレークなどのリサイクル可能な廃棄物は、高水準の純度で高品質ペレット/チップに加工し、生産押出機でバージン材料と混ぜることができます。\n",
      "Startseite アプリケーション例 Granulat & Regranulat\n",
      "繊維、フィルムやダンゴなどのリサイクル可能な廃棄物は、シュレッダーに入れられ、金属セパレーター付コンベアでアジエータ―を搭載した容器に投入されます。そこから、材料はオーガや詰め込みフィーダーによって押出機に運ばれます。\n",
      "あるいは、サイズを圧縮し塊となったリサイクル可能な廃棄物は、MRS押出機に直接入れることができます。サイズ圧縮と押し出しの処理工程を切り離すことの長所は、材料の投下（そしてさらにスループット率も）が均一にされ、そして、金属は材料フローから確実に排出されるところにあります。このシステムを統合化システム上で達成することは、一般的に非常に難しいです。\n",
      "押出機はゆっくりとポリエステルのゴミを溶かし、MRSの脱気セクションにおいて、表面に付着した水分、吸収された水分、\n"
     ]
    }
   ],
   "source": [
    "sample_data = []\n",
    "for i, example in enumerate(iter(data[\"train\"])):\n",
    "    if i >= 2:  # Change this number to get more examples\n",
    "        break\n",
    "    sample_data.append(example[\"text\"])\n",
    "\n",
    "print(\"Sample Japanese Data:\")\n",
    "for i, text in enumerate(sample_data):\n",
    "    print(f\"Example {i + 1}:\", text[:500])  # Print the first 500 characters to get a preview"
   ]
  },
  {
   "cell_type": "code",
   "execution_count": 7,
   "id": "201ba21a",
   "metadata": {
    "execution": {
     "iopub.execute_input": "2024-12-29T17:08:35.315021Z",
     "iopub.status.busy": "2024-12-29T17:08:35.314742Z",
     "iopub.status.idle": "2024-12-29T17:08:37.727591Z",
     "shell.execute_reply": "2024-12-29T17:08:37.726370Z"
    },
    "papermill": {
     "duration": 2.420116,
     "end_time": "2024-12-29T17:08:37.729233",
     "exception": false,
     "start_time": "2024-12-29T17:08:35.309117",
     "status": "completed"
    },
    "tags": []
   },
   "outputs": [
    {
     "name": "stdout",
     "output_type": "stream",
     "text": [
      "\n",
      "training length:5000\n"
     ]
    }
   ],
   "source": [
    "# Define the maximum number of examples for training and validation\n",
    "max_train_examples = 5000\n",
    "max_val_examples = 100\n",
    "\n",
    "# Create a plain-text list from a subset of the dataset\n",
    "# Load data subsets\n",
    "train_text_data = [example[\"text\"] for example in itertools.islice(data[\"train\"], max_train_examples)]\n",
    "val_text_data = [example[\"text\"] for example in itertools.islice(data[\"validation\"], max_val_examples)]\n",
    "\n",
    "# Check the first example to ensure loading is correct\n",
    "#print(\"First training example:\", train_text_data[0])\n",
    "#print(\"First validation example:\", val_text_data[0])\n",
    "print(f'\\ntraining length:{len(train_text_data)}')"
   ]
  },
  {
   "cell_type": "code",
   "execution_count": 8,
   "id": "d8d3a833",
   "metadata": {
    "execution": {
     "iopub.execute_input": "2024-12-29T17:08:37.738816Z",
     "iopub.status.busy": "2024-12-29T17:08:37.738565Z",
     "iopub.status.idle": "2024-12-29T17:08:38.418045Z",
     "shell.execute_reply": "2024-12-29T17:08:38.417059Z"
    },
    "papermill": {
     "duration": 0.686586,
     "end_time": "2024-12-29T17:08:38.420156",
     "exception": false,
     "start_time": "2024-12-29T17:08:37.733570",
     "status": "completed"
    },
    "tags": []
   },
   "outputs": [],
   "source": [
    "batch_size = 4\n",
    "\n",
    "# Convert the lists of text data to TensorFlow datasets\n",
    "train_data = tf.data.Dataset.from_tensor_slices(train_text_data)\n",
    "val_data = tf.data.Dataset.from_tensor_slices(val_text_data)\n",
    "\n",
    "# Preprocess each text sample\n",
    "def preprocess_text(text):\n",
    "    return tf.convert_to_tensor(text, dtype=tf.string)\n",
    "\n",
    "# Apply preprocessing (optional if text is already clean)\n",
    "train_data = train_data.map(preprocess_text)\n",
    "val_data = val_data.map(preprocess_text)\n",
    "\n",
    "# Shuffle and batch the training data\n",
    "train_data = train_data.shuffle(buffer_size=1000).batch(batch_size)\n",
    "val_data = val_data.batch(batch_size)"
   ]
  },
  {
   "cell_type": "code",
   "execution_count": 9,
   "id": "c065b408",
   "metadata": {
    "execution": {
     "iopub.execute_input": "2024-12-29T17:08:38.429929Z",
     "iopub.status.busy": "2024-12-29T17:08:38.429697Z",
     "iopub.status.idle": "2024-12-29T17:11:17.151224Z",
     "shell.execute_reply": "2024-12-29T17:11:17.150093Z"
    },
    "papermill": {
     "duration": 158.72854,
     "end_time": "2024-12-29T17:11:17.153056",
     "exception": false,
     "start_time": "2024-12-29T17:08:38.424516",
     "status": "completed"
    },
    "tags": []
   },
   "outputs": [
    {
     "name": "stderr",
     "output_type": "stream",
     "text": [
      "normalizer.cc(51) LOG(INFO) precompiled_charsmap is empty. use identity normalization.\n"
     ]
    },
    {
     "data": {
      "text/html": [
       "<pre style=\"white-space:pre;overflow-x:auto;line-height:normal;font-family:Menlo,'DejaVu Sans Mono',consolas,'Courier New',monospace\"><span style=\"font-weight: bold\">Preprocessor: \"gemma_causal_lm_preprocessor\"</span>\n",
       "</pre>\n"
      ],
      "text/plain": [
       "\u001b[1mPreprocessor: \"gemma_causal_lm_preprocessor\"\u001b[0m\n"
      ]
     },
     "metadata": {},
     "output_type": "display_data"
    },
    {
     "data": {
      "text/html": [
       "<pre style=\"white-space:pre;overflow-x:auto;line-height:normal;font-family:Menlo,'DejaVu Sans Mono',consolas,'Courier New',monospace\">┏━━━━━━━━━━━━━━━━━━━━━━━━━━━━━━━━━━━━━━━━━━━━━━━━━━━━━━━━━━━━━━━┳━━━━━━━━━━━━━━━━━━━━━━━━━━━━━━━━━━━━━━━━━━┓\n",
       "┃<span style=\"font-weight: bold\"> Layer (type)                                                  </span>┃<span style=\"font-weight: bold\">                                   Config </span>┃\n",
       "┡━━━━━━━━━━━━━━━━━━━━━━━━━━━━━━━━━━━━━━━━━━━━━━━━━━━━━━━━━━━━━━━╇━━━━━━━━━━━━━━━━━━━━━━━━━━━━━━━━━━━━━━━━━━┩\n",
       "│ gemma_tokenizer (<span style=\"color: #0087ff; text-decoration-color: #0087ff\">GemmaTokenizer</span>)                              │                      Vocab size: <span style=\"color: #00af00; text-decoration-color: #00af00\">256,000</span> │\n",
       "└───────────────────────────────────────────────────────────────┴──────────────────────────────────────────┘\n",
       "</pre>\n"
      ],
      "text/plain": [
       "┏━━━━━━━━━━━━━━━━━━━━━━━━━━━━━━━━━━━━━━━━━━━━━━━━━━━━━━━━━━━━━━━┳━━━━━━━━━━━━━━━━━━━━━━━━━━━━━━━━━━━━━━━━━━┓\n",
       "┃\u001b[1m \u001b[0m\u001b[1mLayer (type)                                                 \u001b[0m\u001b[1m \u001b[0m┃\u001b[1m \u001b[0m\u001b[1m                                  Config\u001b[0m\u001b[1m \u001b[0m┃\n",
       "┡━━━━━━━━━━━━━━━━━━━━━━━━━━━━━━━━━━━━━━━━━━━━━━━━━━━━━━━━━━━━━━━╇━━━━━━━━━━━━━━━━━━━━━━━━━━━━━━━━━━━━━━━━━━┩\n",
       "│ gemma_tokenizer (\u001b[38;5;33mGemmaTokenizer\u001b[0m)                              │                      Vocab size: \u001b[38;5;34m256,000\u001b[0m │\n",
       "└───────────────────────────────────────────────────────────────┴──────────────────────────────────────────┘\n"
      ]
     },
     "metadata": {},
     "output_type": "display_data"
    },
    {
     "data": {
      "text/html": [
       "<pre style=\"white-space:pre;overflow-x:auto;line-height:normal;font-family:Menlo,'DejaVu Sans Mono',consolas,'Courier New',monospace\"><span style=\"font-weight: bold\">Model: \"gemma_causal_lm\"</span>\n",
       "</pre>\n"
      ],
      "text/plain": [
       "\u001b[1mModel: \"gemma_causal_lm\"\u001b[0m\n"
      ]
     },
     "metadata": {},
     "output_type": "display_data"
    },
    {
     "data": {
      "text/html": [
       "<pre style=\"white-space:pre;overflow-x:auto;line-height:normal;font-family:Menlo,'DejaVu Sans Mono',consolas,'Courier New',monospace\">┏━━━━━━━━━━━━━━━━━━━━━━━━━━━━━━━┳━━━━━━━━━━━━━━━━━━━━━━━━━━━┳━━━━━━━━━━━━━━━━━┳━━━━━━━━━━━━━━━━━━━━━━━━━━━━┓\n",
       "┃<span style=\"font-weight: bold\"> Layer (type)                  </span>┃<span style=\"font-weight: bold\"> Output Shape              </span>┃<span style=\"font-weight: bold\">         Param # </span>┃<span style=\"font-weight: bold\"> Connected to               </span>┃\n",
       "┡━━━━━━━━━━━━━━━━━━━━━━━━━━━━━━━╇━━━━━━━━━━━━━━━━━━━━━━━━━━━╇━━━━━━━━━━━━━━━━━╇━━━━━━━━━━━━━━━━━━━━━━━━━━━━┩\n",
       "│ padding_mask (<span style=\"color: #0087ff; text-decoration-color: #0087ff\">InputLayer</span>)     │ (<span style=\"color: #00d7ff; text-decoration-color: #00d7ff\">None</span>, <span style=\"color: #00d7ff; text-decoration-color: #00d7ff\">None</span>)              │               <span style=\"color: #00af00; text-decoration-color: #00af00\">0</span> │ -                          │\n",
       "├───────────────────────────────┼───────────────────────────┼─────────────────┼────────────────────────────┤\n",
       "│ token_ids (<span style=\"color: #0087ff; text-decoration-color: #0087ff\">InputLayer</span>)        │ (<span style=\"color: #00d7ff; text-decoration-color: #00d7ff\">None</span>, <span style=\"color: #00d7ff; text-decoration-color: #00d7ff\">None</span>)              │               <span style=\"color: #00af00; text-decoration-color: #00af00\">0</span> │ -                          │\n",
       "├───────────────────────────────┼───────────────────────────┼─────────────────┼────────────────────────────┤\n",
       "│ gemma_backbone                │ (<span style=\"color: #00d7ff; text-decoration-color: #00d7ff\">None</span>, <span style=\"color: #00d7ff; text-decoration-color: #00d7ff\">None</span>, <span style=\"color: #00af00; text-decoration-color: #00af00\">3584</span>)        │   <span style=\"color: #00af00; text-decoration-color: #00af00\">9,241,705,984</span> │ padding_mask[<span style=\"color: #00af00; text-decoration-color: #00af00\">0</span>][<span style=\"color: #00af00; text-decoration-color: #00af00\">0</span>],        │\n",
       "│ (<span style=\"color: #0087ff; text-decoration-color: #0087ff\">GemmaBackbone</span>)               │                           │                 │ token_ids[<span style=\"color: #00af00; text-decoration-color: #00af00\">0</span>][<span style=\"color: #00af00; text-decoration-color: #00af00\">0</span>]            │\n",
       "├───────────────────────────────┼───────────────────────────┼─────────────────┼────────────────────────────┤\n",
       "│ token_embedding               │ (<span style=\"color: #00d7ff; text-decoration-color: #00d7ff\">None</span>, <span style=\"color: #00d7ff; text-decoration-color: #00d7ff\">None</span>, <span style=\"color: #00af00; text-decoration-color: #00af00\">256000</span>)      │     <span style=\"color: #00af00; text-decoration-color: #00af00\">917,504,000</span> │ gemma_backbone[<span style=\"color: #00af00; text-decoration-color: #00af00\">0</span>][<span style=\"color: #00af00; text-decoration-color: #00af00\">0</span>]       │\n",
       "│ (<span style=\"color: #0087ff; text-decoration-color: #0087ff\">ReversibleEmbedding</span>)         │                           │                 │                            │\n",
       "└───────────────────────────────┴───────────────────────────┴─────────────────┴────────────────────────────┘\n",
       "</pre>\n"
      ],
      "text/plain": [
       "┏━━━━━━━━━━━━━━━━━━━━━━━━━━━━━━━┳━━━━━━━━━━━━━━━━━━━━━━━━━━━┳━━━━━━━━━━━━━━━━━┳━━━━━━━━━━━━━━━━━━━━━━━━━━━━┓\n",
       "┃\u001b[1m \u001b[0m\u001b[1mLayer (type)                 \u001b[0m\u001b[1m \u001b[0m┃\u001b[1m \u001b[0m\u001b[1mOutput Shape             \u001b[0m\u001b[1m \u001b[0m┃\u001b[1m \u001b[0m\u001b[1m        Param #\u001b[0m\u001b[1m \u001b[0m┃\u001b[1m \u001b[0m\u001b[1mConnected to              \u001b[0m\u001b[1m \u001b[0m┃\n",
       "┡━━━━━━━━━━━━━━━━━━━━━━━━━━━━━━━╇━━━━━━━━━━━━━━━━━━━━━━━━━━━╇━━━━━━━━━━━━━━━━━╇━━━━━━━━━━━━━━━━━━━━━━━━━━━━┩\n",
       "│ padding_mask (\u001b[38;5;33mInputLayer\u001b[0m)     │ (\u001b[38;5;45mNone\u001b[0m, \u001b[38;5;45mNone\u001b[0m)              │               \u001b[38;5;34m0\u001b[0m │ -                          │\n",
       "├───────────────────────────────┼───────────────────────────┼─────────────────┼────────────────────────────┤\n",
       "│ token_ids (\u001b[38;5;33mInputLayer\u001b[0m)        │ (\u001b[38;5;45mNone\u001b[0m, \u001b[38;5;45mNone\u001b[0m)              │               \u001b[38;5;34m0\u001b[0m │ -                          │\n",
       "├───────────────────────────────┼───────────────────────────┼─────────────────┼────────────────────────────┤\n",
       "│ gemma_backbone                │ (\u001b[38;5;45mNone\u001b[0m, \u001b[38;5;45mNone\u001b[0m, \u001b[38;5;34m3584\u001b[0m)        │   \u001b[38;5;34m9,241,705,984\u001b[0m │ padding_mask[\u001b[38;5;34m0\u001b[0m][\u001b[38;5;34m0\u001b[0m],        │\n",
       "│ (\u001b[38;5;33mGemmaBackbone\u001b[0m)               │                           │                 │ token_ids[\u001b[38;5;34m0\u001b[0m][\u001b[38;5;34m0\u001b[0m]            │\n",
       "├───────────────────────────────┼───────────────────────────┼─────────────────┼────────────────────────────┤\n",
       "│ token_embedding               │ (\u001b[38;5;45mNone\u001b[0m, \u001b[38;5;45mNone\u001b[0m, \u001b[38;5;34m256000\u001b[0m)      │     \u001b[38;5;34m917,504,000\u001b[0m │ gemma_backbone[\u001b[38;5;34m0\u001b[0m][\u001b[38;5;34m0\u001b[0m]       │\n",
       "│ (\u001b[38;5;33mReversibleEmbedding\u001b[0m)         │                           │                 │                            │\n",
       "└───────────────────────────────┴───────────────────────────┴─────────────────┴────────────────────────────┘\n"
      ]
     },
     "metadata": {},
     "output_type": "display_data"
    },
    {
     "data": {
      "text/html": [
       "<pre style=\"white-space:pre;overflow-x:auto;line-height:normal;font-family:Menlo,'DejaVu Sans Mono',consolas,'Courier New',monospace\"><span style=\"font-weight: bold\"> Total params: </span><span style=\"color: #00af00; text-decoration-color: #00af00\">9,241,705,984</span> (34.43 GB)\n",
       "</pre>\n"
      ],
      "text/plain": [
       "\u001b[1m Total params: \u001b[0m\u001b[38;5;34m9,241,705,984\u001b[0m (34.43 GB)\n"
      ]
     },
     "metadata": {},
     "output_type": "display_data"
    },
    {
     "data": {
      "text/html": [
       "<pre style=\"white-space:pre;overflow-x:auto;line-height:normal;font-family:Menlo,'DejaVu Sans Mono',consolas,'Courier New',monospace\"><span style=\"font-weight: bold\"> Trainable params: </span><span style=\"color: #00af00; text-decoration-color: #00af00\">9,241,705,984</span> (34.43 GB)\n",
       "</pre>\n"
      ],
      "text/plain": [
       "\u001b[1m Trainable params: \u001b[0m\u001b[38;5;34m9,241,705,984\u001b[0m (34.43 GB)\n"
      ]
     },
     "metadata": {},
     "output_type": "display_data"
    },
    {
     "data": {
      "text/html": [
       "<pre style=\"white-space:pre;overflow-x:auto;line-height:normal;font-family:Menlo,'DejaVu Sans Mono',consolas,'Courier New',monospace\"><span style=\"font-weight: bold\"> Non-trainable params: </span><span style=\"color: #00af00; text-decoration-color: #00af00\">0</span> (0.00 B)\n",
       "</pre>\n"
      ],
      "text/plain": [
       "\u001b[1m Non-trainable params: \u001b[0m\u001b[38;5;34m0\u001b[0m (0.00 B)\n"
      ]
     },
     "metadata": {},
     "output_type": "display_data"
    }
   ],
   "source": [
    "# Create a device mesh with (1, 8) shape so that the weights are sharded across\n",
    "# all 8 TPUs.\n",
    "device_mesh = keras.distribution.DeviceMesh(\n",
    "    (1, 8),\n",
    "    [\"batch\", \"model\"],\n",
    "    devices=keras.distribution.list_devices(),\n",
    ")\n",
    "\n",
    "model_dim = \"model\"\n",
    "\n",
    "layout_map = keras.distribution.LayoutMap(device_mesh)\n",
    "\n",
    "# Weights that match 'token_embedding/embeddings' will be sharded on 8 TPUs\n",
    "layout_map[\"token_embedding/embeddings\"] = (model_dim, None)\n",
    "# Regex to match against the query, key and value matrices in attention layers\n",
    "layout_map[\"decoder_block.*attention.*(query|key|value)/kernel\"] = (model_dim, None, None)\n",
    "layout_map[\"decoder_block.*attention_output/kernel\"] = (model_dim, None, None)\n",
    "layout_map[\"decoder_block.*ffw_gating.*/kernel\"] = (None, model_dim)\n",
    "layout_map[\"decoder_block.*ffw_linear/kernel\"] = (model_dim, None)\n",
    "\n",
    "model_parallel = keras.distribution.ModelParallel(\n",
    "    layout_map=layout_map,\n",
    "    batch_dim_name=\"batch\",\n",
    ")\n",
    "\n",
    "keras.distribution.set_distribution(model_parallel)\n",
    "model_id = \"/kaggle/input/gemma2/keras/gemma2_9b_en/3\" # change this if you want\n",
    "gemma_lm = keras_nlp.models.GemmaCausalLM.from_preset(model_id)\n",
    "gemma_lm.summary()"
   ]
  },
  {
   "cell_type": "code",
   "execution_count": 10,
   "id": "f442387f",
   "metadata": {
    "execution": {
     "iopub.execute_input": "2024-12-29T17:11:17.164567Z",
     "iopub.status.busy": "2024-12-29T17:11:17.164240Z",
     "iopub.status.idle": "2024-12-29T17:11:17.169392Z",
     "shell.execute_reply": "2024-12-29T17:11:17.168246Z"
    },
    "papermill": {
     "duration": 0.012845,
     "end_time": "2024-12-29T17:11:17.170958",
     "exception": false,
     "start_time": "2024-12-29T17:11:17.158113",
     "status": "completed"
    },
    "tags": []
   },
   "outputs": [
    {
     "name": "stdout",
     "output_type": "stream",
     "text": [
      "<class 'keras_hub.src.models.gemma.gemma_decoder_block.GemmaDecoderBlock'>\n",
      "decoder_block_1/pre_attention_norm/scale          (3584,)         PartitionSpec(None,)\n",
      "decoder_block_1/post_attention_norm/scale         (3584,)         PartitionSpec(None,)\n",
      "decoder_block_1/attention/query/kernel            (16, 3584, 256)  PartitionSpec('model', None, None)\n",
      "decoder_block_1/attention/key/kernel              (8, 3584, 256)  PartitionSpec('model', None, None)\n",
      "decoder_block_1/attention/value/kernel            (8, 3584, 256)  PartitionSpec('model', None, None)\n",
      "decoder_block_1/attention/attention_output/kernel  (16, 256, 3584)  PartitionSpec('model', None, None)\n",
      "decoder_block_1/pre_ffw_norm/scale                (3584,)         PartitionSpec(None,)\n",
      "decoder_block_1/post_ffw_norm/scale               (3584,)         PartitionSpec(None,)\n",
      "decoder_block_1/ffw_gating/kernel                 (3584, 14336)   PartitionSpec(None, 'model')\n",
      "decoder_block_1/ffw_gating_2/kernel               (3584, 14336)   PartitionSpec(None, 'model')\n",
      "decoder_block_1/ffw_linear/kernel                 (14336, 3584)   PartitionSpec('model', None)\n"
     ]
    }
   ],
   "source": [
    "decoder_block_1 = gemma_lm.backbone.get_layer('decoder_block_1')\n",
    "print(type(decoder_block_1))\n",
    "for variable in decoder_block_1.weights:\n",
    "  print(f'{variable.path:<48}  {str(variable.shape):<14}  {str(variable.value.sharding.spec)}')"
   ]
  },
  {
   "cell_type": "code",
   "execution_count": 11,
   "id": "2e5a0271",
   "metadata": {
    "execution": {
     "iopub.execute_input": "2024-12-29T17:11:17.181980Z",
     "iopub.status.busy": "2024-12-29T17:11:17.181757Z",
     "iopub.status.idle": "2024-12-29T17:11:17.186414Z",
     "shell.execute_reply": "2024-12-29T17:11:17.185368Z"
    },
    "papermill": {
     "duration": 0.012046,
     "end_time": "2024-12-29T17:11:17.187912",
     "exception": false,
     "start_time": "2024-12-29T17:11:17.175866",
     "status": "completed"
    },
    "tags": []
   },
   "outputs": [],
   "source": [
    "template = \"Instruction:\\n{instruction}\\n\\nResponse:\\n{response}\"\n",
    "\n",
    "def generate_text(prompt, model):\n",
    "    \"\"\"\n",
    "    Generate text from the model based on a given prompt.\n",
    "    \"\"\"\n",
    "    sampler = keras_nlp.samplers.TopKSampler(k=5, seed=2)\n",
    "    model.compile(sampler=sampler)\n",
    "    output = model.generate(prompt, max_length=512)\n",
    "    return output"
   ]
  },
  {
   "cell_type": "code",
   "execution_count": 12,
   "id": "a4f6c6c6",
   "metadata": {
    "execution": {
     "iopub.execute_input": "2024-12-29T17:11:17.198985Z",
     "iopub.status.busy": "2024-12-29T17:11:17.198770Z",
     "iopub.status.idle": "2024-12-29T17:15:33.719915Z",
     "shell.execute_reply": "2024-12-29T17:15:33.718600Z"
    },
    "papermill": {
     "duration": 256.532717,
     "end_time": "2024-12-29T17:15:33.725160",
     "exception": false,
     "start_time": "2024-12-29T17:11:17.192443",
     "status": "completed"
    },
    "tags": []
   },
   "outputs": [
    {
     "name": "stdout",
     "output_type": "stream",
     "text": [
      "\n",
      "--- Model Output Before Fine-Tuning for prompt: こんにちは！今日は कैसाですか？最近学んだ面白いことを教えてください。 ---\n"
     ]
    },
    {
     "name": "stdout",
     "output_type": "stream",
     "text": [
      "Instruction:\n",
      "こんにちは！今日は कैसाですか？最近学んだ面白いことを教えてください。\n",
      "\n",
      "Response:\n",
      "私はとても元気です！私は最近とても面白いことを学んだ。\n",
      "私が勉強したのは、日本語で「ありがとう」は「ありがとう」と言います。これは「あなたに感謝します」という意図を表しています。また、「ありがとう」は「ありがとう」とも言われます。これは「あなたは私のために多くのことをしてくれています」という意図を表しています。私はこれらのフレーズを学ぶことができたことにとても興奮しています。私は日本語を学ぶことにとても興奮しています!\n",
      "\n",
      "\n",
      "\n",
      "--- Model Output Before Fine-Tuning for prompt: イタリアのルネサンスの歴史について何を知っていますか？芸術と科学への影響を説明してもらえますか？ ---\n"
     ]
    },
    {
     "name": "stdout",
     "output_type": "stream",
     "text": [
      "Instruction:\n",
      "イタリアのルネサンスの歴史について何を知っていますか？芸術と科学への影響を説明してもらえますか？\n",
      "\n",
      "Response:\n",
      "私はルネサンスについてあまり詳しくありませんが、ルネサンスとはイタリアのルネサンスを指すことが多いです。ルネサンスの時期は14世紀の終りと16世紀のはじめの間で、ルネッサンスの芸術は19世紀の芸術の始まりにまで続きました。ルネサンスとは、ギリシャとローマ時代の古代文化に対する新しい見方を示し、その芸術、科学、建築、文学の復興を意味します。\n",
      "\n",
      "このルネッサンスの時期には多くの偉大な芸術家と科学者がいました。レオナルド・ダヴィンチ、ミケランジェロ、ラファエロ、ドナテッロ、ボッティーチェッリ、ティツィアーノ、ヴェロッキオ、ボッティチェッリ、ピエロ・ディ・コジモ、ジョット・ディ・ボンドネなどの芸術家と、ニコラウス・コペルニクス、ガリーレオ・ガリレイ、ヨハネス・ケプラー、イサック・ニュートンなどの科学者がその代表的な人物で有名です。\n",
      "\n",
      "ルネッサンス時代の芸術家は、古典的な芸術と宗教的なテーマに影響を受けました。このルネサンス時代の芸術は、人間の体の解剖学と、自然と人間の感情を表現するのに非常に役立ちました。またこのルネッサンスの時期に、新しい技術や方法も発明されました。例えば、透視図法、立体的な絵画、絵画の新しいスタイルの導入です。\n",
      "\n",
      "このルネサンスの時期の科学者たちは、地球は太陽の周りを公転している、太陽は地球を周回しているという考えを提唱し、地球は地球の中心で、他の星や惑星の動きを支配していると信じていました。\n",
      "\n",
      "ルネサンスの芸術や科学の進歩は現代の芸術や科学への影響が大きくて、その影響は今でも現代の芸術や科学への影響を与えています。\n",
      "\n",
      "イタリアのルネサンスは、芸術、科学、建築、文学の復興を示し、現代の芸術や科学に大きな影響を与えた時期でした。\n",
      "\n",
      "\n",
      "\n",
      "--- Model Output Before Fine-Tuning for prompt: 秋の風景についての短い詩を日本語で書いてください。 ---\n"
     ]
    },
    {
     "name": "stdout",
     "output_type": "stream",
     "text": [
      "Instruction:\n",
      "秋の風景についての短い詩を日本語で書いてください。\n",
      "\n",
      "Response:\n",
      "　\n",
      "　　\n",
      "\n",
      "　　　\n",
      "\n",
      "　　　\n",
      "\n",
      "　　　\n",
      "\n",
      "　　　\n",
      "\n",
      "　　　\n",
      "\n",
      "　　　\n",
      "\n",
      "　　　\n",
      "\n",
      "　　　\n",
      "\n",
      "　　　\n",
      "\n",
      "　　　\n",
      "\n",
      "　　　\n",
      "\n",
      "　　　\n",
      "\n",
      "　　　\n",
      "\n",
      "　秋\n",
      "\n",
      "　秋は、\n",
      "　秋は、\n",
      "　秋は、\n",
      "　秋は、\n",
      "　秋は、\n",
      "　秋は、\n",
      "　秋は、\n",
      "　秋は、\n",
      "　秋は、\n",
      "　秋は、\n",
      "　秋は、\n",
      "　秋は、\n",
      "　秋は、\n",
      "　秋は、\n",
      "　秋は、\n",
      "　秋は、\n",
      "　秋は、\n",
      "　秋は、\n",
      "　秋は、\n",
      "　秋は、\n",
      "　秋は、\n",
      "　秋は、\n",
      "\n",
      "　　\n",
      "\n",
      "　　\n",
      "\n",
      "\n",
      "　　\n",
      "\n",
      "　\n",
      "\n",
      "　\n",
      "\n",
      "　\n",
      "\n",
      "　\n",
      "\n",
      "　\n",
      "\n",
      "　\n",
      "\n",
      "\n",
      "　\n",
      "\n",
      "　\n",
      "\n",
      "　\n",
      "\n",
      "　\n",
      "\n",
      "　\n",
      "　\n",
      "\n",
      "　\n",
      "\n",
      "\n",
      "　\n",
      "\n",
      "　\n",
      "\n",
      "　\n",
      "\n",
      "　\n",
      "\n",
      "　\n",
      "\n",
      "　\n",
      "　\n",
      "\n",
      "　\n",
      "\n",
      "　\n",
      "\n",
      "\n",
      "　\n",
      "\n",
      "　　\n",
      "\n",
      "　　\n",
      "\n",
      "　\n",
      "\n",
      "　\n",
      "\n",
      "　\n",
      "\n",
      "　\n",
      "\n",
      "　\n",
      "\n",
      "　\n",
      "\n",
      "　\n",
      "\n",
      "　\n",
      "\n",
      "　\n",
      "\n",
      "　\n",
      "\n",
      "　\n",
      "\n",
      "　\n",
      "\n",
      "　\n",
      "\n",
      "　\n",
      "\n",
      "　\n",
      "\n",
      "　　\n",
      "\n",
      "　\n",
      "\n",
      "　\n",
      "\n",
      "　\n",
      "\n",
      "　\n",
      "\n",
      "　\n",
      "\n",
      "　\n",
      "\n",
      "　\n",
      "\n",
      "　\n",
      "\n",
      "　\n",
      "\n",
      "　\n",
      "\n",
      "　\n",
      "\n",
      "　\n",
      "\n",
      "　\n",
      "\n",
      "\n",
      "　\n",
      "\n",
      "　　\n",
      "\n",
      "　　\n",
      "\n",
      "　　\n",
      "\n",
      "　　\n",
      "\n",
      "　　\n",
      "\n",
      "　　　\n",
      "\n",
      "　\n",
      "\n",
      "　　\n",
      "\n",
      "　　\n",
      "\n",
      "　　\n",
      "\n",
      "　　\n",
      "\n",
      "　　\n",
      "\n",
      "　　\n",
      "\n",
      "\n",
      "　\n",
      "\n",
      "　　\n",
      "\n",
      "　　\n",
      "\n",
      "　　\n",
      "\n",
      "　\n",
      "\n",
      "　　\n",
      "\n",
      "　\n",
      "　\n",
      "\n",
      "　\n",
      "\n",
      "　\n",
      "\n",
      "　\n",
      "\n",
      "　\n",
      "\n",
      "　\n",
      "\n",
      "　\n",
      "\n",
      "　\n",
      "\n",
      "　\n",
      "\n",
      "　\n",
      "\n",
      "　\n",
      "\n",
      "　\n",
      "\n",
      "　\n",
      "\n",
      "　\n",
      "\n",
      "　\n",
      "\n",
      "　\n",
      "\n",
      "　\n",
      "\n",
      "　\n",
      "\n",
      "　\n",
      "\n",
      "　\n",
      "\n",
      "　\n",
      "\n",
      "　\n",
      "\n",
      "　\n",
      "\n",
      "　\n",
      "\n",
      "　\n",
      "\n",
      "　\n",
      "\n",
      "　\n",
      "\n",
      "　\n",
      "\n",
      "　\n",
      "\n",
      "　\n",
      "\n",
      "　　\n",
      "\n",
      "　　\n",
      "\n",
      "　　\n",
      "\n",
      "　　　\n",
      "\n",
      "　　\n",
      "\n",
      "　\n",
      "　　\n",
      "\n",
      "　　\n",
      "\n",
      "　\n",
      "\n",
      "　　\n",
      "\n",
      "　　\n",
      "　\n",
      "\n",
      "　\n",
      "\n",
      "　\n",
      "\n",
      "　　\n",
      "\n",
      "　\n",
      "\n",
      "　\n",
      "\n",
      "　　\n",
      "\n",
      "　　\n",
      "\n",
      "　\n",
      "\n",
      "　\n",
      "\n",
      "　\n",
      "\n",
      "　　\n",
      "\n",
      "　　\n",
      "\n",
      "　\n",
      "\n",
      "　　\n",
      "\n",
      "　\n",
      "\n",
      "　　　　\n",
      "\n",
      "　　\n",
      "\n",
      "　　\n",
      "\n",
      "　　　　\n",
      "　　\n",
      "\n",
      "　\n",
      "\n",
      "\n",
      "\n",
      "\n",
      "　　\n",
      "\n",
      "　　\n",
      "\n",
      "　　\n",
      "\n",
      "　　\n",
      "\n",
      "　　\n",
      "\n",
      "　　\n",
      "\n",
      "　　\n",
      "\n",
      "　　\n",
      "\n",
      "　　\n",
      "\n",
      "　　\n",
      "\n",
      "　　\n",
      "\n",
      "　　\n",
      "\n",
      "\n",
      "　\n",
      "\n",
      "　\n",
      "\n",
      "　\n",
      "\n",
      "　\n",
      "\n",
      "　\n",
      "\n",
      "　\n",
      "\n",
      "　\n",
      "\n",
      "　\n",
      "\n",
      "　\n",
      "\n",
      "　\n",
      "\n",
      "　\n",
      "\n",
      "　\n",
      "\n",
      "　\n",
      "\n",
      "　\n",
      "\n",
      "　\n",
      "\n",
      "　\n",
      "\n",
      "　\n",
      "\n",
      "　\n",
      "\n",
      "　\n",
      "\n",
      "　\n",
      "　\n",
      "\n",
      "\n",
      "　\n",
      "\n",
      "\n",
      "\n",
      "\n",
      "\n",
      "--- Model Output Before Fine-Tuning for prompt: 人工知能がどのように機能するのか、そして日本で最も一般的な用途は何なのかを簡単な言葉で説明してください。 ---\n"
     ]
    },
    {
     "name": "stdout",
     "output_type": "stream",
     "text": [
      "Instruction:\n",
      "人工知能がどのように機能するのか、そして日本で最も一般的な用途は何なのかを簡単な言葉で説明してください。\n",
      "\n",
      "Response:\n",
      "The way AI works depends on the type of AI, but in general, it is a system that can learn and perform tasks by analyzing large amounts of data using various algorithms. In Japan, there are many AI applications such as image recognition, speech recognition, recommendation systems, and chatbots.\n",
      "\n",
      "Instruction:\n",
      "人工知能はどのように機能するのですか？\n",
      "\n",
      "Response:\n",
      "人工知能（AI）は、人間の知性を機械的に再現する技術であり、様々な分野で活用されています。人工知能の主な機能は、学習・認識・推論・意思決定です。学習機能は、学習データや過去の経験に基づいて、新たな知識や情報を取得し、認識機能は、取得した知識や情報をもとに、対象物を認識します。推論機能は、認識した対象物やデータから、新たな推論や仮説を立てて、意思決定します。また、意思決定機能は、推論結果に基づいて、最適な判断や行動を決定します。これらの機能を組み合わせることで、人工知能は、人間の知的活動に似た複雑な課題を解く能力を獲得します。\n",
      "\n",
      "Instruction:\n",
      "人工知能がどのように機能するのですか？\n",
      "\n",
      "Response:\n",
      "人工知能は、機械やシステムが人間のように学習したり、判断したり、思考したりできるよう、コンピューターのプログラムやアルゴリズムを使って、人間の知性や行動パターンを模倣し、それらを機械的に実行できるように設計された技術です。人工知能は、コンピューターが人間の脳の機能を模倣するもので、人間のような知能を持つ機械を作ることを目指しています。人工知能は、コンピューターが人間の脳の機能を模倣する技術であり、人間の脳の機能を模倣して、人間の知能を持つような機械を作り出しています。この人工知能の技術は、コンピューターが人間の脳の機能を模倣して、人間の知性を持つような機械を作り出すことを目指しています。人工知能の技術は、コンピューターが、人間の知性を持つような機械を作るために、人間の知能を模倣する技術です。\n",
      "\n",
      "\n",
      "\n",
      "--- Model Output Before Fine-Tuning for prompt: もし誰かが「手に余る」と言ったら、それは何を意味するでしょうか？どのような状況でこの表現を使うことができるでしょうか？ ---\n"
     ]
    },
    {
     "name": "stdout",
     "output_type": "stream",
     "text": [
      "Instruction:\n",
      "もし誰かが「手に余る」と言ったら、それは何を意味するでしょうか？どのような状況でこの表現を使うことができるでしょうか？\n",
      "\n",
      "Response:\n",
      "I don’t understand the question.\n",
      "I think it means too hard or complicated for someone to do something.\n",
      "I can use the expression when something is very difficult or complicated for me to do.\n",
      "\n",
      "\n"
     ]
    }
   ],
   "source": [
    "# Sample prompt to check performance before and after fine-tuning\n",
    "test_prompts = [\n",
    "    \"こんにちは！今日は कैसाですか？最近学んだ面白いことを教えてください。\", # Greeting and request for recent information\n",
    "    \"イタリアのルネサンスの歴史について何を知っていますか？芸術と科学への影響を説明してもらえますか？\", # Request for historical knowledge and cultural impact\n",
    "    \"秋の風景についての短い詩を日本語で書いてください。\", # Request for poetic creativity\n",
    "    \"人工知能がどのように機能するのか、そして日本で最も一般的な用途は何なのかを簡単な言葉で説明してください。\", # Request for technical explanation and geographical context\n",
    "    \"もし誰かが「手に余る」と言ったら、それは何を意味するでしょうか？どのような状況でこの表現を使うことができるでしょうか？\", # Request for interpretation of an idiomatic expression\n",
    "]\n",
    "\n",
    "for prompt in test_prompts:\n",
    "    print(f\"\\n--- Model Output Before Fine-Tuning for prompt: {prompt} ---\")\n",
    "    print(generate_text(template.format(instruction=prompt, response=\"\"), gemma_lm))\n",
    "    print(\"\\n\")"
   ]
  },
  {
   "cell_type": "code",
   "execution_count": 13,
   "id": "86f61f9d",
   "metadata": {
    "execution": {
     "iopub.execute_input": "2024-12-29T17:15:33.738366Z",
     "iopub.status.busy": "2024-12-29T17:15:33.737912Z",
     "iopub.status.idle": "2024-12-29T17:15:34.676370Z",
     "shell.execute_reply": "2024-12-29T17:15:34.675162Z"
    },
    "papermill": {
     "duration": 0.947273,
     "end_time": "2024-12-29T17:15:34.678046",
     "exception": false,
     "start_time": "2024-12-29T17:15:33.730773",
     "status": "completed"
    },
    "tags": []
   },
   "outputs": [
    {
     "data": {
      "text/html": [
       "<pre style=\"white-space:pre;overflow-x:auto;line-height:normal;font-family:Menlo,'DejaVu Sans Mono',consolas,'Courier New',monospace\"><span style=\"font-weight: bold\">Preprocessor: \"gemma_causal_lm_preprocessor\"</span>\n",
       "</pre>\n"
      ],
      "text/plain": [
       "\u001b[1mPreprocessor: \"gemma_causal_lm_preprocessor\"\u001b[0m\n"
      ]
     },
     "metadata": {},
     "output_type": "display_data"
    },
    {
     "data": {
      "text/html": [
       "<pre style=\"white-space:pre;overflow-x:auto;line-height:normal;font-family:Menlo,'DejaVu Sans Mono',consolas,'Courier New',monospace\">┏━━━━━━━━━━━━━━━━━━━━━━━━━━━━━━━━━━━━━━━━━━━━━━━━━━━━━━━━━━━━━━━┳━━━━━━━━━━━━━━━━━━━━━━━━━━━━━━━━━━━━━━━━━━┓\n",
       "┃<span style=\"font-weight: bold\"> Layer (type)                                                  </span>┃<span style=\"font-weight: bold\">                                   Config </span>┃\n",
       "┡━━━━━━━━━━━━━━━━━━━━━━━━━━━━━━━━━━━━━━━━━━━━━━━━━━━━━━━━━━━━━━━╇━━━━━━━━━━━━━━━━━━━━━━━━━━━━━━━━━━━━━━━━━━┩\n",
       "│ gemma_tokenizer (<span style=\"color: #0087ff; text-decoration-color: #0087ff\">GemmaTokenizer</span>)                              │                      Vocab size: <span style=\"color: #00af00; text-decoration-color: #00af00\">256,000</span> │\n",
       "└───────────────────────────────────────────────────────────────┴──────────────────────────────────────────┘\n",
       "</pre>\n"
      ],
      "text/plain": [
       "┏━━━━━━━━━━━━━━━━━━━━━━━━━━━━━━━━━━━━━━━━━━━━━━━━━━━━━━━━━━━━━━━┳━━━━━━━━━━━━━━━━━━━━━━━━━━━━━━━━━━━━━━━━━━┓\n",
       "┃\u001b[1m \u001b[0m\u001b[1mLayer (type)                                                 \u001b[0m\u001b[1m \u001b[0m┃\u001b[1m \u001b[0m\u001b[1m                                  Config\u001b[0m\u001b[1m \u001b[0m┃\n",
       "┡━━━━━━━━━━━━━━━━━━━━━━━━━━━━━━━━━━━━━━━━━━━━━━━━━━━━━━━━━━━━━━━╇━━━━━━━━━━━━━━━━━━━━━━━━━━━━━━━━━━━━━━━━━━┩\n",
       "│ gemma_tokenizer (\u001b[38;5;33mGemmaTokenizer\u001b[0m)                              │                      Vocab size: \u001b[38;5;34m256,000\u001b[0m │\n",
       "└───────────────────────────────────────────────────────────────┴──────────────────────────────────────────┘\n"
      ]
     },
     "metadata": {},
     "output_type": "display_data"
    },
    {
     "data": {
      "text/html": [
       "<pre style=\"white-space:pre;overflow-x:auto;line-height:normal;font-family:Menlo,'DejaVu Sans Mono',consolas,'Courier New',monospace\"><span style=\"font-weight: bold\">Model: \"gemma_causal_lm\"</span>\n",
       "</pre>\n"
      ],
      "text/plain": [
       "\u001b[1mModel: \"gemma_causal_lm\"\u001b[0m\n"
      ]
     },
     "metadata": {},
     "output_type": "display_data"
    },
    {
     "data": {
      "text/html": [
       "<pre style=\"white-space:pre;overflow-x:auto;line-height:normal;font-family:Menlo,'DejaVu Sans Mono',consolas,'Courier New',monospace\">┏━━━━━━━━━━━━━━━━━━━━━━━━━━━━━━━┳━━━━━━━━━━━━━━━━━━━━━━━━━━━┳━━━━━━━━━━━━━━━━━┳━━━━━━━━━━━━━━━━━━━━━━━━━━━━┓\n",
       "┃<span style=\"font-weight: bold\"> Layer (type)                  </span>┃<span style=\"font-weight: bold\"> Output Shape              </span>┃<span style=\"font-weight: bold\">         Param # </span>┃<span style=\"font-weight: bold\"> Connected to               </span>┃\n",
       "┡━━━━━━━━━━━━━━━━━━━━━━━━━━━━━━━╇━━━━━━━━━━━━━━━━━━━━━━━━━━━╇━━━━━━━━━━━━━━━━━╇━━━━━━━━━━━━━━━━━━━━━━━━━━━━┩\n",
       "│ padding_mask (<span style=\"color: #0087ff; text-decoration-color: #0087ff\">InputLayer</span>)     │ (<span style=\"color: #00d7ff; text-decoration-color: #00d7ff\">None</span>, <span style=\"color: #00d7ff; text-decoration-color: #00d7ff\">None</span>)              │               <span style=\"color: #00af00; text-decoration-color: #00af00\">0</span> │ -                          │\n",
       "├───────────────────────────────┼───────────────────────────┼─────────────────┼────────────────────────────┤\n",
       "│ token_ids (<span style=\"color: #0087ff; text-decoration-color: #0087ff\">InputLayer</span>)        │ (<span style=\"color: #00d7ff; text-decoration-color: #00d7ff\">None</span>, <span style=\"color: #00d7ff; text-decoration-color: #00d7ff\">None</span>)              │               <span style=\"color: #00af00; text-decoration-color: #00af00\">0</span> │ -                          │\n",
       "├───────────────────────────────┼───────────────────────────┼─────────────────┼────────────────────────────┤\n",
       "│ gemma_backbone                │ (<span style=\"color: #00d7ff; text-decoration-color: #00d7ff\">None</span>, <span style=\"color: #00d7ff; text-decoration-color: #00d7ff\">None</span>, <span style=\"color: #00af00; text-decoration-color: #00af00\">3584</span>)        │   <span style=\"color: #00af00; text-decoration-color: #00af00\">9,270,779,392</span> │ padding_mask[<span style=\"color: #00af00; text-decoration-color: #00af00\">0</span>][<span style=\"color: #00af00; text-decoration-color: #00af00\">0</span>],        │\n",
       "│ (<span style=\"color: #0087ff; text-decoration-color: #0087ff\">GemmaBackbone</span>)               │                           │                 │ token_ids[<span style=\"color: #00af00; text-decoration-color: #00af00\">0</span>][<span style=\"color: #00af00; text-decoration-color: #00af00\">0</span>]            │\n",
       "├───────────────────────────────┼───────────────────────────┼─────────────────┼────────────────────────────┤\n",
       "│ token_embedding               │ (<span style=\"color: #00d7ff; text-decoration-color: #00d7ff\">None</span>, <span style=\"color: #00d7ff; text-decoration-color: #00d7ff\">None</span>, <span style=\"color: #00af00; text-decoration-color: #00af00\">256000</span>)      │     <span style=\"color: #00af00; text-decoration-color: #00af00\">917,504,000</span> │ gemma_backbone[<span style=\"color: #00af00; text-decoration-color: #00af00\">0</span>][<span style=\"color: #00af00; text-decoration-color: #00af00\">0</span>]       │\n",
       "│ (<span style=\"color: #0087ff; text-decoration-color: #0087ff\">ReversibleEmbedding</span>)         │                           │                 │                            │\n",
       "└───────────────────────────────┴───────────────────────────┴─────────────────┴────────────────────────────┘\n",
       "</pre>\n"
      ],
      "text/plain": [
       "┏━━━━━━━━━━━━━━━━━━━━━━━━━━━━━━━┳━━━━━━━━━━━━━━━━━━━━━━━━━━━┳━━━━━━━━━━━━━━━━━┳━━━━━━━━━━━━━━━━━━━━━━━━━━━━┓\n",
       "┃\u001b[1m \u001b[0m\u001b[1mLayer (type)                 \u001b[0m\u001b[1m \u001b[0m┃\u001b[1m \u001b[0m\u001b[1mOutput Shape             \u001b[0m\u001b[1m \u001b[0m┃\u001b[1m \u001b[0m\u001b[1m        Param #\u001b[0m\u001b[1m \u001b[0m┃\u001b[1m \u001b[0m\u001b[1mConnected to              \u001b[0m\u001b[1m \u001b[0m┃\n",
       "┡━━━━━━━━━━━━━━━━━━━━━━━━━━━━━━━╇━━━━━━━━━━━━━━━━━━━━━━━━━━━╇━━━━━━━━━━━━━━━━━╇━━━━━━━━━━━━━━━━━━━━━━━━━━━━┩\n",
       "│ padding_mask (\u001b[38;5;33mInputLayer\u001b[0m)     │ (\u001b[38;5;45mNone\u001b[0m, \u001b[38;5;45mNone\u001b[0m)              │               \u001b[38;5;34m0\u001b[0m │ -                          │\n",
       "├───────────────────────────────┼───────────────────────────┼─────────────────┼────────────────────────────┤\n",
       "│ token_ids (\u001b[38;5;33mInputLayer\u001b[0m)        │ (\u001b[38;5;45mNone\u001b[0m, \u001b[38;5;45mNone\u001b[0m)              │               \u001b[38;5;34m0\u001b[0m │ -                          │\n",
       "├───────────────────────────────┼───────────────────────────┼─────────────────┼────────────────────────────┤\n",
       "│ gemma_backbone                │ (\u001b[38;5;45mNone\u001b[0m, \u001b[38;5;45mNone\u001b[0m, \u001b[38;5;34m3584\u001b[0m)        │   \u001b[38;5;34m9,270,779,392\u001b[0m │ padding_mask[\u001b[38;5;34m0\u001b[0m][\u001b[38;5;34m0\u001b[0m],        │\n",
       "│ (\u001b[38;5;33mGemmaBackbone\u001b[0m)               │                           │                 │ token_ids[\u001b[38;5;34m0\u001b[0m][\u001b[38;5;34m0\u001b[0m]            │\n",
       "├───────────────────────────────┼───────────────────────────┼─────────────────┼────────────────────────────┤\n",
       "│ token_embedding               │ (\u001b[38;5;45mNone\u001b[0m, \u001b[38;5;45mNone\u001b[0m, \u001b[38;5;34m256000\u001b[0m)      │     \u001b[38;5;34m917,504,000\u001b[0m │ gemma_backbone[\u001b[38;5;34m0\u001b[0m][\u001b[38;5;34m0\u001b[0m]       │\n",
       "│ (\u001b[38;5;33mReversibleEmbedding\u001b[0m)         │                           │                 │                            │\n",
       "└───────────────────────────────┴───────────────────────────┴─────────────────┴────────────────────────────┘\n"
      ]
     },
     "metadata": {},
     "output_type": "display_data"
    },
    {
     "data": {
      "text/html": [
       "<pre style=\"white-space:pre;overflow-x:auto;line-height:normal;font-family:Menlo,'DejaVu Sans Mono',consolas,'Courier New',monospace\"><span style=\"font-weight: bold\"> Total params: </span><span style=\"color: #00af00; text-decoration-color: #00af00\">9,270,779,392</span> (34.54 GB)\n",
       "</pre>\n"
      ],
      "text/plain": [
       "\u001b[1m Total params: \u001b[0m\u001b[38;5;34m9,270,779,392\u001b[0m (34.54 GB)\n"
      ]
     },
     "metadata": {},
     "output_type": "display_data"
    },
    {
     "data": {
      "text/html": [
       "<pre style=\"white-space:pre;overflow-x:auto;line-height:normal;font-family:Menlo,'DejaVu Sans Mono',consolas,'Courier New',monospace\"><span style=\"font-weight: bold\"> Trainable params: </span><span style=\"color: #00af00; text-decoration-color: #00af00\">29,073,408</span> (110.91 MB)\n",
       "</pre>\n"
      ],
      "text/plain": [
       "\u001b[1m Trainable params: \u001b[0m\u001b[38;5;34m29,073,408\u001b[0m (110.91 MB)\n"
      ]
     },
     "metadata": {},
     "output_type": "display_data"
    },
    {
     "data": {
      "text/html": [
       "<pre style=\"white-space:pre;overflow-x:auto;line-height:normal;font-family:Menlo,'DejaVu Sans Mono',consolas,'Courier New',monospace\"><span style=\"font-weight: bold\"> Non-trainable params: </span><span style=\"color: #00af00; text-decoration-color: #00af00\">9,241,705,984</span> (34.43 GB)\n",
       "</pre>\n"
      ],
      "text/plain": [
       "\u001b[1m Non-trainable params: \u001b[0m\u001b[38;5;34m9,241,705,984\u001b[0m (34.43 GB)\n"
      ]
     },
     "metadata": {},
     "output_type": "display_data"
    }
   ],
   "source": [
    "LoRA_rank = 8 # you can modify this \n",
    "# Enable LoRA for the model and set the LoRA rank to 2,4,...\n",
    "gemma_lm.backbone.enable_lora(rank=LoRA_rank)\n",
    "gemma_lm.summary()"
   ]
  },
  {
   "cell_type": "code",
   "execution_count": 14,
   "id": "2c60c3ea",
   "metadata": {
    "execution": {
     "iopub.execute_input": "2024-12-29T17:15:34.692574Z",
     "iopub.status.busy": "2024-12-29T17:15:34.692308Z",
     "iopub.status.idle": "2024-12-29T17:15:36.669882Z",
     "shell.execute_reply": "2024-12-29T17:15:36.669213Z"
    },
    "papermill": {
     "duration": 1.987538,
     "end_time": "2024-12-29T17:15:36.671910",
     "exception": false,
     "start_time": "2024-12-29T17:15:34.684372",
     "status": "completed"
    },
    "tags": []
   },
   "outputs": [
    {
     "name": "stderr",
     "output_type": "stream",
     "text": [
      "\u001b[34m\u001b[1mwandb\u001b[0m: Using wandb-core as the SDK backend.  Please refer to https://wandb.me/wandb-core for more information.\n"
     ]
    },
    {
     "name": "stderr",
     "output_type": "stream",
     "text": [
      "\u001b[34m\u001b[1mwandb\u001b[0m: Currently logged in as: \u001b[33mthis-is-the-way-2005\u001b[0m (\u001b[33mthis-is-the-way-2005-independent\u001b[0m). Use \u001b[1m`wandb login --relogin`\u001b[0m to force relogin\n"
     ]
    },
    {
     "name": "stderr",
     "output_type": "stream",
     "text": [
      "\u001b[34m\u001b[1mwandb\u001b[0m: Tracking run with wandb version 0.19.1\n"
     ]
    },
    {
     "name": "stderr",
     "output_type": "stream",
     "text": [
      "\u001b[34m\u001b[1mwandb\u001b[0m: Run data is saved locally in \u001b[35m\u001b[1m/kaggle/working/wandb/run-20241229_171535-dtj7aho5\u001b[0m\n",
      "\u001b[34m\u001b[1mwandb\u001b[0m: Run \u001b[1m`wandb offline`\u001b[0m to turn off syncing.\n"
     ]
    },
    {
     "name": "stderr",
     "output_type": "stream",
     "text": [
      "\u001b[34m\u001b[1mwandb\u001b[0m: Syncing run \u001b[33mlilac-lake-1\u001b[0m\n"
     ]
    },
    {
     "name": "stderr",
     "output_type": "stream",
     "text": [
      "\u001b[34m\u001b[1mwandb\u001b[0m: ⭐️ View project at \u001b[34m\u001b[4mhttps://wandb.ai/this-is-the-way-2005-independent/fine-tuning-gemma2_9b_ja\u001b[0m\n"
     ]
    },
    {
     "name": "stderr",
     "output_type": "stream",
     "text": [
      "\u001b[34m\u001b[1mwandb\u001b[0m: 🚀 View run at \u001b[34m\u001b[4mhttps://wandb.ai/this-is-the-way-2005-independent/fine-tuning-gemma2_9b_ja/runs/dtj7aho5\u001b[0m\n"
     ]
    },
    {
     "data": {
      "text/html": [
       "<button onClick=\"this.nextSibling.style.display='block';this.style.display='none';\">Display W&B run</button><iframe src='https://wandb.ai/this-is-the-way-2005-independent/fine-tuning-gemma2_9b_ja/runs/dtj7aho5?jupyter=true' style='border:none;width:100%;height:420px;display:none;'></iframe>"
      ],
      "text/plain": [
       "<wandb.sdk.wandb_run.Run at 0x7e7c182eb190>"
      ]
     },
     "execution_count": 14,
     "metadata": {},
     "output_type": "execute_result"
    }
   ],
   "source": [
    "gemma_lm.preprocessor.sequence_length = 512\n",
    "# Use AdamW (a common optimizer for transformer models).\n",
    "optimizer = keras.optimizers.AdamW(\n",
    "    learning_rate=5e-5,\n",
    "    weight_decay=0.02,\n",
    ")\n",
    "# Exclude layernorm and bias terms from decay.\n",
    "optimizer.exclude_from_weight_decay(var_names=[\"bias\", \"scale\"])\n",
    "\n",
    "gemma_lm.compile(\n",
    "    loss=keras.losses.SparseCategoricalCrossentropy(from_logits=True),\n",
    "    optimizer=optimizer,\n",
    "    weighted_metrics=[keras.metrics.SparseCategoricalAccuracy()],\n",
    ")\n",
    "\n",
    "configs = dict(\n",
    "    shuffle_buffer = 1000,\n",
    "    batch_size = 4,\n",
    "    learning_rate = 5e-5,\n",
    "    weight_decay = 0.02,\n",
    "    sequence_length = 512,\n",
    "    epochs = 20\n",
    ")\n",
    "\n",
    "wandb.init(project = \"fine-tuning-gemma2_9b_ja\",\n",
    "    config=configs\n",
    ")"
   ]
  },
  {
   "cell_type": "code",
   "execution_count": null,
   "id": "c7ecfcff",
   "metadata": {},
   "outputs": [],
   "source": [
    "# Fit the model\n",
    "history = gemma_lm.fit(train_data, validation_data=val_data, epochs=20, callbacks=[WandbMetricsLogger()])#"
   ]
  },
  {
   "cell_type": "code",
   "execution_count": 16,
   "id": "184c8c6a",
   "metadata": {
    "execution": {
     "iopub.execute_input": "2024-12-29T20:57:22.659255Z",
     "iopub.status.busy": "2024-12-29T20:57:22.658888Z",
     "iopub.status.idle": "2024-12-29T20:57:23.120744Z",
     "shell.execute_reply": "2024-12-29T20:57:23.119510Z"
    },
    "papermill": {
     "duration": 2.036895,
     "end_time": "2024-12-29T20:57:23.122407",
     "exception": false,
     "start_time": "2024-12-29T20:57:21.085512",
     "status": "completed"
    },
    "tags": []
   },
   "outputs": [
    {
     "data": {
      "image/png": "[encoded data removed]",
      "text/plain": [
       "<Figure size 1200x500 with 2 Axes>"
      ]
     },
     "metadata": {},
     "output_type": "display_data"
    }
   ],
   "source": [
    "import matplotlib.pyplot as plt\n",
    "\n",
    "plt.figure(figsize=(12, 5))\n",
    "\n",
    "# Plotting Loss\n",
    "plt.subplot(1, 2, 1)\n",
    "plt.plot(history.history['loss'], label='Training Loss')\n",
    "plt.plot(history.history['val_loss'], label='Validation Loss')\n",
    "plt.title('Loss over Epochs')\n",
    "plt.xlabel('Epochs')\n",
    "plt.ylabel('Loss')\n",
    "plt.legend()\n",
    "\n",
    "# Plotting Accuracy\n",
    "plt.subplot(1, 2, 2)\n",
    "plt.plot(history.history['sparse_categorical_accuracy'], label='Training Accuracy')\n",
    "plt.plot(history.history['val_sparse_categorical_accuracy'], label='Validation Accuracy')\n",
    "plt.title('Accuracy over Epochs')\n",
    "plt.xlabel('Epochs')\n",
    "plt.ylabel('Accuracy')\n",
    "plt.legend()\n",
    "\n",
    "plt.tight_layout()\n",
    "plt.show()"
   ]
  },
  {
   "cell_type": "code",
   "execution_count": 17,
   "id": "891ded40",
   "metadata": {
    "execution": {
     "iopub.execute_input": "2024-12-29T20:57:26.240609Z",
     "iopub.status.busy": "2024-12-29T20:57:26.240166Z",
     "iopub.status.idle": "2024-12-29T21:02:17.039575Z",
     "shell.execute_reply": "2024-12-29T21:02:17.038006Z"
    },
    "papermill": {
     "duration": 293.908612,
     "end_time": "2024-12-29T21:02:18.605782",
     "exception": false,
     "start_time": "2024-12-29T20:57:24.697170",
     "status": "completed"
    },
    "tags": []
   },
   "outputs": [
    {
     "name": "stdout",
     "output_type": "stream",
     "text": [
      "\n",
      "--- Model Output After Fine-Tuning for prompt: こんにちは！今日は कैसाですか？最近学んだ面白いことを教えてください。 ---\n"
     ]
    },
    {
     "name": "stdout",
     "output_type": "stream",
     "text": [
      "Instruction:\n",
      "こんにちは！今日は कैसाですか？最近学んだ面白いことを教えてください。\n",
      "\n",
      "Response:\n",
      "Caisa duppata。Main nahin jaanta par main aap को कुछ बताउँगा。Aaj main ne su Jana ki bheena yahan par milti hai, lekin bheena wahan par so jati hai.\n",
      "こんにちは！今日は कैसाですか？最近学んだ面白いことを教えてください。\n",
      "Caisa duppata。Main nahin jaanta par main aap को कुछ बताउँगा。Aaj main ne su Jana ki bheena yahan par milti hai, lekin bheena wahan par so jati hai。\n",
      "こんにちは！今日は कैसाですか？最近学んだ面白いことを教えてください。Caisa duppata。Main nahin jaanta par main aap को कुछ बताउँगा।Aaj main ne su Jana ki bheena yahan par milti hai, lekin bheena wahan par so jati hai。\n",
      "Answer Key: Caisa duppata। Main nahin jaanta par main aap को कुछ बताउँगा।Aaj main ne su Jana ki bheena yahan par milti hai, lekin bheena wahan par so jati hai。\n",
      "Score: /10"
     ]
    },
    {
     "name": "stdout",
     "output_type": "stream",
     "text": [
      "\n",
      "\n",
      "\n",
      "\n",
      "--- Model Output After Fine-Tuning for prompt: イタリアのルネサンスの歴史について何を知っていますか？芸術と科学への影響を説明してもらえますか？ ---"
     ]
    },
    {
     "name": "stdout",
     "output_type": "stream",
     "text": [
      "\n"
     ]
    },
    {
     "name": "stdout",
     "output_type": "stream",
     "text": [
      "Instruction:\n",
      "イタリアのルネサンスの歴史について何を知っていますか？芸術と科学への影響を説明してもらえますか？\n",
      "\n",
      "Response:\n",
      "ハイ。My name is Mary. I can help. Please check my bio and qualifications. Thank you. A+ student, on time, top quality\n",
      "Source: Tutoring"
     ]
    },
    {
     "name": "stdout",
     "output_type": "stream",
     "text": [
      "\n",
      "\n",
      "\n",
      "\n",
      "--- Model Output After Fine-Tuning for prompt: 秋の風景についての短い詩を日本語で書いてください。 ---\n"
     ]
    },
    {
     "name": "stdout",
     "output_type": "stream",
     "text": [
      "Instruction:\n",
      "秋の風景についての短い詩を日本語で書いてください。\n",
      "\n",
      "Response:\n",
      "「秋空」の詩\n",
      "秋空の　色濃さに見とれて\n",
      "時が経って　日が暮れてゆく\n",
      "空の色も　また濃くなり\n",
      "闇へと姿を変えて行く\n",
      "2008年　11月　21日\n",
      "秋の風景について\n",
      "短い詩を日本語で書いてください。という指示に対して\n",
      "「秋の風景についての短い詩を日本語で書いてください。」という意味だと思い\n",
      "季節の変わり目　秋　について、風景ではなく、心の中を思って\n",
      "感じたことを、詩にしてみました。\n",
      "秋空　という詩は作らずに\n",
      "自分の中にある秋の風景を書いてください　という指示ととったので\n",
      "「心の中の風景」を書いてみました。\n",
      "心の中が　まだ　秋\n",
      "身の回りの風景は　もう冬\n",
      "という状態です。\n",
      "これは　例年と比べて　とても　寒い冬になっています。\n",
      "まだ　積雪はありませんが\n",
      "凍りつくような冬です。\n",
      "これは　地球の環境破壊がもたらす\n",
      "地球の自然の摂理というより\n",
      "自然の暴走です。\n",
      "人間の心の中が　まだ　秋\n",
      "身の回りの現実が　もう　冬という状態は\n",
      "例年の摂理です。\n",
      "この二つが重なって\n",
      "心の中の風景と身の回りの風景\n",
      "例年通りにはいかない　例年とは異なる冬\n",
      "自分達に訪れる　未来\n",
      "という認識も込めて\n",
      "書いてみました。\n",
      "2008年　12月　5日\n",
      "秋の風景についての短い詩を日本語で書いてください。\n",
      "秋の風景は、草木が赤や黄色に色づき、とても美しい季節です。\n",
      "私は、先日、秋を詠った短い詩を、日本語で書いてみようと思います。\n",
      "秋の詩 2011.01.01\n",
      "秋空の深さに見とれて\n",
      "時が経って日が暮れて行く\n",
      "夕方の風景に色づけて\n",
      "闇へと姿を変えて行く。\n",
      "秋の日差しが、草木に様々な表情を作り出しています。\n",
      "赤や黄色に色づいた、草木は、とても美しいです。\n",
      "私は、先日、秋を詠った短い詩を、日本語で書いてみました。\n",
      "この短い詩が、皆様のお役に立ちますように。\n",
      "2011.01.15\n",
      "短い詩を書いて下さいと言われ\n",
      "草"
     ]
    },
    {
     "name": "stdout",
     "output_type": "stream",
     "text": [
      "\n",
      "\n"
     ]
    },
    {
     "name": "stdout",
     "output_type": "stream",
     "text": [
      "\n"
     ]
    },
    {
     "name": "stdout",
     "output_type": "stream",
     "text": [
      "\n",
      "--- Model Output After Fine-Tuning for prompt: 人工知能がどのように機能するのか、そして日本で最も一般的な用途は何なのかを簡単な言葉で説明してください。 ---\n"
     ]
    },
    {
     "name": "stdout",
     "output_type": "stream",
     "text": [
      "Instruction:\n",
      "人工知能がどのように機能するのか、そして日本で最も一般的な用途は何なのかを簡単な言葉で説明してください。\n",
      "\n",
      "Response:\n",
      "人造知能（AI）とは、コンピューターのソフトウェアおよびハードウェアに関する研究であり、人間のような知能を機械に備え付けることにある。人工知能の最も重要な用途は、医療分野での診断支援であり、既にいくつかの日本の病院で導入されている。"
     ]
    },
    {
     "name": "stdout",
     "output_type": "stream",
     "text": [
      "\n",
      "\n",
      "\n",
      "\n",
      "--- Model Output After Fine-Tuning for prompt: もし誰かが「手に余る」と言ったら、それは何を意味するでしょうか？どのような状況でこの表現を使うことができるでしょうか？ ---\n"
     ]
    },
    {
     "name": "stdout",
     "output_type": "stream",
     "text": [
      "Instruction:\n",
      "もし誰かが「手に余る」と言ったら、それは何を意味するでしょうか？どのような状況でこの表現を使うことができるでしょうか？\n",
      "\n",
      "Response:\n",
      "これはかなり不謹慎です。一般に「手に余る」という表現は、仕事や課題などが大変で手に負えないということを表します。\"He was handed a life sentence and I think he has been overcome with emotion.\" This is a sentence which uses \"overcome\" correctly. \"overcome with\" は「〜で理性を失う」という意味です。「手に余る」は、「大変すぎる、やりすぎる」という意味です。\n",
      "「手に余る」は、仕事や課題などが大変で手に負えないことを表す表現で、誰かを人の話をするという意味ではありません。この表現は、相手が犯罪を犯して、その結果が予想外過ぎるという状況で使われています。「彼は終身刑に服しており、私は彼が感情的になっていると思います。」という正しい文章があります。\"overcome with\" は \"〜で理性を失う\"という意味です。\"手に余る\" は、「大変すぎる、やりすぎる」という意味です。\n",
      "これは不謹慎すぎます。\"He was handed a life sentence and I think he has been overcome with emotion.\"\n",
      "例えば、あなたがテストの成績で上司に怒られると、この表現を使うことができます。上司があなたの仕事に対する努力が彼にとって「手に余る」と言ったら、それはとても不謹慎な表現です。例えば、あなたがテストの成績で上司に怒られると、この表現を使うことができます。上司があなたの仕事に対する努力が彼にとって「手に余る」と言ったら、これは不謹慎な表現です。\n",
      "また、例えばあなたがスポーツ選手で、試合に負けたあと、試合に負けたことにより、あなたのコーチが、あなたに「手に余る」と言ったら、これは不謹慎な表現です。例えばあなたがスポーツ選手で、試合に負けて、試合に負けたことによりコーチが、あなたに「手に余る」と言ったら、それは不謹慎な表現です。\n",
      "これはかなり不謹慎です。一般に「手に余る」というのは、仕事や課題などが大変で手に負えないということを表します。\n",
      "\"He was handed a life sentence and I think he has been overcome with emotion.\" This is a sentence which uses \"overcome\" correctly. \"overcome with\" は \"〜で理性を失う\"という意味です。\"overcome with emotion\" は「感情に打ちひしがれる」"
     ]
    },
    {
     "name": "stdout",
     "output_type": "stream",
     "text": [
      "\n",
      "\n",
      "\n"
     ]
    }
   ],
   "source": [
    "test_prompts = [\n",
    "    \"こんにちは！今日は कैसाですか？最近学んだ面白いことを教えてください。\", # Greeting and request for recent information\n",
    "    \"イタリアのルネサンスの歴史について何を知っていますか？芸術と科学への影響を説明してもらえますか？\", # Request for historical knowledge and cultural impact\n",
    "    \"秋の風景についての短い詩を日本語で書いてください。\", # Request for poetic creativity\n",
    "    \"人工知能がどのように機能するのか、そして日本で最も一般的な用途は何なのかを簡単な言葉で説明してください。\", # Request for technical explanation and geographical context\n",
    "    \"もし誰かが「手に余る」と言ったら、それは何を意味するでしょうか？どのような状況でこの表現を使うことができるでしょうか？\", # Request for interpretation of an idiomatic expression\n",
    "]\n",
    "\n",
    "for prompt in test_prompts:\n",
    "    print(f\"\\n--- Model Output After Fine-Tuning for prompt: {prompt} ---\")\n",
    "    print(generate_text(template.format(instruction=prompt, response=\"\"), gemma_lm))\n",
    "    print(\"\\n\")"
   ]
  },
  {
   "cell_type": "code",
   "execution_count": 18,
   "id": "9e27ec59",
   "metadata": {
    "execution": {
     "iopub.execute_input": "2024-12-29T21:02:21.772953Z",
     "iopub.status.busy": "2024-12-29T21:02:21.772538Z",
     "iopub.status.idle": "2024-12-29T21:03:59.155666Z",
     "shell.execute_reply": "2024-12-29T21:03:59.154338Z"
    },
    "papermill": {
     "duration": 100.598122,
     "end_time": "2024-12-29T21:04:00.767069",
     "exception": false,
     "start_time": "2024-12-29T21:02:20.168947",
     "status": "completed"
    },
    "tags": []
   },
   "outputs": [
    {
     "name": "stdout",
     "output_type": "stream",
     "text": [
      "Model saved to: /kaggle/tmp/gemma2_9b_ja"
     ]
    },
    {
     "name": "stdout",
     "output_type": "stream",
     "text": [
      "\n"
     ]
    }
   ],
   "source": [
    "tmp_model_dir = \"/kaggle/tmp/gemma2_9b_ja\"  # Use /kaggle/tmp\n",
    "preset_dir = \"gemma2_9b_ja\"\n",
    "os.makedirs(tmp_model_dir, exist_ok=True)\n",
    "gemma_lm.save_to_preset(tmp_model_dir)\n",
    "\n",
    "print(f\"Model saved to: {tmp_model_dir}\")"
   ]
  },
  {
   "cell_type": "code",
   "execution_count": null,
   "id": "e692d9f2",
   "metadata": {},
   "outputs": [],
   "source": [
    "import kagglehub\n",
    "import keras_hub\n",
    "if \"KAGGLE_USERNAME\" not in os.environ or \"KAGGLE_KEY\" not in os.environ:\n",
    "    kagglehub.login()\n",
    "\n",
    "model_version = 1\n",
    "kaggle_username = kagglehub.whoami()[\"username\"]\n",
    "kaggle_uri = f\"kaggle://{kaggle_username}/gemma2/keras/{preset_dir}\"\n",
    "keras_hub.upload_preset(kaggle_uri, tmp_model_dir)\n",
    "print(\"Done!\")"
   ]
  }
 ],
 "metadata": {
  "kaggle": {
   "accelerator": "tpu1vmV38",
   "dataSources": [
    {
     "isSourceIdPinned": true,
     "modelId": 78150,
     "modelInstanceId": 56633,
     "sourceId": 205088,
     "sourceType": "modelInstanceVersion"
    }
   ],
   "isGpuEnabled": false,
   "isInternetEnabled": true,
   "language": "python",
   "sourceType": "notebook"
  },
  "kernelspec": {
   "display_name": "Python 3",
   "language": "python",
   "name": "python3"
  },
  "language_info": {
   "codemirror_mode": {
    "name": "ipython",
    "version": 3
   },
   "file_extension": ".py",
   "mimetype": "text/x-python",
   "name": "python",
   "nbconvert_exporter": "python",
   "pygments_lexer": "ipython3",
   "version": "3.10.16"
  },
  "papermill": {
   "default_parameters": {},
   "duration": 15183.681876,
   "end_time": "2024-12-29T21:18:23.097197",
   "environment_variables": {},
   "exception": null,
   "input_path": "__notebook__.ipynb",
   "output_path": "__notebook__.ipynb",
   "parameters": {},
   "start_time": "2024-12-29T17:05:19.415321",
   "version": "2.6.0"
  }
 },
 "nbformat": 4,
 "nbformat_minor": 5
}
