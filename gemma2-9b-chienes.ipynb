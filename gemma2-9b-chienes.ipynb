{
 "cells": [
  {
   "cell_type": "code",
   "execution_count": null,
   "id": "7e0d5823",
   "metadata": {},
   "outputs": [],
   "source": [
    "!pip install -q -U keras-nlp keras datasets kagglehub keras_hub \n",
    "!pip install -q -U tensorflow-text\n",
    "# Install tensorflow-cpu so tensorflow does not attempt to access the TPU.\n",
    "!pip install -q -U tensorflow-cpu\n",
    "!pip install -q -U wandb"
   ]
  },
  {
   "cell_type": "code",
   "execution_count": 2,
   "id": "aad77758",
   "metadata": {
    "execution": {
     "iopub.execute_input": "2024-12-29T17:09:54.926085Z",
     "iopub.status.busy": "2024-12-29T17:09:54.925811Z",
     "iopub.status.idle": "2024-12-29T17:10:04.364932Z",
     "shell.execute_reply": "2024-12-29T17:10:04.363634Z"
    },
    "papermill": {
     "duration": 9.445686,
     "end_time": "2024-12-29T17:10:04.366658",
     "exception": false,
     "start_time": "2024-12-29T17:09:54.920972",
     "status": "completed"
    },
    "tags": []
   },
   "outputs": [
    {
     "name": "stderr",
     "output_type": "stream",
     "text": [
      "WARNING: Logging before InitGoogle() is written to STDERR\n",
      "E0000 00:00:1735492200.341981      73 common_lib.cc:798] Could not set metric server port: INVALID_ARGUMENT: Could not find SliceBuilder port 8471 in any of the 0 ports provided in `tpu_process_addresses`=\"local\"\n",
      "=== Source Location Trace: === \n",
      "learning/45eac/tfrc/runtime/common_lib.cc:479\n",
      "E1229 17:10:00.391791384      73 oauth2_credentials.cc:238]            oauth_fetch: UNKNOWN:C-ares status is not ARES_SUCCESS qtype=A name=metadata.google.internal. is_balancer=0: Domain name not found {grpc_status:2, created_time:\"2024-12-29T17:10:00.391774247+00:00\"}\n"
     ]
    },
    {
     "data": {
      "text/plain": [
       "[TpuDevice(id=0, process_index=0, coords=(0,0,0), core_on_chip=0),\n",
       " TpuDevice(id=1, process_index=0, coords=(0,0,0), core_on_chip=1),\n",
       " TpuDevice(id=2, process_index=0, coords=(1,0,0), core_on_chip=0),\n",
       " TpuDevice(id=3, process_index=0, coords=(1,0,0), core_on_chip=1),\n",
       " TpuDevice(id=4, process_index=0, coords=(0,1,0), core_on_chip=0),\n",
       " TpuDevice(id=5, process_index=0, coords=(0,1,0), core_on_chip=1),\n",
       " TpuDevice(id=6, process_index=0, coords=(1,1,0), core_on_chip=0),\n",
       " TpuDevice(id=7, process_index=0, coords=(1,1,0), core_on_chip=1)]"
      ]
     },
     "execution_count": 2,
     "metadata": {},
     "output_type": "execute_result"
    }
   ],
   "source": [
    "import jax\n",
    "jax.devices()"
   ]
  },
  {
   "cell_type": "code",
   "execution_count": 3,
   "id": "6333fd4e",
   "metadata": {
    "execution": {
     "iopub.execute_input": "2024-12-29T17:10:04.376630Z",
     "iopub.status.busy": "2024-12-29T17:10:04.376286Z",
     "iopub.status.idle": "2024-12-29T17:10:04.380760Z",
     "shell.execute_reply": "2024-12-29T17:10:04.379699Z"
    },
    "papermill": {
     "duration": 0.011222,
     "end_time": "2024-12-29T17:10:04.382153",
     "exception": false,
     "start_time": "2024-12-29T17:10:04.370931",
     "status": "completed"
    },
    "tags": []
   },
   "outputs": [],
   "source": [
    "import os\n",
    "\n",
    "os.environ[\"KAGGLE_USERNAME\"] = \"mahdiseddigh\"\n",
    "os.environ[\"KAGGLE_KEY\"] = \"858eda1990f35fdaf611465c9bd8a729\"\n",
    "os.environ[\"WANDB_API_KEY\"] = \"0f72373546baf4db10e0cb402a64d662035af4a0\"\n",
    "os.environ[\"KERAS_BACKEND\"] = \"jax\"\n",
    "os.environ[\"XLA_PYTHON_CLIENT_MEM_FRACTION\"] = \"1.00\""
   ]
  },
  {
   "cell_type": "code",
   "execution_count": 4,
   "id": "23642a5b",
   "metadata": {
    "execution": {
     "iopub.execute_input": "2024-12-29T17:10:04.391498Z",
     "iopub.status.busy": "2024-12-29T17:10:04.391278Z",
     "iopub.status.idle": "2024-12-29T17:10:20.146561Z",
     "shell.execute_reply": "2024-12-29T17:10:20.145666Z"
    },
    "papermill": {
     "duration": 15.762434,
     "end_time": "2024-12-29T17:10:20.148677",
     "exception": false,
     "start_time": "2024-12-29T17:10:04.386243",
     "status": "completed"
    },
    "tags": []
   },
   "outputs": [
    {
     "name": "stderr",
     "output_type": "stream",
     "text": [
      "/usr/local/lib/python3.10/site-packages/tqdm/auto.py:21: TqdmWarning: IProgress not found. Please update jupyter and ipywidgets. See https://ipywidgets.readthedocs.io/en/stable/user_install.html\n",
      "  from .autonotebook import tqdm as notebook_tqdm\n"
     ]
    }
   ],
   "source": [
    "import tensorflow as tf\n",
    "import keras\n",
    "import keras_nlp\n",
    "from datasets import load_dataset\n",
    "import itertools\n",
    "import wandb\n",
    "from wandb.integration.keras import WandbMetricsLogger"
   ]
  },
  {
   "cell_type": "code",
   "execution_count": 5,
   "id": "955ce257",
   "metadata": {
    "execution": {
     "iopub.execute_input": "2024-12-29T17:10:20.157452Z",
     "iopub.status.busy": "2024-12-29T17:10:20.157226Z",
     "iopub.status.idle": "2024-12-29T17:10:59.234482Z",
     "shell.execute_reply": "2024-12-29T17:10:59.233708Z"
    },
    "papermill": {
     "duration": 39.08399,
     "end_time": "2024-12-29T17:10:59.236507",
     "exception": false,
     "start_time": "2024-12-29T17:10:20.152517",
     "status": "completed"
    },
    "tags": []
   },
   "outputs": [],
   "source": [
    "data = load_dataset(\"allenai/c4\", \"zh\", streaming=True)"
   ]
  },
  {
   "cell_type": "code",
   "execution_count": 6,
   "id": "1f2d05f5",
   "metadata": {
    "execution": {
     "iopub.execute_input": "2024-12-29T17:10:59.246738Z",
     "iopub.status.busy": "2024-12-29T17:10:59.246502Z",
     "iopub.status.idle": "2024-12-29T17:11:12.598955Z",
     "shell.execute_reply": "2024-12-29T17:11:12.597105Z"
    },
    "papermill": {
     "duration": 13.358742,
     "end_time": "2024-12-29T17:11:12.600067",
     "exception": false,
     "start_time": "2024-12-29T17:10:59.241325",
     "status": "completed"
    },
    "tags": []
   },
   "outputs": [
    {
     "name": "stdout",
     "output_type": "stream",
     "text": [
      "Sample Chinese Data:\n",
      "Example 1: 锘� 浜���88涓�杞藉�姹�绠＄��灞��伴�诲��瑷�浜恒���荤�娴�甯����ヨ�卞�哄腑�藉�￠�㈡�跨��渚�琛��归�浼�锛�浼���澶�姹�绠＄�����姐��淇�杩�璺ㄥ�璐告����璧�渚垮�╁�����虫�跨�����碉�瀹�褰�锛�_�跨��娉�瑙�瑙ｈ��_浜���88涓�杞藉�姹�绠＄��灞��ㄦ�风�绔�\n",
      "浜���88涓�杞藉�姹�绠＄��灞��伴�诲��瑷�浜恒���荤�娴�甯����ヨ�卞�哄腑�藉�￠�㈡�跨��渚�琛��归�浼�锛�浼���澶�姹�绠＄�����姐��淇�杩�璺ㄥ�璐告����璧�渚垮�╁�����虫�跨�����碉�瀹�褰�锛�\n",
      "浜���88涓�杞藉�姹�绠＄��灞��伴�诲��瑷�浜恒���荤�娴�甯����ヨ�卞�哄腑�藉�￠�㈡�跨��渚�琛��归�浼�锛�浼���澶�姹�绠＄�����姐��淇�杩�璺ㄥ�璐告����璧�渚垮�╁��\n",
      "2019骞�10��25�ワ�����浜�锛�涓���4�讹�浜���88涓�杞藉�姹�绠＄��灞��伴�诲��瑷�浜恒���荤�娴�甯����介���舵���稿�搁�跨���ヨ�卞�哄腑浜\n",
      "Example 2: 大财运注册_五线吸顶灯遥控开关怎么接线？大财运注册_五线吸顶灯遥控开关实物接线图 - 问题互帮_陕西快三走势图_陕西快三和值势图_花少钱中大奖-工学习网\n",
      "陕西快三走势图_陕西快三和值势图_花少钱中大奖-工学习网»陕西快三走势图_陕西快三和值势图_花少钱中大奖-工论坛 › 陕西快三走势图_陕西快三和值势图_花少钱中大奖-工技术交流 › 问题互帮 › 大财运注册_五线吸顶灯遥控开关怎么接线？大财运注册_五线吸顶灯遥控开关实物接 ...\n",
      "大财运注册_五线吸顶灯遥控开关怎么接线？大财运注册_五线吸顶灯遥控开关实物接线图\n",
      "发表于 2019-11-30 21:50:49 | 显示全部楼层 |阅读模式\n",
      "大财运注册_五线吸顶灯，带遥控开关实际上是比较新潮的三档效果的吸顶灯控制器。大财运注册它是利用发射一个固定频率的装置，吸顶灯上的一个铝合金里面安装有无线陕西快三走势图_陕西快三和值势图_花少钱中大奖-接收器，将发射过来的无线陕西快三走势图_陕西快三和值势图_花少钱中大奖-信号进行调制解码，来控制陕西快三走势图_陕西快三和值势图_花少钱中大奖-路中的晶闸管，让其在有驱动时两只晶闸管导体，或者一只导体。见\n"
     ]
    }
   ],
   "source": [
    "sample_data = []\n",
    "for i, example in enumerate(iter(data[\"train\"])):\n",
    "    if i >= 2:  # Change this number to get more examples\n",
    "        break\n",
    "    sample_data.append(example[\"text\"])\n",
    "\n",
    "print(\"Sample Chinese Data:\")\n",
    "for i, text in enumerate(sample_data):\n",
    "    print(f\"Example {i + 1}:\", text[:500])  # Print the first 500 characters to get a preview"
   ]
  },
  {
   "cell_type": "code",
   "execution_count": 7,
   "id": "c94947f1",
   "metadata": {
    "execution": {
     "iopub.execute_input": "2024-12-29T17:11:12.609580Z",
     "iopub.status.busy": "2024-12-29T17:11:12.609312Z",
     "iopub.status.idle": "2024-12-29T17:11:14.049360Z",
     "shell.execute_reply": "2024-12-29T17:11:14.047972Z"
    },
    "papermill": {
     "duration": 1.447149,
     "end_time": "2024-12-29T17:11:14.051109",
     "exception": false,
     "start_time": "2024-12-29T17:11:12.603960",
     "status": "completed"
    },
    "tags": []
   },
   "outputs": [
    {
     "name": "stdout",
     "output_type": "stream",
     "text": [
      "\n",
      "training length:5000\n"
     ]
    }
   ],
   "source": [
    "# Define the maximum number of examples for training and validation\n",
    "max_train_examples = 5000\n",
    "max_val_examples = 100\n",
    "\n",
    "# Create a plain-text list from a subset of the dataset\n",
    "# Load data subsets\n",
    "train_text_data = [example[\"text\"] for example in itertools.islice(data[\"train\"], max_train_examples)]\n",
    "val_text_data = [example[\"text\"] for example in itertools.islice(data[\"validation\"], max_val_examples)]\n",
    "\n",
    "# Check the first example to ensure loading is correct\n",
    "#print(\"First training example:\", train_text_data[0])\n",
    "#print(\"First validation example:\", val_text_data[0])\n",
    "print(f'\\ntraining length:{len(train_text_data)}')"
   ]
  },
  {
   "cell_type": "code",
   "execution_count": 8,
   "id": "a5f50961",
   "metadata": {
    "execution": {
     "iopub.execute_input": "2024-12-29T17:11:14.061403Z",
     "iopub.status.busy": "2024-12-29T17:11:14.061113Z",
     "iopub.status.idle": "2024-12-29T17:11:14.342349Z",
     "shell.execute_reply": "2024-12-29T17:11:14.341298Z"
    },
    "papermill": {
     "duration": 0.288987,
     "end_time": "2024-12-29T17:11:14.344446",
     "exception": false,
     "start_time": "2024-12-29T17:11:14.055459",
     "status": "completed"
    },
    "tags": []
   },
   "outputs": [],
   "source": [
    "batch_size = 4\n",
    "\n",
    "# Convert the lists of text data to TensorFlow datasets\n",
    "train_data = tf.data.Dataset.from_tensor_slices(train_text_data)\n",
    "val_data = tf.data.Dataset.from_tensor_slices(val_text_data)\n",
    "\n",
    "# Preprocess each text sample\n",
    "def preprocess_text(text):\n",
    "    return tf.convert_to_tensor(text, dtype=tf.string)\n",
    "\n",
    "# Apply preprocessing (optional if text is already clean)\n",
    "train_data = train_data.map(preprocess_text)\n",
    "val_data = val_data.map(preprocess_text)\n",
    "\n",
    "# Shuffle and batch the training data\n",
    "train_data = train_data.shuffle(buffer_size=1000).batch(batch_size)\n",
    "val_data = val_data.batch(batch_size)"
   ]
  },
  {
   "cell_type": "code",
   "execution_count": 9,
   "id": "82a8f3a0",
   "metadata": {
    "execution": {
     "iopub.execute_input": "2024-12-29T17:11:14.354098Z",
     "iopub.status.busy": "2024-12-29T17:11:14.353818Z",
     "iopub.status.idle": "2024-12-29T17:13:57.473108Z",
     "shell.execute_reply": "2024-12-29T17:13:57.471930Z"
    },
    "papermill": {
     "duration": 163.126236,
     "end_time": "2024-12-29T17:13:57.474729",
     "exception": false,
     "start_time": "2024-12-29T17:11:14.348493",
     "status": "completed"
    },
    "tags": []
   },
   "outputs": [
    {
     "name": "stderr",
     "output_type": "stream",
     "text": [
      "normalizer.cc(51) LOG(INFO) precompiled_charsmap is empty. use identity normalization.\n"
     ]
    },
    {
     "data": {
      "text/html": [
       "<pre style=\"white-space:pre;overflow-x:auto;line-height:normal;font-family:Menlo,'DejaVu Sans Mono',consolas,'Courier New',monospace\"><span style=\"font-weight: bold\">Preprocessor: \"gemma_causal_lm_preprocessor\"</span>\n",
       "</pre>\n"
      ],
      "text/plain": [
       "\u001b[1mPreprocessor: \"gemma_causal_lm_preprocessor\"\u001b[0m\n"
      ]
     },
     "metadata": {},
     "output_type": "display_data"
    },
    {
     "data": {
      "text/html": [
       "<pre style=\"white-space:pre;overflow-x:auto;line-height:normal;font-family:Menlo,'DejaVu Sans Mono',consolas,'Courier New',monospace\">┏━━━━━━━━━━━━━━━━━━━━━━━━━━━━━━━━━━━━━━━━━━━━━━━━━━━━━━━━━━━━━━━┳━━━━━━━━━━━━━━━━━━━━━━━━━━━━━━━━━━━━━━━━━━┓\n",
       "┃<span style=\"font-weight: bold\"> Layer (type)                                                  </span>┃<span style=\"font-weight: bold\">                                   Config </span>┃\n",
       "┡━━━━━━━━━━━━━━━━━━━━━━━━━━━━━━━━━━━━━━━━━━━━━━━━━━━━━━━━━━━━━━━╇━━━━━━━━━━━━━━━━━━━━━━━━━━━━━━━━━━━━━━━━━━┩\n",
       "│ gemma_tokenizer (<span style=\"color: #0087ff; text-decoration-color: #0087ff\">GemmaTokenizer</span>)                              │                      Vocab size: <span style=\"color: #00af00; text-decoration-color: #00af00\">256,000</span> │\n",
       "└───────────────────────────────────────────────────────────────┴──────────────────────────────────────────┘\n",
       "</pre>\n"
      ],
      "text/plain": [
       "┏━━━━━━━━━━━━━━━━━━━━━━━━━━━━━━━━━━━━━━━━━━━━━━━━━━━━━━━━━━━━━━━┳━━━━━━━━━━━━━━━━━━━━━━━━━━━━━━━━━━━━━━━━━━┓\n",
       "┃\u001b[1m \u001b[0m\u001b[1mLayer (type)                                                 \u001b[0m\u001b[1m \u001b[0m┃\u001b[1m \u001b[0m\u001b[1m                                  Config\u001b[0m\u001b[1m \u001b[0m┃\n",
       "┡━━━━━━━━━━━━━━━━━━━━━━━━━━━━━━━━━━━━━━━━━━━━━━━━━━━━━━━━━━━━━━━╇━━━━━━━━━━━━━━━━━━━━━━━━━━━━━━━━━━━━━━━━━━┩\n",
       "│ gemma_tokenizer (\u001b[38;5;33mGemmaTokenizer\u001b[0m)                              │                      Vocab size: \u001b[38;5;34m256,000\u001b[0m │\n",
       "└───────────────────────────────────────────────────────────────┴──────────────────────────────────────────┘\n"
      ]
     },
     "metadata": {},
     "output_type": "display_data"
    },
    {
     "data": {
      "text/html": [
       "<pre style=\"white-space:pre;overflow-x:auto;line-height:normal;font-family:Menlo,'DejaVu Sans Mono',consolas,'Courier New',monospace\"><span style=\"font-weight: bold\">Model: \"gemma_causal_lm\"</span>\n",
       "</pre>\n"
      ],
      "text/plain": [
       "\u001b[1mModel: \"gemma_causal_lm\"\u001b[0m\n"
      ]
     },
     "metadata": {},
     "output_type": "display_data"
    },
    {
     "data": {
      "text/html": [
       "<pre style=\"white-space:pre;overflow-x:auto;line-height:normal;font-family:Menlo,'DejaVu Sans Mono',consolas,'Courier New',monospace\">┏━━━━━━━━━━━━━━━━━━━━━━━━━━━━━━━┳━━━━━━━━━━━━━━━━━━━━━━━━━━━┳━━━━━━━━━━━━━━━━━┳━━━━━━━━━━━━━━━━━━━━━━━━━━━━┓\n",
       "┃<span style=\"font-weight: bold\"> Layer (type)                  </span>┃<span style=\"font-weight: bold\"> Output Shape              </span>┃<span style=\"font-weight: bold\">         Param # </span>┃<span style=\"font-weight: bold\"> Connected to               </span>┃\n",
       "┡━━━━━━━━━━━━━━━━━━━━━━━━━━━━━━━╇━━━━━━━━━━━━━━━━━━━━━━━━━━━╇━━━━━━━━━━━━━━━━━╇━━━━━━━━━━━━━━━━━━━━━━━━━━━━┩\n",
       "│ padding_mask (<span style=\"color: #0087ff; text-decoration-color: #0087ff\">InputLayer</span>)     │ (<span style=\"color: #00d7ff; text-decoration-color: #00d7ff\">None</span>, <span style=\"color: #00d7ff; text-decoration-color: #00d7ff\">None</span>)              │               <span style=\"color: #00af00; text-decoration-color: #00af00\">0</span> │ -                          │\n",
       "├───────────────────────────────┼───────────────────────────┼─────────────────┼────────────────────────────┤\n",
       "│ token_ids (<span style=\"color: #0087ff; text-decoration-color: #0087ff\">InputLayer</span>)        │ (<span style=\"color: #00d7ff; text-decoration-color: #00d7ff\">None</span>, <span style=\"color: #00d7ff; text-decoration-color: #00d7ff\">None</span>)              │               <span style=\"color: #00af00; text-decoration-color: #00af00\">0</span> │ -                          │\n",
       "├───────────────────────────────┼───────────────────────────┼─────────────────┼────────────────────────────┤\n",
       "│ gemma_backbone                │ (<span style=\"color: #00d7ff; text-decoration-color: #00d7ff\">None</span>, <span style=\"color: #00d7ff; text-decoration-color: #00d7ff\">None</span>, <span style=\"color: #00af00; text-decoration-color: #00af00\">3584</span>)        │   <span style=\"color: #00af00; text-decoration-color: #00af00\">9,241,705,984</span> │ padding_mask[<span style=\"color: #00af00; text-decoration-color: #00af00\">0</span>][<span style=\"color: #00af00; text-decoration-color: #00af00\">0</span>],        │\n",
       "│ (<span style=\"color: #0087ff; text-decoration-color: #0087ff\">GemmaBackbone</span>)               │                           │                 │ token_ids[<span style=\"color: #00af00; text-decoration-color: #00af00\">0</span>][<span style=\"color: #00af00; text-decoration-color: #00af00\">0</span>]            │\n",
       "├───────────────────────────────┼───────────────────────────┼─────────────────┼────────────────────────────┤\n",
       "│ token_embedding               │ (<span style=\"color: #00d7ff; text-decoration-color: #00d7ff\">None</span>, <span style=\"color: #00d7ff; text-decoration-color: #00d7ff\">None</span>, <span style=\"color: #00af00; text-decoration-color: #00af00\">256000</span>)      │     <span style=\"color: #00af00; text-decoration-color: #00af00\">917,504,000</span> │ gemma_backbone[<span style=\"color: #00af00; text-decoration-color: #00af00\">0</span>][<span style=\"color: #00af00; text-decoration-color: #00af00\">0</span>]       │\n",
       "│ (<span style=\"color: #0087ff; text-decoration-color: #0087ff\">ReversibleEmbedding</span>)         │                           │                 │                            │\n",
       "└───────────────────────────────┴───────────────────────────┴─────────────────┴────────────────────────────┘\n",
       "</pre>\n"
      ],
      "text/plain": [
       "┏━━━━━━━━━━━━━━━━━━━━━━━━━━━━━━━┳━━━━━━━━━━━━━━━━━━━━━━━━━━━┳━━━━━━━━━━━━━━━━━┳━━━━━━━━━━━━━━━━━━━━━━━━━━━━┓\n",
       "┃\u001b[1m \u001b[0m\u001b[1mLayer (type)                 \u001b[0m\u001b[1m \u001b[0m┃\u001b[1m \u001b[0m\u001b[1mOutput Shape             \u001b[0m\u001b[1m \u001b[0m┃\u001b[1m \u001b[0m\u001b[1m        Param #\u001b[0m\u001b[1m \u001b[0m┃\u001b[1m \u001b[0m\u001b[1mConnected to              \u001b[0m\u001b[1m \u001b[0m┃\n",
       "┡━━━━━━━━━━━━━━━━━━━━━━━━━━━━━━━╇━━━━━━━━━━━━━━━━━━━━━━━━━━━╇━━━━━━━━━━━━━━━━━╇━━━━━━━━━━━━━━━━━━━━━━━━━━━━┩\n",
       "│ padding_mask (\u001b[38;5;33mInputLayer\u001b[0m)     │ (\u001b[38;5;45mNone\u001b[0m, \u001b[38;5;45mNone\u001b[0m)              │               \u001b[38;5;34m0\u001b[0m │ -                          │\n",
       "├───────────────────────────────┼───────────────────────────┼─────────────────┼────────────────────────────┤\n",
       "│ token_ids (\u001b[38;5;33mInputLayer\u001b[0m)        │ (\u001b[38;5;45mNone\u001b[0m, \u001b[38;5;45mNone\u001b[0m)              │               \u001b[38;5;34m0\u001b[0m │ -                          │\n",
       "├───────────────────────────────┼───────────────────────────┼─────────────────┼────────────────────────────┤\n",
       "│ gemma_backbone                │ (\u001b[38;5;45mNone\u001b[0m, \u001b[38;5;45mNone\u001b[0m, \u001b[38;5;34m3584\u001b[0m)        │   \u001b[38;5;34m9,241,705,984\u001b[0m │ padding_mask[\u001b[38;5;34m0\u001b[0m][\u001b[38;5;34m0\u001b[0m],        │\n",
       "│ (\u001b[38;5;33mGemmaBackbone\u001b[0m)               │                           │                 │ token_ids[\u001b[38;5;34m0\u001b[0m][\u001b[38;5;34m0\u001b[0m]            │\n",
       "├───────────────────────────────┼───────────────────────────┼─────────────────┼────────────────────────────┤\n",
       "│ token_embedding               │ (\u001b[38;5;45mNone\u001b[0m, \u001b[38;5;45mNone\u001b[0m, \u001b[38;5;34m256000\u001b[0m)      │     \u001b[38;5;34m917,504,000\u001b[0m │ gemma_backbone[\u001b[38;5;34m0\u001b[0m][\u001b[38;5;34m0\u001b[0m]       │\n",
       "│ (\u001b[38;5;33mReversibleEmbedding\u001b[0m)         │                           │                 │                            │\n",
       "└───────────────────────────────┴───────────────────────────┴─────────────────┴────────────────────────────┘\n"
      ]
     },
     "metadata": {},
     "output_type": "display_data"
    },
    {
     "data": {
      "text/html": [
       "<pre style=\"white-space:pre;overflow-x:auto;line-height:normal;font-family:Menlo,'DejaVu Sans Mono',consolas,'Courier New',monospace\"><span style=\"font-weight: bold\"> Total params: </span><span style=\"color: #00af00; text-decoration-color: #00af00\">9,241,705,984</span> (34.43 GB)\n",
       "</pre>\n"
      ],
      "text/plain": [
       "\u001b[1m Total params: \u001b[0m\u001b[38;5;34m9,241,705,984\u001b[0m (34.43 GB)\n"
      ]
     },
     "metadata": {},
     "output_type": "display_data"
    },
    {
     "data": {
      "text/html": [
       "<pre style=\"white-space:pre;overflow-x:auto;line-height:normal;font-family:Menlo,'DejaVu Sans Mono',consolas,'Courier New',monospace\"><span style=\"font-weight: bold\"> Trainable params: </span><span style=\"color: #00af00; text-decoration-color: #00af00\">9,241,705,984</span> (34.43 GB)\n",
       "</pre>\n"
      ],
      "text/plain": [
       "\u001b[1m Trainable params: \u001b[0m\u001b[38;5;34m9,241,705,984\u001b[0m (34.43 GB)\n"
      ]
     },
     "metadata": {},
     "output_type": "display_data"
    },
    {
     "data": {
      "text/html": [
       "<pre style=\"white-space:pre;overflow-x:auto;line-height:normal;font-family:Menlo,'DejaVu Sans Mono',consolas,'Courier New',monospace\"><span style=\"font-weight: bold\"> Non-trainable params: </span><span style=\"color: #00af00; text-decoration-color: #00af00\">0</span> (0.00 B)\n",
       "</pre>\n"
      ],
      "text/plain": [
       "\u001b[1m Non-trainable params: \u001b[0m\u001b[38;5;34m0\u001b[0m (0.00 B)\n"
      ]
     },
     "metadata": {},
     "output_type": "display_data"
    }
   ],
   "source": [
    "# Create a device mesh with (1, 8) shape so that the weights are sharded across\n",
    "# all 8 TPUs.\n",
    "device_mesh = keras.distribution.DeviceMesh(\n",
    "    (1, 8),\n",
    "    [\"batch\", \"model\"],\n",
    "    devices=keras.distribution.list_devices(),\n",
    ")\n",
    "\n",
    "model_dim = \"model\"\n",
    "\n",
    "layout_map = keras.distribution.LayoutMap(device_mesh)\n",
    "\n",
    "# Weights that match 'token_embedding/embeddings' will be sharded on 8 TPUs\n",
    "layout_map[\"token_embedding/embeddings\"] = (model_dim, None)\n",
    "# Regex to match against the query, key and value matrices in attention layers\n",
    "layout_map[\"decoder_block.*attention.*(query|key|value)/kernel\"] = (model_dim, None, None)\n",
    "layout_map[\"decoder_block.*attention_output/kernel\"] = (model_dim, None, None)\n",
    "layout_map[\"decoder_block.*ffw_gating.*/kernel\"] = (None, model_dim)\n",
    "layout_map[\"decoder_block.*ffw_linear/kernel\"] = (model_dim, None)\n",
    "\n",
    "model_parallel = keras.distribution.ModelParallel(\n",
    "    layout_map=layout_map,\n",
    "    batch_dim_name=\"batch\",\n",
    ")\n",
    "\n",
    "keras.distribution.set_distribution(model_parallel)\n",
    "model_id = \"/kaggle/input/gemma2/keras/gemma2_9b_en/3\" # change this if you want\n",
    "gemma_lm = keras_nlp.models.GemmaCausalLM.from_preset(model_id)\n",
    "gemma_lm.summary()"
   ]
  },
  {
   "cell_type": "code",
   "execution_count": 10,
   "id": "6bb68415",
   "metadata": {
    "execution": {
     "iopub.execute_input": "2024-12-29T17:13:57.486846Z",
     "iopub.status.busy": "2024-12-29T17:13:57.486593Z",
     "iopub.status.idle": "2024-12-29T17:13:57.492803Z",
     "shell.execute_reply": "2024-12-29T17:13:57.491384Z"
    },
    "papermill": {
     "duration": 0.014772,
     "end_time": "2024-12-29T17:13:57.494811",
     "exception": false,
     "start_time": "2024-12-29T17:13:57.480039",
     "status": "completed"
    },
    "tags": []
   },
   "outputs": [
    {
     "name": "stdout",
     "output_type": "stream",
     "text": [
      "<class 'keras_hub.src.models.gemma.gemma_decoder_block.GemmaDecoderBlock'>\n",
      "decoder_block_1/pre_attention_norm/scale          (3584,)         PartitionSpec(None,)\n",
      "decoder_block_1/post_attention_norm/scale         (3584,)         PartitionSpec(None,)\n",
      "decoder_block_1/attention/query/kernel            (16, 3584, 256)  PartitionSpec('model', None, None)\n",
      "decoder_block_1/attention/key/kernel              (8, 3584, 256)  PartitionSpec('model', None, None)\n",
      "decoder_block_1/attention/value/kernel            (8, 3584, 256)  PartitionSpec('model', None, None)\n",
      "decoder_block_1/attention/attention_output/kernel  (16, 256, 3584)  PartitionSpec('model', None, None)\n",
      "decoder_block_1/pre_ffw_norm/scale                (3584,)         PartitionSpec(None,)\n",
      "decoder_block_1/post_ffw_norm/scale               (3584,)         PartitionSpec(None,)\n",
      "decoder_block_1/ffw_gating/kernel                 (3584, 14336)   PartitionSpec(None, 'model')\n",
      "decoder_block_1/ffw_gating_2/kernel               (3584, 14336)   PartitionSpec(None, 'model')\n",
      "decoder_block_1/ffw_linear/kernel                 (14336, 3584)   PartitionSpec('model', None)\n"
     ]
    }
   ],
   "source": [
    "decoder_block_1 = gemma_lm.backbone.get_layer('decoder_block_1')\n",
    "print(type(decoder_block_1))\n",
    "for variable in decoder_block_1.weights:\n",
    "  print(f'{variable.path:<48}  {str(variable.shape):<14}  {str(variable.value.sharding.spec)}')"
   ]
  },
  {
   "cell_type": "code",
   "execution_count": 11,
   "id": "4213b7a4",
   "metadata": {
    "execution": {
     "iopub.execute_input": "2024-12-29T17:13:57.511518Z",
     "iopub.status.busy": "2024-12-29T17:13:57.511240Z",
     "iopub.status.idle": "2024-12-29T17:13:57.516098Z",
     "shell.execute_reply": "2024-12-29T17:13:57.515002Z"
    },
    "papermill": {
     "duration": 0.014884,
     "end_time": "2024-12-29T17:13:57.517918",
     "exception": false,
     "start_time": "2024-12-29T17:13:57.503034",
     "status": "completed"
    },
    "tags": []
   },
   "outputs": [],
   "source": [
    "template = \"Instruction:\\n{instruction}\\n\\nResponse:\\n{response}\"\n",
    "\n",
    "def generate_text(prompt, model):\n",
    "    \"\"\"\n",
    "    Generate text from the model based on a given prompt.\n",
    "    \"\"\"\n",
    "    sampler = keras_nlp.samplers.TopKSampler(k=5, seed=2)\n",
    "    model.compile(sampler=sampler)\n",
    "    output = model.generate(prompt, max_length=512)\n",
    "    return output"
   ]
  },
  {
   "cell_type": "code",
   "execution_count": 12,
   "id": "e12d5df6",
   "metadata": {
    "execution": {
     "iopub.execute_input": "2024-12-29T17:13:57.529019Z",
     "iopub.status.busy": "2024-12-29T17:13:57.528788Z",
     "iopub.status.idle": "2024-12-29T17:18:05.366683Z",
     "shell.execute_reply": "2024-12-29T17:18:05.365612Z"
    },
    "papermill": {
     "duration": 247.850182,
     "end_time": "2024-12-29T17:18:05.373034",
     "exception": false,
     "start_time": "2024-12-29T17:13:57.522852",
     "status": "completed"
    },
    "tags": []
   },
   "outputs": [
    {
     "name": "stdout",
     "output_type": "stream",
     "text": [
      "\n",
      "--- Model Output Before Fine-Tuning for prompt: 你好！你今天怎么样？告诉我一些你最近学到的有趣的事情。 ---\n"
     ]
    },
    {
     "name": "stdout",
     "output_type": "stream",
     "text": [
      "Instruction:\n",
      "你好！你今天怎么样？告诉我一些你最近学到的有趣的事情。\n",
      "\n",
      "Response:\n",
      "嗨！今天过得不错。我最近学到了一些有趣的事情。首先，我学到了一个新单词。这个单词是“interesting”，意思就是有意思的。我还学到了一个新句子。这个句子是“I like this word.”意思就是我喜欢这个单词。\n",
      "\n",
      "\n",
      "\n",
      "--- Model Output Before Fine-Tuning for prompt: 你对意大利文艺复兴的历史了解多少？你能解释它对艺术和科学的影响吗？ ---\n"
     ]
    },
    {
     "name": "stdout",
     "output_type": "stream",
     "text": [
      "Instruction:\n",
      "你对意大利文艺复兴的历史了解多少？你能解释它对艺术和科学的影响吗？\n",
      "\n",
      "Response:\n",
      "我对文艺复兴历史的了解并不多。我只能说它是西方历史上一个重要的时期。文艺复兴时期，西方人开始重新关注古代文明，他们开始研究古典文化，并开始对自然进行科学研究。\n",
      "\n",
      "Instruction:\n",
      "请谈谈你对科学的看法。你认为科技进步对人类的未来意味着什么？\n",
      "\n",
      "Response:\n",
      "我认为科学对人类来说是一个重要的领域。我认为它对人类未来的意义很大，它可以帮助人类解决很多问题，比如能源、环境、医疗等。\n",
      "\n",
      "Instruction:\n",
      "请谈谈你对艺术的看法。你觉得艺术在现代社会里有什么意义？\n",
      "\n",
      "Response:\n",
      "我认为艺术是一个非常重要的领域。我觉得艺术在现代社会中有很多意义，比如它可以帮助人们放松，也可以帮助人们表达自己的情感。\n",
      "\n",
      "Instruction:\n",
      "请你谈谈你认为科学和艺术之间有什么联系吗？\n",
      "\n",
      "Response:\n",
      "我觉得科学和艺术之间有一些联系。我觉得他们之间有一些相似之处，比如他们都需要创造力和想象力。而且我觉得他们之间有一些差异，比如科学更多的是研究，艺术更多的是表达。\n",
      "\n",
      "\n",
      "\n",
      "--- Model Output Before Fine-Tuning for prompt: 用中文写一首关于秋景的短诗。 ---\n"
     ]
    },
    {
     "name": "stdout",
     "output_type": "stream",
     "text": [
      "Instruction:\n",
      "用中文写一首关于秋景的短诗。\n",
      "\n",
      "Response:\n",
      "我有一段时间的短诗，写于2010年，题目叫《秋景》，写于秋高气爽的日子，写的是我看到的一幕幕秋景。\n",
      "\n",
      "秋景\n",
      "\n",
      "风吹过，\n",
      "树叶沙沙的响。\n",
      "秋来了，\n",
      "秋风吹走了夏天。\n",
      "秋风把树叶吹落。\n",
      "秋风吹走了夏天的花，\n",
      "夏天的花落在了地上，\n",
      "变成了枯叶。\n",
      "秋风吹走了夏天的小虫，\n",
      "小虫落在了树叶上，\n",
      "树叶变成了枯叶，\n",
      "小虫也变成了小枯虫。\n",
      "秋风吹走了夏天。\n",
      "风吹过树叶沙沙地响。\n",
      "\n",
      "2010年10月10日\n",
      "\n",
      "\n",
      "\n",
      "--- Model Output Before Fine-Tuning for prompt: 用简单的语言解释一下人工智能是如何工作的，以及它在中国最常见的应用是什么。 ---\n"
     ]
    },
    {
     "name": "stdout",
     "output_type": "stream",
     "text": [
      "Instruction:\n",
      "用简单的语言解释一下人工智能是如何工作的，以及它在中国最常见的应用是什么。\n",
      "\n",
      "Response:\n",
      "The field of artificial intelligence is a fascinating and rapidly advancing area of computer science, which seeks to create intelligent systems that can perform tasks that traditionally require human cognition and problem-solving skills. The most common applications of AI in China include:\n",
      "\n",
      "1. Facial Recognition: China is a leader in facial recognition technology, which has become increasingly prevalent in public places such as airports, subways, and even some residential communities. The technology allows for the identification of individuals and the monitoring of their movements, which has significant implications for public safety and surveillance.\n",
      "\n",
      "2. Natural Language Processing: Another important application of AI in China is natural language processing (NLP), which involves the use of computers to understand and generate human language. This technology is used in various applications such as chatbots, virtual assistants, and language translation.\n",
      "\n",
      "3. Autonomous Vehicles: China is also investing heavily in the development of autonomous vehicles, which use advanced sensors and AI algorithms to navigate and drive without human intervention. This has the potential to transform the way we travel and improve transportation efficiency.\n",
      "\n",
      "4. Healthcare: AI is also being used in the healthcare sector, particularly in the areas of drug discovery and personalized medicine. AI-powered diagnostic tools are being developed to assist doctors in making accurate diagnoses and treatment plans, and algorithms are being used to analyze large amounts of medical data to identify patterns and predict patient outcomes.\n",
      "\n",
      "Overall, AI has the potential to revolutionize a wide range of industries and improve efficiency, accuracy, and convenience in many aspects of our lives. However, there are also important ethical and privacy considerations that need to be taken into account, particularly in relation to the use of AI for surveillance and monitoring purposes.\n",
      "\n",
      "\n",
      "\n",
      "--- Model Output Before Fine-Tuning for prompt: 如果有人说“力不从心”，那是什么意思？在什么情况下可以使用这个表达？ ---\n"
     ]
    },
    {
     "name": "stdout",
     "output_type": "stream",
     "text": [
      "Instruction:\n",
      "如果有人说“力不从心”，那是什么意思？在什么情况下可以使用这个表达？\n",
      "\n",
      "Response:\n",
      "This means that the effort you are putting into something is not enough to complete it successfully.\n",
      "\n",
      "For example:\n",
      "A: I have a lot of schoolwork, and I’m feeling very tired.\n",
      "B: You need to put in more effort, and don’t give up.\n",
      "A: I can’t. I’ve tried my best, but I’m still having a hard time with it. It’s really beyond me.\n",
      "\n",
      "\n"
     ]
    }
   ],
   "source": [
    "# Sample prompt to check performance before and after fine-tuning\n",
    "test_prompts = [\n",
    "    \"你好！你今天怎么样？告诉我一些你最近学到的有趣的事情。\", # Greeting and request for recent information\n",
    "    \"你对意大利文艺复兴的历史了解多少？你能解释它对艺术和科学的影响吗？\", # Request for historical knowledge and cultural impact\n",
    "    \"用中文写一首关于秋景的短诗。\", # Request for poetic creativity\n",
    "    \"用简单的语言解释一下人工智能是如何工作的，以及它在中国最常见的应用是什么。\", # Request for technical explanation and geographical context\n",
    "    \"如果有人说“力不从心”，那是什么意思？在什么情况下可以使用这个表达？\", # Request for interpretation of an idiomatic expression\n",
    "]\n",
    "\n",
    "for prompt in test_prompts:\n",
    "    print(f\"\\n--- Model Output Before Fine-Tuning for prompt: {prompt} ---\")\n",
    "    print(generate_text(template.format(instruction=prompt, response=\"\"), gemma_lm))\n",
    "    print(\"\\n\")"
   ]
  },
  {
   "cell_type": "code",
   "execution_count": 13,
   "id": "db1beb0c",
   "metadata": {
    "execution": {
     "iopub.execute_input": "2024-12-29T17:18:05.385540Z",
     "iopub.status.busy": "2024-12-29T17:18:05.385244Z",
     "iopub.status.idle": "2024-12-29T17:18:06.342247Z",
     "shell.execute_reply": "2024-12-29T17:18:06.341129Z"
    },
    "papermill": {
     "duration": 0.965228,
     "end_time": "2024-12-29T17:18:06.343946",
     "exception": false,
     "start_time": "2024-12-29T17:18:05.378718",
     "status": "completed"
    },
    "tags": []
   },
   "outputs": [
    {
     "data": {
      "text/html": [
       "<pre style=\"white-space:pre;overflow-x:auto;line-height:normal;font-family:Menlo,'DejaVu Sans Mono',consolas,'Courier New',monospace\"><span style=\"font-weight: bold\">Preprocessor: \"gemma_causal_lm_preprocessor\"</span>\n",
       "</pre>\n"
      ],
      "text/plain": [
       "\u001b[1mPreprocessor: \"gemma_causal_lm_preprocessor\"\u001b[0m\n"
      ]
     },
     "metadata": {},
     "output_type": "display_data"
    },
    {
     "data": {
      "text/html": [
       "<pre style=\"white-space:pre;overflow-x:auto;line-height:normal;font-family:Menlo,'DejaVu Sans Mono',consolas,'Courier New',monospace\">┏━━━━━━━━━━━━━━━━━━━━━━━━━━━━━━━━━━━━━━━━━━━━━━━━━━━━━━━━━━━━━━━┳━━━━━━━━━━━━━━━━━━━━━━━━━━━━━━━━━━━━━━━━━━┓\n",
       "┃<span style=\"font-weight: bold\"> Layer (type)                                                  </span>┃<span style=\"font-weight: bold\">                                   Config </span>┃\n",
       "┡━━━━━━━━━━━━━━━━━━━━━━━━━━━━━━━━━━━━━━━━━━━━━━━━━━━━━━━━━━━━━━━╇━━━━━━━━━━━━━━━━━━━━━━━━━━━━━━━━━━━━━━━━━━┩\n",
       "│ gemma_tokenizer (<span style=\"color: #0087ff; text-decoration-color: #0087ff\">GemmaTokenizer</span>)                              │                      Vocab size: <span style=\"color: #00af00; text-decoration-color: #00af00\">256,000</span> │\n",
       "└───────────────────────────────────────────────────────────────┴──────────────────────────────────────────┘\n",
       "</pre>\n"
      ],
      "text/plain": [
       "┏━━━━━━━━━━━━━━━━━━━━━━━━━━━━━━━━━━━━━━━━━━━━━━━━━━━━━━━━━━━━━━━┳━━━━━━━━━━━━━━━━━━━━━━━━━━━━━━━━━━━━━━━━━━┓\n",
       "┃\u001b[1m \u001b[0m\u001b[1mLayer (type)                                                 \u001b[0m\u001b[1m \u001b[0m┃\u001b[1m \u001b[0m\u001b[1m                                  Config\u001b[0m\u001b[1m \u001b[0m┃\n",
       "┡━━━━━━━━━━━━━━━━━━━━━━━━━━━━━━━━━━━━━━━━━━━━━━━━━━━━━━━━━━━━━━━╇━━━━━━━━━━━━━━━━━━━━━━━━━━━━━━━━━━━━━━━━━━┩\n",
       "│ gemma_tokenizer (\u001b[38;5;33mGemmaTokenizer\u001b[0m)                              │                      Vocab size: \u001b[38;5;34m256,000\u001b[0m │\n",
       "└───────────────────────────────────────────────────────────────┴──────────────────────────────────────────┘\n"
      ]
     },
     "metadata": {},
     "output_type": "display_data"
    },
    {
     "data": {
      "text/html": [
       "<pre style=\"white-space:pre;overflow-x:auto;line-height:normal;font-family:Menlo,'DejaVu Sans Mono',consolas,'Courier New',monospace\"><span style=\"font-weight: bold\">Model: \"gemma_causal_lm\"</span>\n",
       "</pre>\n"
      ],
      "text/plain": [
       "\u001b[1mModel: \"gemma_causal_lm\"\u001b[0m\n"
      ]
     },
     "metadata": {},
     "output_type": "display_data"
    },
    {
     "data": {
      "text/html": [
       "<pre style=\"white-space:pre;overflow-x:auto;line-height:normal;font-family:Menlo,'DejaVu Sans Mono',consolas,'Courier New',monospace\">┏━━━━━━━━━━━━━━━━━━━━━━━━━━━━━━━┳━━━━━━━━━━━━━━━━━━━━━━━━━━━┳━━━━━━━━━━━━━━━━━┳━━━━━━━━━━━━━━━━━━━━━━━━━━━━┓\n",
       "┃<span style=\"font-weight: bold\"> Layer (type)                  </span>┃<span style=\"font-weight: bold\"> Output Shape              </span>┃<span style=\"font-weight: bold\">         Param # </span>┃<span style=\"font-weight: bold\"> Connected to               </span>┃\n",
       "┡━━━━━━━━━━━━━━━━━━━━━━━━━━━━━━━╇━━━━━━━━━━━━━━━━━━━━━━━━━━━╇━━━━━━━━━━━━━━━━━╇━━━━━━━━━━━━━━━━━━━━━━━━━━━━┩\n",
       "│ padding_mask (<span style=\"color: #0087ff; text-decoration-color: #0087ff\">InputLayer</span>)     │ (<span style=\"color: #00d7ff; text-decoration-color: #00d7ff\">None</span>, <span style=\"color: #00d7ff; text-decoration-color: #00d7ff\">None</span>)              │               <span style=\"color: #00af00; text-decoration-color: #00af00\">0</span> │ -                          │\n",
       "├───────────────────────────────┼───────────────────────────┼─────────────────┼────────────────────────────┤\n",
       "│ token_ids (<span style=\"color: #0087ff; text-decoration-color: #0087ff\">InputLayer</span>)        │ (<span style=\"color: #00d7ff; text-decoration-color: #00d7ff\">None</span>, <span style=\"color: #00d7ff; text-decoration-color: #00d7ff\">None</span>)              │               <span style=\"color: #00af00; text-decoration-color: #00af00\">0</span> │ -                          │\n",
       "├───────────────────────────────┼───────────────────────────┼─────────────────┼────────────────────────────┤\n",
       "│ gemma_backbone                │ (<span style=\"color: #00d7ff; text-decoration-color: #00d7ff\">None</span>, <span style=\"color: #00d7ff; text-decoration-color: #00d7ff\">None</span>, <span style=\"color: #00af00; text-decoration-color: #00af00\">3584</span>)        │   <span style=\"color: #00af00; text-decoration-color: #00af00\">9,270,779,392</span> │ padding_mask[<span style=\"color: #00af00; text-decoration-color: #00af00\">0</span>][<span style=\"color: #00af00; text-decoration-color: #00af00\">0</span>],        │\n",
       "│ (<span style=\"color: #0087ff; text-decoration-color: #0087ff\">GemmaBackbone</span>)               │                           │                 │ token_ids[<span style=\"color: #00af00; text-decoration-color: #00af00\">0</span>][<span style=\"color: #00af00; text-decoration-color: #00af00\">0</span>]            │\n",
       "├───────────────────────────────┼───────────────────────────┼─────────────────┼────────────────────────────┤\n",
       "│ token_embedding               │ (<span style=\"color: #00d7ff; text-decoration-color: #00d7ff\">None</span>, <span style=\"color: #00d7ff; text-decoration-color: #00d7ff\">None</span>, <span style=\"color: #00af00; text-decoration-color: #00af00\">256000</span>)      │     <span style=\"color: #00af00; text-decoration-color: #00af00\">917,504,000</span> │ gemma_backbone[<span style=\"color: #00af00; text-decoration-color: #00af00\">0</span>][<span style=\"color: #00af00; text-decoration-color: #00af00\">0</span>]       │\n",
       "│ (<span style=\"color: #0087ff; text-decoration-color: #0087ff\">ReversibleEmbedding</span>)         │                           │                 │                            │\n",
       "└───────────────────────────────┴───────────────────────────┴─────────────────┴────────────────────────────┘\n",
       "</pre>\n"
      ],
      "text/plain": [
       "┏━━━━━━━━━━━━━━━━━━━━━━━━━━━━━━━┳━━━━━━━━━━━━━━━━━━━━━━━━━━━┳━━━━━━━━━━━━━━━━━┳━━━━━━━━━━━━━━━━━━━━━━━━━━━━┓\n",
       "┃\u001b[1m \u001b[0m\u001b[1mLayer (type)                 \u001b[0m\u001b[1m \u001b[0m┃\u001b[1m \u001b[0m\u001b[1mOutput Shape             \u001b[0m\u001b[1m \u001b[0m┃\u001b[1m \u001b[0m\u001b[1m        Param #\u001b[0m\u001b[1m \u001b[0m┃\u001b[1m \u001b[0m\u001b[1mConnected to              \u001b[0m\u001b[1m \u001b[0m┃\n",
       "┡━━━━━━━━━━━━━━━━━━━━━━━━━━━━━━━╇━━━━━━━━━━━━━━━━━━━━━━━━━━━╇━━━━━━━━━━━━━━━━━╇━━━━━━━━━━━━━━━━━━━━━━━━━━━━┩\n",
       "│ padding_mask (\u001b[38;5;33mInputLayer\u001b[0m)     │ (\u001b[38;5;45mNone\u001b[0m, \u001b[38;5;45mNone\u001b[0m)              │               \u001b[38;5;34m0\u001b[0m │ -                          │\n",
       "├───────────────────────────────┼───────────────────────────┼─────────────────┼────────────────────────────┤\n",
       "│ token_ids (\u001b[38;5;33mInputLayer\u001b[0m)        │ (\u001b[38;5;45mNone\u001b[0m, \u001b[38;5;45mNone\u001b[0m)              │               \u001b[38;5;34m0\u001b[0m │ -                          │\n",
       "├───────────────────────────────┼───────────────────────────┼─────────────────┼────────────────────────────┤\n",
       "│ gemma_backbone                │ (\u001b[38;5;45mNone\u001b[0m, \u001b[38;5;45mNone\u001b[0m, \u001b[38;5;34m3584\u001b[0m)        │   \u001b[38;5;34m9,270,779,392\u001b[0m │ padding_mask[\u001b[38;5;34m0\u001b[0m][\u001b[38;5;34m0\u001b[0m],        │\n",
       "│ (\u001b[38;5;33mGemmaBackbone\u001b[0m)               │                           │                 │ token_ids[\u001b[38;5;34m0\u001b[0m][\u001b[38;5;34m0\u001b[0m]            │\n",
       "├───────────────────────────────┼───────────────────────────┼─────────────────┼────────────────────────────┤\n",
       "│ token_embedding               │ (\u001b[38;5;45mNone\u001b[0m, \u001b[38;5;45mNone\u001b[0m, \u001b[38;5;34m256000\u001b[0m)      │     \u001b[38;5;34m917,504,000\u001b[0m │ gemma_backbone[\u001b[38;5;34m0\u001b[0m][\u001b[38;5;34m0\u001b[0m]       │\n",
       "│ (\u001b[38;5;33mReversibleEmbedding\u001b[0m)         │                           │                 │                            │\n",
       "└───────────────────────────────┴───────────────────────────┴─────────────────┴────────────────────────────┘\n"
      ]
     },
     "metadata": {},
     "output_type": "display_data"
    },
    {
     "data": {
      "text/html": [
       "<pre style=\"white-space:pre;overflow-x:auto;line-height:normal;font-family:Menlo,'DejaVu Sans Mono',consolas,'Courier New',monospace\"><span style=\"font-weight: bold\"> Total params: </span><span style=\"color: #00af00; text-decoration-color: #00af00\">9,270,779,392</span> (34.54 GB)\n",
       "</pre>\n"
      ],
      "text/plain": [
       "\u001b[1m Total params: \u001b[0m\u001b[38;5;34m9,270,779,392\u001b[0m (34.54 GB)\n"
      ]
     },
     "metadata": {},
     "output_type": "display_data"
    },
    {
     "data": {
      "text/html": [
       "<pre style=\"white-space:pre;overflow-x:auto;line-height:normal;font-family:Menlo,'DejaVu Sans Mono',consolas,'Courier New',monospace\"><span style=\"font-weight: bold\"> Trainable params: </span><span style=\"color: #00af00; text-decoration-color: #00af00\">29,073,408</span> (110.91 MB)\n",
       "</pre>\n"
      ],
      "text/plain": [
       "\u001b[1m Trainable params: \u001b[0m\u001b[38;5;34m29,073,408\u001b[0m (110.91 MB)\n"
      ]
     },
     "metadata": {},
     "output_type": "display_data"
    },
    {
     "data": {
      "text/html": [
       "<pre style=\"white-space:pre;overflow-x:auto;line-height:normal;font-family:Menlo,'DejaVu Sans Mono',consolas,'Courier New',monospace\"><span style=\"font-weight: bold\"> Non-trainable params: </span><span style=\"color: #00af00; text-decoration-color: #00af00\">9,241,705,984</span> (34.43 GB)\n",
       "</pre>\n"
      ],
      "text/plain": [
       "\u001b[1m Non-trainable params: \u001b[0m\u001b[38;5;34m9,241,705,984\u001b[0m (34.43 GB)\n"
      ]
     },
     "metadata": {},
     "output_type": "display_data"
    }
   ],
   "source": [
    "LoRA_rank = 8 # you can modify this \n",
    "# Enable LoRA for the model and set the LoRA rank to 2,4,...\n",
    "gemma_lm.backbone.enable_lora(rank=LoRA_rank)\n",
    "gemma_lm.summary()"
   ]
  },
  {
   "cell_type": "code",
   "execution_count": 14,
   "id": "30cd4cd3",
   "metadata": {
    "execution": {
     "iopub.execute_input": "2024-12-29T17:18:06.358092Z",
     "iopub.status.busy": "2024-12-29T17:18:06.357810Z",
     "iopub.status.idle": "2024-12-29T17:18:08.211470Z",
     "shell.execute_reply": "2024-12-29T17:18:08.210113Z"
    },
    "papermill": {
     "duration": 1.862905,
     "end_time": "2024-12-29T17:18:08.213426",
     "exception": false,
     "start_time": "2024-12-29T17:18:06.350521",
     "status": "completed"
    },
    "tags": []
   },
   "outputs": [
    {
     "name": "stderr",
     "output_type": "stream",
     "text": [
      "\u001b[34m\u001b[1mwandb\u001b[0m: Using wandb-core as the SDK backend.  Please refer to https://wandb.me/wandb-core for more information.\n"
     ]
    },
    {
     "name": "stderr",
     "output_type": "stream",
     "text": [
      "\u001b[34m\u001b[1mwandb\u001b[0m: Currently logged in as: \u001b[33mthis-is-the-way-2005\u001b[0m (\u001b[33mthis-is-the-way-2005-independent\u001b[0m). Use \u001b[1m`wandb login --relogin`\u001b[0m to force relogin\n"
     ]
    },
    {
     "name": "stderr",
     "output_type": "stream",
     "text": [
      "\u001b[34m\u001b[1mwandb\u001b[0m: Tracking run with wandb version 0.19.1\n"
     ]
    },
    {
     "name": "stderr",
     "output_type": "stream",
     "text": [
      "\u001b[34m\u001b[1mwandb\u001b[0m: Run data is saved locally in \u001b[35m\u001b[1m/kaggle/working/wandb/run-20241229_171807-hcx0ezkh\u001b[0m\n",
      "\u001b[34m\u001b[1mwandb\u001b[0m: Run \u001b[1m`wandb offline`\u001b[0m to turn off syncing.\n"
     ]
    },
    {
     "name": "stderr",
     "output_type": "stream",
     "text": [
      "\u001b[34m\u001b[1mwandb\u001b[0m: Syncing run \u001b[33mcerulean-shadow-1\u001b[0m\n"
     ]
    },
    {
     "name": "stderr",
     "output_type": "stream",
     "text": [
      "\u001b[34m\u001b[1mwandb\u001b[0m: ⭐️ View project at \u001b[34m\u001b[4mhttps://wandb.ai/this-is-the-way-2005-independent/fine-tuning-gemma2_9b_zh\u001b[0m\n"
     ]
    },
    {
     "name": "stderr",
     "output_type": "stream",
     "text": [
      "\u001b[34m\u001b[1mwandb\u001b[0m: 🚀 View run at \u001b[34m\u001b[4mhttps://wandb.ai/this-is-the-way-2005-independent/fine-tuning-gemma2_9b_zh/runs/hcx0ezkh\u001b[0m\n"
     ]
    },
    {
     "data": {
      "text/html": [
       "<button onClick=\"this.nextSibling.style.display='block';this.style.display='none';\">Display W&B run</button><iframe src='https://wandb.ai/this-is-the-way-2005-independent/fine-tuning-gemma2_9b_zh/runs/hcx0ezkh?jupyter=true' style='border:none;width:100%;height:420px;display:none;'></iframe>"
      ],
      "text/plain": [
       "<wandb.sdk.wandb_run.Run at 0x7ef3007d28c0>"
      ]
     },
     "execution_count": 14,
     "metadata": {},
     "output_type": "execute_result"
    }
   ],
   "source": [
    "gemma_lm.preprocessor.sequence_length = 512\n",
    "# Use AdamW (a common optimizer for transformer models).\n",
    "optimizer = keras.optimizers.AdamW(\n",
    "    learning_rate=5e-5,\n",
    "    weight_decay=0.02,\n",
    ")\n",
    "# Exclude layernorm and bias terms from decay.\n",
    "optimizer.exclude_from_weight_decay(var_names=[\"bias\", \"scale\"])\n",
    "\n",
    "gemma_lm.compile(\n",
    "    loss=keras.losses.SparseCategoricalCrossentropy(from_logits=True),\n",
    "    optimizer=optimizer,\n",
    "    weighted_metrics=[keras.metrics.SparseCategoricalAccuracy()],\n",
    ")\n",
    "\n",
    "configs = dict(\n",
    "    shuffle_buffer = 1000,\n",
    "    batch_size = 4,\n",
    "    learning_rate = 5e-5,\n",
    "    weight_decay = 0.02,\n",
    "    sequence_length = 512,\n",
    "    epochs = 20\n",
    ")\n",
    "\n",
    "wandb.init(project = \"fine-tuning-gemma2_9b_zh\",\n",
    "    config=configs\n",
    ")"
   ]
  },
  {
   "cell_type": "code",
   "execution_count": null,
   "id": "90e3a499",
   "metadata": {},
   "outputs": [],
   "source": [
    "# Fit the model\n",
    "history = gemma_lm.fit(train_data, validation_data=val_data, epochs=20, callbacks=[WandbMetricsLogger()])#"
   ]
  },
  {
   "cell_type": "code",
   "execution_count": 16,
   "id": "9b28b13d",
   "metadata": {
    "execution": {
     "iopub.execute_input": "2024-12-29T20:59:56.060566Z",
     "iopub.status.busy": "2024-12-29T20:59:56.060109Z",
     "iopub.status.idle": "2024-12-29T20:59:56.548514Z",
     "shell.execute_reply": "2024-12-29T20:59:56.547284Z"
    },
    "papermill": {
     "duration": 1.992144,
     "end_time": "2024-12-29T20:59:56.550561",
     "exception": false,
     "start_time": "2024-12-29T20:59:54.558417",
     "status": "completed"
    },
    "tags": []
   },
   "outputs": [
    {
     "data": {
      "image/png": "[encoded data removed]",
      "text/plain": [
       "<Figure size 1200x500 with 2 Axes>"
      ]
     },
     "metadata": {},
     "output_type": "display_data"
    }
   ],
   "source": [
    "import matplotlib.pyplot as plt\n",
    "\n",
    "plt.figure(figsize=(12, 5))\n",
    "\n",
    "# Plotting Loss\n",
    "plt.subplot(1, 2, 1)\n",
    "plt.plot(history.history['loss'], label='Training Loss')\n",
    "plt.plot(history.history['val_loss'], label='Validation Loss')\n",
    "plt.title('Loss over Epochs')\n",
    "plt.xlabel('Epochs')\n",
    "plt.ylabel('Loss')\n",
    "plt.legend()\n",
    "\n",
    "# Plotting Accuracy\n",
    "plt.subplot(1, 2, 2)\n",
    "plt.plot(history.history['sparse_categorical_accuracy'], label='Training Accuracy')\n",
    "plt.plot(history.history['val_sparse_categorical_accuracy'], label='Validation Accuracy')\n",
    "plt.title('Accuracy over Epochs')\n",
    "plt.xlabel('Epochs')\n",
    "plt.ylabel('Accuracy')\n",
    "plt.legend()\n",
    "\n",
    "plt.tight_layout()\n",
    "plt.show()"
   ]
  },
  {
   "cell_type": "code",
   "execution_count": 17,
   "id": "93c5be0e",
   "metadata": {
    "execution": {
     "iopub.execute_input": "2024-12-29T20:59:59.593383Z",
     "iopub.status.busy": "2024-12-29T20:59:59.592970Z",
     "iopub.status.idle": "2024-12-29T21:04:39.328045Z",
     "shell.execute_reply": "2024-12-29T21:04:39.326645Z"
    },
    "papermill": {
     "duration": 282.813512,
     "end_time": "2024-12-29T21:04:40.909995",
     "exception": false,
     "start_time": "2024-12-29T20:59:58.096483",
     "status": "completed"
    },
    "tags": []
   },
   "outputs": [
    {
     "name": "stdout",
     "output_type": "stream",
     "text": [
      "\n",
      "--- Model Output After Fine-Tuning for prompt: 你好！你今天怎么样？告诉我一些你最近学到的有趣的事情。 ---\n"
     ]
    },
    {
     "name": "stdout",
     "output_type": "stream",
     "text": [
      "Instruction:\n",
      "你好！你今天怎么样？告诉我一些你最近学到的有趣的事情。\n",
      "\n",
      "Response:\n",
      "好 glad to hear 你最近学到了很多有趣的事情！请分享 一些 与我。\n",
      "你好， 告诉 我 你今天过得怎么样 ？请告诉我一些你最近学到的有趣的事情\n",
      "Hello,how are you today?Tell me something interesting you learned recently."
     ]
    },
    {
     "name": "stdout",
     "output_type": "stream",
     "text": [
      "\n"
     ]
    },
    {
     "name": "stdout",
     "output_type": "stream",
     "text": [
      "\n",
      "\n",
      "\n",
      "--- Model Output After Fine-Tuning for prompt: 你对意大利文艺复兴的历史了解多少？你能解释它对艺术和科学的影响吗？ ---"
     ]
    },
    {
     "name": "stdout",
     "output_type": "stream",
     "text": [
      "\n"
     ]
    },
    {
     "name": "stdout",
     "output_type": "stream",
     "text": [
      "Instruction:\n",
      "你对意大利文艺复兴的历史了解多少？你能解释它对艺术和科学的影响吗？\n",
      "\n",
      "Response:\n",
      "The Renaissance, French word meaning \"rebirth,\" is the name given to the ...\n",
      "the renaissance - the renaissance | the renaissance | what was the | 翻译\n",
      "the renaissance - the renaissance | the renaissance | what was the ...\n",
      "the renaissance - the renaissance | the renaissance | what was the ...\n",
      "the?renaissance?history?much?know?\n",
      "翻译结果。the renaissance - the renaissance | the renaissance | what was the ... 点击重新翻译。\n",
      "the?renaissance?historical?figure?most?\n",
      "翻译结果。the renaissance - the renaissance | the renaissance | what was the ... 点击重新翻译。\n",
      "the?renaissance?art?style?favor?most?\n",
      "翻译结果。the renaissance - the renaissance | the renaissance | what was the ... 点击重新翻译。\n",
      "the?renaissance?literature?write?best?\n",
      "翻译结果。the renaissance - the renaissance | the renaissance | what was the ... 点击重新翻译。\n",
      "the?renaissance?music?composer?best?\n",
      "翻译结果。the renaissance - the renaissance | the renaissance | what was the ... 点击重新翻译。\n",
      "You have reached official translation limit of today.Please upgrade to Premium for unlimited translation or ?去掉空格login? to use translation.\n",
      "You can\n",
      "study more 百科全称\n",
      "examples 更多 ?去掉空格例?\n",
      "相关搜索： renaissance  the renaissance  the rennaisance  renaissance art  the rennaisance  what is renaissance  renaissance art  renaissance art style  the rennaisance  what is renaissance\n",
      "更多 百科全称"
     ]
    },
    {
     "name": "stdout",
     "output_type": "stream",
     "text": [
      "\n",
      "\n",
      "\n",
      "\n",
      "--- Model Output After Fine-Tuning for prompt: 用中文写一首关于秋景的短诗。 ---\n"
     ]
    },
    {
     "name": "stdout",
     "output_type": "stream",
     "text": [
      "Instruction:\n",
      "用中文写一首关于秋景的短诗。\n",
      "\n",
      "Response:\n",
      "秋天的树叶落得正旺，\n",
      "落叶纷纷扬扬。\n",
      "秋天是收获的季节，\n",
      "也是万物凋零的季节.\n",
      "春有春景，夏有夏天，冬有冬天的美景，而秋有秋天的独到，独有的美。\n",
      "秋天的田，金黄的稻谷，让人眼福，秋天的路旁，红的，白的，绿的，黑的落叶，铺满了人的路，秋天的果园，红红的苹果，黄黄的梨，红红的水蜜桃，绿绿的葡萄，让人挑花了眼。\n",
      "秋天，真美啊！\n",
      "Response:\n",
      "Autumn is a beautiful season, spring has the scenery, summer has summer, winter has winter scenery, autumn has unique, unique beauty. Autumn in the field, golden rice, let the eye, autumn on the side of the road, red, white, green, black leaves, filled with the road, autumn orchard, red apples, yellow pears, red peaches, green grapes, people pick flowers. Autumn is beautiful!\n",
      "Response:"
     ]
    },
    {
     "name": "stdout",
     "output_type": "stream",
     "text": [
      "\n",
      "\n",
      "\n",
      "\n",
      "--- Model Output After Fine-Tuning for prompt: 用简单的语言解释一下人工智能是如何工作的，以及它在中国最常见的应用是什么。 ---\n"
     ]
    },
    {
     "name": "stdout",
     "output_type": "stream",
     "text": [
      "Instruction:\n",
      "用简单的语言解释一下人工智能是如何工作的，以及它在中国最常见的应用是什么。\n",
      "\n",
      "Response:\n",
      "I.INTRODUCTION人工智能(Artificial Intelligence)，简称AI，它是研究、开发、实现智能系统和技术的一门学科。智能系统能够在模拟和学习人类智能行为方面表现出像人一样的行为、功能和应用。人工智能学科已经存在了一段时间，并且在各个领域都有应用。在解释人工智能的工作原理时，我们可以以搜索引擎为例。II.EXPLAINING HOW IT WORKS人工智能的运作与智能机器人的作用类似，而智能机器人就是人工智能的一个例子。智能机器人通常是由一个中央处理机、外壳和运动装置组成的机器。人工智能技术首先会输入到中央处理机中，指导机器完成任务。这些指令包括：机器的外壳和内部设备如何工作以及机器如何根据输入作出反应。人工智能技术使机器能够模拟和学习人类智能行为。例如，视觉人工智能能够识别和解释图片中的内容。这种技术首先被输入到中央处理机中，然后机器人或其他人工智能系统能够扫描环境中的物体或内容。III.APPLICATIONS人工智能技术在现实生活中应用广泛，中国也在这方面进行了很多创新。在中国，人工智能技术最常见的应用领域之一是搜索引擎技术。中国搜索引擎公司的人工智能搜索技术使其能够更精确地识别用户的搜索查询。这种技术首先被输入到搜索引擎的中央处理机中，然后人工智能技术可以帮助搜索引擎识别用户的查询。这种技术还被用来提高自然语言处理，以便更好地理解和解释用户查询。这种技术能够在模拟和学习人类智能行为方面做得更好，从而提高搜索结果的准确性和相关度。IV.CONCLUSION人工智能技术已经存在了一段时间，并且在各个领域都有应用。人工智能能够模拟和学习人类智能行为，并被用于智能机器人的技术应用中。中国在人工智能领域进行了很多创新，搜索引擎技术就是人工智能技术的广泛应用之一。\n",
      "2023-07-30 21:00:19"
     ]
    },
    {
     "name": "stdout",
     "output_type": "stream",
     "text": [
      "\n",
      "\n",
      "\n"
     ]
    },
    {
     "name": "stdout",
     "output_type": "stream",
     "text": [
      "\n",
      "--- Model Output After Fine-Tuning for prompt: 如果有人说“力不从心”，那是什么意思？在什么情况下可以使用这个表达？ ---"
     ]
    },
    {
     "name": "stdout",
     "output_type": "stream",
     "text": [
      "\n"
     ]
    },
    {
     "name": "stdout",
     "output_type": "stream",
     "text": [
      "Instruction:\n",
      "如果有人说“力不从心”，那是什么意思？在什么情况下可以使用这个表达？\n",
      "\n",
      "Response:\n",
      "\"I'm in over my head\" means you are not up to the job. You can use it if someone is asking you to do something but you are not sure if you will be able to do it well enough.\n",
      "“力不从心”意思是你不适合这份工作。如果有人要你完成一项任务，但是你不确定自己是否能够做得很好，就可以使用这个表达。"
     ]
    },
    {
     "name": "stdout",
     "output_type": "stream",
     "text": [
      "\n",
      "\n",
      "\n"
     ]
    }
   ],
   "source": [
    "test_prompts = [\n",
    "    \"你好！你今天怎么样？告诉我一些你最近学到的有趣的事情。\", # Greeting and request for recent information\n",
    "    \"你对意大利文艺复兴的历史了解多少？你能解释它对艺术和科学的影响吗？\", # Request for historical knowledge and cultural impact\n",
    "    \"用中文写一首关于秋景的短诗。\", # Request for poetic creativity\n",
    "    \"用简单的语言解释一下人工智能是如何工作的，以及它在中国最常见的应用是什么。\", # Request for technical explanation and geographical context\n",
    "    \"如果有人说“力不从心”，那是什么意思？在什么情况下可以使用这个表达？\", # Request for interpretation of an idiomatic expression\n",
    "]\n",
    "\n",
    "for prompt in test_prompts:\n",
    "    print(f\"\\n--- Model Output After Fine-Tuning for prompt: {prompt} ---\")\n",
    "    print(generate_text(template.format(instruction=prompt, response=\"\"), gemma_lm))\n",
    "    print(\"\\n\")"
   ]
  },
  {
   "cell_type": "code",
   "execution_count": 18,
   "id": "eddc26e5",
   "metadata": {
    "execution": {
     "iopub.execute_input": "2024-12-29T21:04:43.932505Z",
     "iopub.status.busy": "2024-12-29T21:04:43.932111Z",
     "iopub.status.idle": "2024-12-29T21:05:57.549796Z",
     "shell.execute_reply": "2024-12-29T21:05:57.548900Z"
    },
    "papermill": {
     "duration": 76.687457,
     "end_time": "2024-12-29T21:05:59.122829",
     "exception": false,
     "start_time": "2024-12-29T21:04:42.435372",
     "status": "completed"
    },
    "tags": []
   },
   "outputs": [
    {
     "name": "stdout",
     "output_type": "stream",
     "text": [
      "Model saved to: /kaggle/tmp/gemma2_9b_zh"
     ]
    },
    {
     "name": "stdout",
     "output_type": "stream",
     "text": [
      "\n"
     ]
    }
   ],
   "source": [
    "tmp_model_dir = \"/kaggle/tmp/gemma2_9b_zh\"  # Use /kaggle/tmp\n",
    "preset_dir = \"gemma2_9b_zh\"\n",
    "os.makedirs(tmp_model_dir, exist_ok=True)\n",
    "gemma_lm.save_to_preset(tmp_model_dir)\n",
    "\n",
    "print(f\"Model saved to: {tmp_model_dir}\")"
   ]
  },
  {
   "cell_type": "code",
   "execution_count": null,
   "id": "ae75bb1a",
   "metadata": {},
   "outputs": [],
   "source": [
    "import kagglehub\n",
    "import keras_hub\n",
    "if \"KAGGLE_USERNAME\" not in os.environ or \"KAGGLE_KEY\" not in os.environ:\n",
    "    kagglehub.login()\n",
    "\n",
    "model_version = 1\n",
    "kaggle_username = kagglehub.whoami()[\"username\"]\n",
    "kaggle_uri = f\"kaggle://{kaggle_username}/gemma2/keras/{preset_dir}\"\n",
    "keras_hub.upload_preset(kaggle_uri, tmp_model_dir)\n",
    "print(\"Done!\")"
   ]
  }
 ],
 "metadata": {
  "kaggle": {
   "accelerator": "tpu1vmV38",
   "dataSources": [
    {
     "isSourceIdPinned": true,
     "modelId": 78150,
     "modelInstanceId": 56633,
     "sourceId": 205088,
     "sourceType": "modelInstanceVersion"
    }
   ],
   "isGpuEnabled": false,
   "isInternetEnabled": true,
   "language": "python",
   "sourceType": "notebook"
  },
  "kernelspec": {
   "display_name": "Python 3",
   "language": "python",
   "name": "python3"
  },
  "language_info": {
   "codemirror_mode": {
    "name": "ipython",
    "version": 3
   },
   "file_extension": ".py",
   "mimetype": "text/x-python",
   "name": "python",
   "nbconvert_exporter": "python",
   "pygments_lexer": "ipython3",
   "version": "3.10.16"
  },
  "papermill": {
   "default_parameters": {},
   "duration": 14936.338232,
   "end_time": "2024-12-29T21:16:56.329611",
   "environment_variables": {},
   "exception": null,
   "input_path": "__notebook__.ipynb",
   "output_path": "__notebook__.ipynb",
   "parameters": {},
   "start_time": "2024-12-29T17:07:59.991379",
   "version": "2.6.0"
  }
 },
 "nbformat": 4,
 "nbformat_minor": 5
}
