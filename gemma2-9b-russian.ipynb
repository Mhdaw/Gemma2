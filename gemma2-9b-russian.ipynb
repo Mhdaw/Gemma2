{
 "cells": [
  {
   "cell_type": "code",
   "execution_count": null,
   "id": "1243a045",
   "metadata": {},
   "outputs": [],
   "source": [
    "!pip install -q -U keras-nlp keras datasets kagglehub keras_hub \n",
    "!pip install -q -U tensorflow-text\n",
    "# Install tensorflow-cpu so tensorflow does not attempt to access the TPU.\n",
    "!pip install -q -U tensorflow-cpu\n",
    "!pip install -q -U wandb"
   ]
  },
  {
   "cell_type": "code",
   "execution_count": 2,
   "id": "9d9d5a67",
   "metadata": {
    "execution": {
     "iopub.execute_input": "2024-12-27T20:41:06.592716Z",
     "iopub.status.busy": "2024-12-27T20:41:06.592453Z",
     "iopub.status.idle": "2024-12-27T20:41:15.097439Z",
     "shell.execute_reply": "2024-12-27T20:41:15.096370Z"
    },
    "papermill": {
     "duration": 8.511693,
     "end_time": "2024-12-27T20:41:15.099114",
     "exception": false,
     "start_time": "2024-12-27T20:41:06.587421",
     "status": "completed"
    },
    "tags": []
   },
   "outputs": [
    {
     "name": "stderr",
     "output_type": "stream",
     "text": [
      "WARNING: Logging before InitGoogle() is written to STDERR\n",
      "E0000 00:00:1735332070.778539      74 common_lib.cc:798] Could not set metric server port: INVALID_ARGUMENT: Could not find SliceBuilder port 8471 in any of the 0 ports provided in `tpu_process_addresses`=\"local\"\n",
      "=== Source Location Trace: ===\n",
      "learning/45eac/tfrc/runtime/common_lib.cc:479\n"
     ]
    },
    {
     "name": "stderr",
     "output_type": "stream",
     "text": [
      "E1227 20:41:10.834751243      74 oauth2_credentials.cc:238]            oauth_fetch: UNKNOWN:C-ares status is not ARES_SUCCESS qtype=A name=metadata.google.internal. is_balancer=0: Domain name not found {grpc_status:2, created_time:\"2024-12-27T20:41:10.83473404+00:00\"}\n"
     ]
    },
    {
     "data": {
      "text/plain": [
       "[TpuDevice(id=0, process_index=0, coords=(0,0,0), core_on_chip=0),\n",
       " TpuDevice(id=1, process_index=0, coords=(0,0,0), core_on_chip=1),\n",
       " TpuDevice(id=2, process_index=0, coords=(1,0,0), core_on_chip=0),\n",
       " TpuDevice(id=3, process_index=0, coords=(1,0,0), core_on_chip=1),\n",
       " TpuDevice(id=4, process_index=0, coords=(0,1,0), core_on_chip=0),\n",
       " TpuDevice(id=5, process_index=0, coords=(0,1,0), core_on_chip=1),\n",
       " TpuDevice(id=6, process_index=0, coords=(1,1,0), core_on_chip=0),\n",
       " TpuDevice(id=7, process_index=0, coords=(1,1,0), core_on_chip=1)]"
      ]
     },
     "execution_count": 2,
     "metadata": {},
     "output_type": "execute_result"
    }
   ],
   "source": [
    "import jax\n",
    "jax.devices()"
   ]
  },
  {
   "cell_type": "code",
   "execution_count": 3,
   "id": "4e89d086",
   "metadata": {
    "execution": {
     "iopub.execute_input": "2024-12-27T20:41:15.108816Z",
     "iopub.status.busy": "2024-12-27T20:41:15.108476Z",
     "iopub.status.idle": "2024-12-27T20:41:15.112640Z",
     "shell.execute_reply": "2024-12-27T20:41:15.111867Z"
    },
    "papermill": {
     "duration": 0.011096,
     "end_time": "2024-12-27T20:41:15.114417",
     "exception": false,
     "start_time": "2024-12-27T20:41:15.103321",
     "status": "completed"
    },
    "tags": []
   },
   "outputs": [],
   "source": [
    "import os\n",
    "# from kaggle_secrets import UserSecretsClient\n",
    "# from google.colab import userdata\n",
    "#import getpass\n",
    "os.environ[\"KAGGLE_USERNAME\"] = \"your-username\"# or UserSecretsClient().get_secret(KAGGLE_USERNAME) or userdata.get(KAGGLE_USERNAME) or getpass.getpass(\"Enter your KAGGLE_USERNAME: \")\n",
    "os.environ[\"KAGGLE_KEY\"] = \"kaggle-api-key\" # or UserSecretsClient().get_secret(KAGGLE_KEY) or userdata.get(KAGGLE_KEY) or getpass.getpass(\"Enter your  KAGGLE_KEY: \")\n",
    "os.environ[\"WANDB_API_KEY\"] = \"wand-api-key\" # or UserSecretsClient().get_secret(WANDB_API_KEY) or userdata.get(WANDB_API_KEY) or getpass.getpass(\"Enter your WANDB_API_KEY: \")\n",
    "os.environ[\"KERAS_BACKEND\"] = \"jax\"\n",
    "os.environ[\"XLA_PYTHON_CLIENT_MEM_FRACTION\"] = \"1.00\""
   ]
  },
  {
   "cell_type": "code",
   "execution_count": 4,
   "id": "440369c9",
   "metadata": {
    "execution": {
     "iopub.execute_input": "2024-12-27T20:41:15.123030Z",
     "iopub.status.busy": "2024-12-27T20:41:15.122829Z",
     "iopub.status.idle": "2024-12-27T20:41:28.414884Z",
     "shell.execute_reply": "2024-12-27T20:41:28.412729Z"
    },
    "papermill": {
     "duration": 13.298387,
     "end_time": "2024-12-27T20:41:28.416305",
     "exception": false,
     "start_time": "2024-12-27T20:41:15.117918",
     "status": "completed"
    },
    "tags": []
   },
   "outputs": [
    {
     "name": "stderr",
     "output_type": "stream",
     "text": [
      "/usr/local/lib/python3.10/site-packages/tqdm/auto.py:21: TqdmWarning: IProgress not found. Please update jupyter and ipywidgets. See https://ipywidgets.readthedocs.io/en/stable/user_install.html\n",
      "  from .autonotebook import tqdm as notebook_tqdm\n"
     ]
    }
   ],
   "source": [
    "import tensorflow as tf\n",
    "import keras\n",
    "import keras_nlp\n",
    "from datasets import load_dataset\n",
    "import itertools\n",
    "import wandb\n",
    "from wandb.integration.keras import WandbMetricsLogger"
   ]
  },
  {
   "cell_type": "code",
   "execution_count": 5,
   "id": "7d2b44a5",
   "metadata": {
    "execution": {
     "iopub.execute_input": "2024-12-27T20:41:28.427791Z",
     "iopub.status.busy": "2024-12-27T20:41:28.427542Z",
     "iopub.status.idle": "2024-12-27T20:42:09.766722Z",
     "shell.execute_reply": "2024-12-27T20:42:09.765676Z"
    },
    "papermill": {
     "duration": 41.348252,
     "end_time": "2024-12-27T20:42:09.769118",
     "exception": false,
     "start_time": "2024-12-27T20:41:28.420866",
     "status": "completed"
    },
    "tags": []
   },
   "outputs": [],
   "source": [
    "data = load_dataset(\"allenai/c4\", \"ru\", streaming=True)"
   ]
  },
  {
   "cell_type": "code",
   "execution_count": 6,
   "id": "e68f6cce",
   "metadata": {
    "execution": {
     "iopub.execute_input": "2024-12-27T20:42:09.779162Z",
     "iopub.status.busy": "2024-12-27T20:42:09.778907Z",
     "iopub.status.idle": "2024-12-27T20:42:22.216329Z",
     "shell.execute_reply": "2024-12-27T20:42:22.215182Z"
    },
    "papermill": {
     "duration": 12.445,
     "end_time": "2024-12-27T20:42:22.218391",
     "exception": false,
     "start_time": "2024-12-27T20:42:09.773391",
     "status": "completed"
    },
    "tags": []
   },
   "outputs": [
    {
     "name": "stdout",
     "output_type": "stream",
     "text": [
      "Sample Russian Data:\n",
      "Example 1: ✔👍🏿 Купить Seaweed Organic Mask в Новосибирске развод\n",
      "Купить Seaweed Organic Mask в Новосибирске развод\n",
      "Елена Малышева: \"Пигментация лица в Новосибирске осталась в прошлом\".\n",
      "Перейти на сайт поставщика в Новосибирске\n",
      "Seaweed Organic Mask маска из водорослей › ✔✔✔ в Новосибирске ✔✔✔\n",
      "Опубликовано: 09.09.2017, 20:12 | Автор: Дарина Матвеева\n",
      "Я тоже решила заказать.Когда глянула на статью, сразу поняла что Заказывала ЗДЕСЬ. Что этот тот же сайт. О котором и врач говорил. Вот только сроки до эффекта у \n",
      "Example 2: Наши отделения — Медицинский центр «САНА» — Медицинский центр в Алматы\n",
      "Специализация Кардиолог, терапевт\n",
      "Мустафина Айгуль Амирбековна\n",
      "Савенко Галина Михайловна\n",
      "Кардиолог, ревматолог, терапевт высшей категории\n",
      "В медицинском центре «САНА» заботятся о здоровье Ваших детей с момента рождения.\n",
      "Абдуллаева Гульбан Мухамеджановна\n",
      "Врач педиатр, неонатолог высшей категории, кандидат медицинских наук\n",
      "Бигазиева Зарина Койчибаевна\n",
      "Исабаева Галия Кыдырбаевна\n",
      "Сарбалакова Карлыгаш Жорабековна\n",
      "Тойбаева Айнур Тур\n"
     ]
    }
   ],
   "source": [
    "sample_data = []\n",
    "for i, example in enumerate(iter(data[\"train\"])):\n",
    "    if i >= 2:  # Change this number to get more examples\n",
    "        break\n",
    "    sample_data.append(example[\"text\"])\n",
    "\n",
    "print(\"Sample Russian Data:\")\n",
    "for i, text in enumerate(sample_data):\n",
    "    print(f\"Example {i + 1}:\", text[:500])  # Print the first 500 characters to get a preview"
   ]
  },
  {
   "cell_type": "code",
   "execution_count": 7,
   "id": "ddca12b7",
   "metadata": {
    "execution": {
     "iopub.execute_input": "2024-12-27T20:42:22.228925Z",
     "iopub.status.busy": "2024-12-27T20:42:22.228662Z",
     "iopub.status.idle": "2024-12-27T20:42:23.542702Z",
     "shell.execute_reply": "2024-12-27T20:42:23.541631Z"
    },
    "papermill": {
     "duration": 1.321759,
     "end_time": "2024-12-27T20:42:23.544537",
     "exception": false,
     "start_time": "2024-12-27T20:42:22.222778",
     "status": "completed"
    },
    "tags": []
   },
   "outputs": [
    {
     "name": "stdout",
     "output_type": "stream",
     "text": [
      "\n",
      "training length:5000\n"
     ]
    }
   ],
   "source": [
    "# Define the maximum number of examples for training and validation\n",
    "max_train_examples = 5000\n",
    "max_val_examples = 100\n",
    "\n",
    "# Create a plain-text list from a subset of the dataset\n",
    "# Load data subsets\n",
    "train_text_data = [example[\"text\"] for example in itertools.islice(data[\"train\"], max_train_examples)]\n",
    "val_text_data = [example[\"text\"] for example in itertools.islice(data[\"validation\"], max_val_examples)]\n",
    "\n",
    "# Check the first example to ensure loading is correct\n",
    "#print(\"First training example:\", train_text_data[0])\n",
    "#print(\"First validation example:\", val_text_data[0])\n",
    "print(f'\\ntraining length:{len(train_text_data)}')"
   ]
  },
  {
   "cell_type": "code",
   "execution_count": 8,
   "id": "7ba669bf",
   "metadata": {
    "execution": {
     "iopub.execute_input": "2024-12-27T20:42:23.555713Z",
     "iopub.status.busy": "2024-12-27T20:42:23.555450Z",
     "iopub.status.idle": "2024-12-27T20:42:24.123672Z",
     "shell.execute_reply": "2024-12-27T20:42:24.122562Z"
    },
    "papermill": {
     "duration": 0.575382,
     "end_time": "2024-12-27T20:42:24.125589",
     "exception": false,
     "start_time": "2024-12-27T20:42:23.550207",
     "status": "completed"
    },
    "tags": []
   },
   "outputs": [],
   "source": [
    "batch_size = 4\n",
    "\n",
    "# Convert the lists of text data to TensorFlow datasets\n",
    "train_data = tf.data.Dataset.from_tensor_slices(train_text_data)\n",
    "val_data = tf.data.Dataset.from_tensor_slices(val_text_data)\n",
    "\n",
    "# Preprocess each text sample\n",
    "def preprocess_text(text):\n",
    "    return tf.convert_to_tensor(text, dtype=tf.string)\n",
    "\n",
    "# Apply preprocessing (optional if text is already clean)\n",
    "train_data = train_data.map(preprocess_text)\n",
    "val_data = val_data.map(preprocess_text)\n",
    "\n",
    "# Shuffle and batch the training data\n",
    "train_data = train_data.shuffle(buffer_size=1000).batch(batch_size)\n",
    "val_data = val_data.batch(batch_size)"
   ]
  },
  {
   "cell_type": "code",
   "execution_count": 9,
   "id": "f7289ef6",
   "metadata": {
    "execution": {
     "iopub.execute_input": "2024-12-27T20:42:24.136054Z",
     "iopub.status.busy": "2024-12-27T20:42:24.135767Z",
     "iopub.status.idle": "2024-12-27T20:44:28.481296Z",
     "shell.execute_reply": "2024-12-27T20:44:28.480352Z"
    },
    "papermill": {
     "duration": 124.35303,
     "end_time": "2024-12-27T20:44:28.483295",
     "exception": false,
     "start_time": "2024-12-27T20:42:24.130265",
     "status": "completed"
    },
    "tags": []
   },
   "outputs": [
    {
     "name": "stderr",
     "output_type": "stream",
     "text": [
      "normalizer.cc(51) LOG(INFO) precompiled_charsmap is empty. use identity normalization.\n"
     ]
    },
    {
     "data": {
      "text/html": [
       "<pre style=\"white-space:pre;overflow-x:auto;line-height:normal;font-family:Menlo,'DejaVu Sans Mono',consolas,'Courier New',monospace\"><span style=\"font-weight: bold\">Preprocessor: \"gemma_causal_lm_preprocessor\"</span>\n",
       "</pre>\n"
      ],
      "text/plain": [
       "\u001b[1mPreprocessor: \"gemma_causal_lm_preprocessor\"\u001b[0m\n"
      ]
     },
     "metadata": {},
     "output_type": "display_data"
    },
    {
     "data": {
      "text/html": [
       "<pre style=\"white-space:pre;overflow-x:auto;line-height:normal;font-family:Menlo,'DejaVu Sans Mono',consolas,'Courier New',monospace\">┏━━━━━━━━━━━━━━━━━━━━━━━━━━━━━━━━━━━━━━━━━━━━━━━━━━━━━━━━━━━━━━━┳━━━━━━━━━━━━━━━━━━━━━━━━━━━━━━━━━━━━━━━━━━┓\n",
       "┃<span style=\"font-weight: bold\"> Layer (type)                                                  </span>┃<span style=\"font-weight: bold\">                                   Config </span>┃\n",
       "┡━━━━━━━━━━━━━━━━━━━━━━━━━━━━━━━━━━━━━━━━━━━━━━━━━━━━━━━━━━━━━━━╇━━━━━━━━━━━━━━━━━━━━━━━━━━━━━━━━━━━━━━━━━━┩\n",
       "│ gemma_tokenizer (<span style=\"color: #0087ff; text-decoration-color: #0087ff\">GemmaTokenizer</span>)                              │                      Vocab size: <span style=\"color: #00af00; text-decoration-color: #00af00\">256,000</span> │\n",
       "└───────────────────────────────────────────────────────────────┴──────────────────────────────────────────┘\n",
       "</pre>\n"
      ],
      "text/plain": [
       "┏━━━━━━━━━━━━━━━━━━━━━━━━━━━━━━━━━━━━━━━━━━━━━━━━━━━━━━━━━━━━━━━┳━━━━━━━━━━━━━━━━━━━━━━━━━━━━━━━━━━━━━━━━━━┓\n",
       "┃\u001b[1m \u001b[0m\u001b[1mLayer (type)                                                 \u001b[0m\u001b[1m \u001b[0m┃\u001b[1m \u001b[0m\u001b[1m                                  Config\u001b[0m\u001b[1m \u001b[0m┃\n",
       "┡━━━━━━━━━━━━━━━━━━━━━━━━━━━━━━━━━━━━━━━━━━━━━━━━━━━━━━━━━━━━━━━╇━━━━━━━━━━━━━━━━━━━━━━━━━━━━━━━━━━━━━━━━━━┩\n",
       "│ gemma_tokenizer (\u001b[38;5;33mGemmaTokenizer\u001b[0m)                              │                      Vocab size: \u001b[38;5;34m256,000\u001b[0m │\n",
       "└───────────────────────────────────────────────────────────────┴──────────────────────────────────────────┘\n"
      ]
     },
     "metadata": {},
     "output_type": "display_data"
    },
    {
     "data": {
      "text/html": [
       "<pre style=\"white-space:pre;overflow-x:auto;line-height:normal;font-family:Menlo,'DejaVu Sans Mono',consolas,'Courier New',monospace\"><span style=\"font-weight: bold\">Model: \"gemma_causal_lm\"</span>\n",
       "</pre>\n"
      ],
      "text/plain": [
       "\u001b[1mModel: \"gemma_causal_lm\"\u001b[0m\n"
      ]
     },
     "metadata": {},
     "output_type": "display_data"
    },
    {
     "data": {
      "text/html": [
       "<pre style=\"white-space:pre;overflow-x:auto;line-height:normal;font-family:Menlo,'DejaVu Sans Mono',consolas,'Courier New',monospace\">┏━━━━━━━━━━━━━━━━━━━━━━━━━━━━━━━┳━━━━━━━━━━━━━━━━━━━━━━━━━━━┳━━━━━━━━━━━━━━━━━┳━━━━━━━━━━━━━━━━━━━━━━━━━━━━┓\n",
       "┃<span style=\"font-weight: bold\"> Layer (type)                  </span>┃<span style=\"font-weight: bold\"> Output Shape              </span>┃<span style=\"font-weight: bold\">         Param # </span>┃<span style=\"font-weight: bold\"> Connected to               </span>┃\n",
       "┡━━━━━━━━━━━━━━━━━━━━━━━━━━━━━━━╇━━━━━━━━━━━━━━━━━━━━━━━━━━━╇━━━━━━━━━━━━━━━━━╇━━━━━━━━━━━━━━━━━━━━━━━━━━━━┩\n",
       "│ padding_mask (<span style=\"color: #0087ff; text-decoration-color: #0087ff\">InputLayer</span>)     │ (<span style=\"color: #00d7ff; text-decoration-color: #00d7ff\">None</span>, <span style=\"color: #00d7ff; text-decoration-color: #00d7ff\">None</span>)              │               <span style=\"color: #00af00; text-decoration-color: #00af00\">0</span> │ -                          │\n",
       "├───────────────────────────────┼───────────────────────────┼─────────────────┼────────────────────────────┤\n",
       "│ token_ids (<span style=\"color: #0087ff; text-decoration-color: #0087ff\">InputLayer</span>)        │ (<span style=\"color: #00d7ff; text-decoration-color: #00d7ff\">None</span>, <span style=\"color: #00d7ff; text-decoration-color: #00d7ff\">None</span>)              │               <span style=\"color: #00af00; text-decoration-color: #00af00\">0</span> │ -                          │\n",
       "├───────────────────────────────┼───────────────────────────┼─────────────────┼────────────────────────────┤\n",
       "│ gemma_backbone                │ (<span style=\"color: #00d7ff; text-decoration-color: #00d7ff\">None</span>, <span style=\"color: #00d7ff; text-decoration-color: #00d7ff\">None</span>, <span style=\"color: #00af00; text-decoration-color: #00af00\">3584</span>)        │   <span style=\"color: #00af00; text-decoration-color: #00af00\">9,241,705,984</span> │ padding_mask[<span style=\"color: #00af00; text-decoration-color: #00af00\">0</span>][<span style=\"color: #00af00; text-decoration-color: #00af00\">0</span>],        │\n",
       "│ (<span style=\"color: #0087ff; text-decoration-color: #0087ff\">GemmaBackbone</span>)               │                           │                 │ token_ids[<span style=\"color: #00af00; text-decoration-color: #00af00\">0</span>][<span style=\"color: #00af00; text-decoration-color: #00af00\">0</span>]            │\n",
       "├───────────────────────────────┼───────────────────────────┼─────────────────┼────────────────────────────┤\n",
       "│ token_embedding               │ (<span style=\"color: #00d7ff; text-decoration-color: #00d7ff\">None</span>, <span style=\"color: #00d7ff; text-decoration-color: #00d7ff\">None</span>, <span style=\"color: #00af00; text-decoration-color: #00af00\">256000</span>)      │     <span style=\"color: #00af00; text-decoration-color: #00af00\">917,504,000</span> │ gemma_backbone[<span style=\"color: #00af00; text-decoration-color: #00af00\">0</span>][<span style=\"color: #00af00; text-decoration-color: #00af00\">0</span>]       │\n",
       "│ (<span style=\"color: #0087ff; text-decoration-color: #0087ff\">ReversibleEmbedding</span>)         │                           │                 │                            │\n",
       "└───────────────────────────────┴───────────────────────────┴─────────────────┴────────────────────────────┘\n",
       "</pre>\n"
      ],
      "text/plain": [
       "┏━━━━━━━━━━━━━━━━━━━━━━━━━━━━━━━┳━━━━━━━━━━━━━━━━━━━━━━━━━━━┳━━━━━━━━━━━━━━━━━┳━━━━━━━━━━━━━━━━━━━━━━━━━━━━┓\n",
       "┃\u001b[1m \u001b[0m\u001b[1mLayer (type)                 \u001b[0m\u001b[1m \u001b[0m┃\u001b[1m \u001b[0m\u001b[1mOutput Shape             \u001b[0m\u001b[1m \u001b[0m┃\u001b[1m \u001b[0m\u001b[1m        Param #\u001b[0m\u001b[1m \u001b[0m┃\u001b[1m \u001b[0m\u001b[1mConnected to              \u001b[0m\u001b[1m \u001b[0m┃\n",
       "┡━━━━━━━━━━━━━━━━━━━━━━━━━━━━━━━╇━━━━━━━━━━━━━━━━━━━━━━━━━━━╇━━━━━━━━━━━━━━━━━╇━━━━━━━━━━━━━━━━━━━━━━━━━━━━┩\n",
       "│ padding_mask (\u001b[38;5;33mInputLayer\u001b[0m)     │ (\u001b[38;5;45mNone\u001b[0m, \u001b[38;5;45mNone\u001b[0m)              │               \u001b[38;5;34m0\u001b[0m │ -                          │\n",
       "├───────────────────────────────┼───────────────────────────┼─────────────────┼────────────────────────────┤\n",
       "│ token_ids (\u001b[38;5;33mInputLayer\u001b[0m)        │ (\u001b[38;5;45mNone\u001b[0m, \u001b[38;5;45mNone\u001b[0m)              │               \u001b[38;5;34m0\u001b[0m │ -                          │\n",
       "├───────────────────────────────┼───────────────────────────┼─────────────────┼────────────────────────────┤\n",
       "│ gemma_backbone                │ (\u001b[38;5;45mNone\u001b[0m, \u001b[38;5;45mNone\u001b[0m, \u001b[38;5;34m3584\u001b[0m)        │   \u001b[38;5;34m9,241,705,984\u001b[0m │ padding_mask[\u001b[38;5;34m0\u001b[0m][\u001b[38;5;34m0\u001b[0m],        │\n",
       "│ (\u001b[38;5;33mGemmaBackbone\u001b[0m)               │                           │                 │ token_ids[\u001b[38;5;34m0\u001b[0m][\u001b[38;5;34m0\u001b[0m]            │\n",
       "├───────────────────────────────┼───────────────────────────┼─────────────────┼────────────────────────────┤\n",
       "│ token_embedding               │ (\u001b[38;5;45mNone\u001b[0m, \u001b[38;5;45mNone\u001b[0m, \u001b[38;5;34m256000\u001b[0m)      │     \u001b[38;5;34m917,504,000\u001b[0m │ gemma_backbone[\u001b[38;5;34m0\u001b[0m][\u001b[38;5;34m0\u001b[0m]       │\n",
       "│ (\u001b[38;5;33mReversibleEmbedding\u001b[0m)         │                           │                 │                            │\n",
       "└───────────────────────────────┴───────────────────────────┴─────────────────┴────────────────────────────┘\n"
      ]
     },
     "metadata": {},
     "output_type": "display_data"
    },
    {
     "data": {
      "text/html": [
       "<pre style=\"white-space:pre;overflow-x:auto;line-height:normal;font-family:Menlo,'DejaVu Sans Mono',consolas,'Courier New',monospace\"><span style=\"font-weight: bold\"> Total params: </span><span style=\"color: #00af00; text-decoration-color: #00af00\">9,241,705,984</span> (34.43 GB)\n",
       "</pre>\n"
      ],
      "text/plain": [
       "\u001b[1m Total params: \u001b[0m\u001b[38;5;34m9,241,705,984\u001b[0m (34.43 GB)\n"
      ]
     },
     "metadata": {},
     "output_type": "display_data"
    },
    {
     "data": {
      "text/html": [
       "<pre style=\"white-space:pre;overflow-x:auto;line-height:normal;font-family:Menlo,'DejaVu Sans Mono',consolas,'Courier New',monospace\"><span style=\"font-weight: bold\"> Trainable params: </span><span style=\"color: #00af00; text-decoration-color: #00af00\">9,241,705,984</span> (34.43 GB)\n",
       "</pre>\n"
      ],
      "text/plain": [
       "\u001b[1m Trainable params: \u001b[0m\u001b[38;5;34m9,241,705,984\u001b[0m (34.43 GB)\n"
      ]
     },
     "metadata": {},
     "output_type": "display_data"
    },
    {
     "data": {
      "text/html": [
       "<pre style=\"white-space:pre;overflow-x:auto;line-height:normal;font-family:Menlo,'DejaVu Sans Mono',consolas,'Courier New',monospace\"><span style=\"font-weight: bold\"> Non-trainable params: </span><span style=\"color: #00af00; text-decoration-color: #00af00\">0</span> (0.00 B)\n",
       "</pre>\n"
      ],
      "text/plain": [
       "\u001b[1m Non-trainable params: \u001b[0m\u001b[38;5;34m0\u001b[0m (0.00 B)\n"
      ]
     },
     "metadata": {},
     "output_type": "display_data"
    }
   ],
   "source": [
    "# Create a device mesh with (1, 8) shape so that the weights are sharded across\n",
    "# all 8 TPUs.\n",
    "device_mesh = keras.distribution.DeviceMesh(\n",
    "    (1, 8),\n",
    "    [\"batch\", \"model\"],\n",
    "    devices=keras.distribution.list_devices(),\n",
    ")\n",
    "\n",
    "model_dim = \"model\"\n",
    "\n",
    "layout_map = keras.distribution.LayoutMap(device_mesh)\n",
    "\n",
    "# Weights that match 'token_embedding/embeddings' will be sharded on 8 TPUs\n",
    "layout_map[\"token_embedding/embeddings\"] = (model_dim, None)\n",
    "# Regex to match against the query, key and value matrices in attention layers\n",
    "layout_map[\"decoder_block.*attention.*(query|key|value)/kernel\"] = (model_dim, None, None)\n",
    "layout_map[\"decoder_block.*attention_output/kernel\"] = (model_dim, None, None)\n",
    "layout_map[\"decoder_block.*ffw_gating.*/kernel\"] = (None, model_dim)\n",
    "layout_map[\"decoder_block.*ffw_linear/kernel\"] = (model_dim, None)\n",
    "\n",
    "model_parallel = keras.distribution.ModelParallel(\n",
    "    layout_map=layout_map,\n",
    "    batch_dim_name=\"batch\",\n",
    ")\n",
    "\n",
    "keras.distribution.set_distribution(model_parallel)\n",
    "model_id = \"/kaggle/input/gemma2/keras/gemma2_9b_en/3\" # change this if you want\n",
    "gemma_lm = keras_nlp.models.GemmaCausalLM.from_preset(model_id)\n",
    "gemma_lm.summary()"
   ]
  },
  {
   "cell_type": "code",
   "execution_count": 10,
   "id": "3f61b1f6",
   "metadata": {
    "execution": {
     "iopub.execute_input": "2024-12-27T20:44:28.494994Z",
     "iopub.status.busy": "2024-12-27T20:44:28.494756Z",
     "iopub.status.idle": "2024-12-27T20:44:28.499899Z",
     "shell.execute_reply": "2024-12-27T20:44:28.498645Z"
    },
    "papermill": {
     "duration": 0.012589,
     "end_time": "2024-12-27T20:44:28.501226",
     "exception": false,
     "start_time": "2024-12-27T20:44:28.488637",
     "status": "completed"
    },
    "tags": []
   },
   "outputs": [
    {
     "name": "stdout",
     "output_type": "stream",
     "text": [
      "<class 'keras_hub.src.models.gemma.gemma_decoder_block.GemmaDecoderBlock'>\n",
      "decoder_block_1/pre_attention_norm/scale          (3584,)         PartitionSpec(None,)\n",
      "decoder_block_1/post_attention_norm/scale         (3584,)         PartitionSpec(None,)\n",
      "decoder_block_1/attention/query/kernel            (16, 3584, 256)  PartitionSpec('model', None, None)\n",
      "decoder_block_1/attention/key/kernel              (8, 3584, 256)  PartitionSpec('model', None, None)\n",
      "decoder_block_1/attention/value/kernel            (8, 3584, 256)  PartitionSpec('model', None, None)\n",
      "decoder_block_1/attention/attention_output/kernel  (16, 256, 3584)  PartitionSpec('model', None, None)\n",
      "decoder_block_1/pre_ffw_norm/scale                (3584,)         PartitionSpec(None,)\n",
      "decoder_block_1/post_ffw_norm/scale               (3584,)         PartitionSpec(None,)\n",
      "decoder_block_1/ffw_gating/kernel                 (3584, 14336)   PartitionSpec(None, 'model')\n",
      "decoder_block_1/ffw_gating_2/kernel               (3584, 14336)   PartitionSpec(None, 'model')\n",
      "decoder_block_1/ffw_linear/kernel                 (14336, 3584)   PartitionSpec('model', None)\n"
     ]
    }
   ],
   "source": [
    "decoder_block_1 = gemma_lm.backbone.get_layer('decoder_block_1')\n",
    "print(type(decoder_block_1))\n",
    "for variable in decoder_block_1.weights:\n",
    "  print(f'{variable.path:<48}  {str(variable.shape):<14}  {str(variable.value.sharding.spec)}')"
   ]
  },
  {
   "cell_type": "code",
   "execution_count": 11,
   "id": "d5493111",
   "metadata": {
    "execution": {
     "iopub.execute_input": "2024-12-27T20:44:28.512978Z",
     "iopub.status.busy": "2024-12-27T20:44:28.512753Z",
     "iopub.status.idle": "2024-12-27T20:44:28.517507Z",
     "shell.execute_reply": "2024-12-27T20:44:28.516103Z"
    },
    "papermill": {
     "duration": 0.012294,
     "end_time": "2024-12-27T20:44:28.518660",
     "exception": false,
     "start_time": "2024-12-27T20:44:28.506366",
     "status": "completed"
    },
    "tags": []
   },
   "outputs": [],
   "source": [
    "template = \"Instruction:\\n{instruction}\\n\\nResponse:\\n{response}\"\n",
    "\n",
    "def generate_text(prompt, model):\n",
    "    \"\"\"\n",
    "    Generate text from the model based on a given prompt.\n",
    "    \"\"\"\n",
    "    sampler = keras_nlp.samplers.TopKSampler(k=5, seed=2)\n",
    "    model.compile(sampler=sampler)\n",
    "    output = model.generate(prompt, max_length=512)\n",
    "    return output"
   ]
  },
  {
   "cell_type": "code",
   "execution_count": 12,
   "id": "6cee7e1c",
   "metadata": {
    "execution": {
     "iopub.execute_input": "2024-12-27T20:44:28.529861Z",
     "iopub.status.busy": "2024-12-27T20:44:28.529642Z",
     "iopub.status.idle": "2024-12-27T20:48:29.868459Z",
     "shell.execute_reply": "2024-12-27T20:48:29.867442Z"
    },
    "papermill": {
     "duration": 241.351248,
     "end_time": "2024-12-27T20:48:29.874594",
     "exception": false,
     "start_time": "2024-12-27T20:44:28.523346",
     "status": "completed"
    },
    "tags": []
   },
   "outputs": [
    {
     "name": "stdout",
     "output_type": "stream",
     "text": [
      "\n",
      "--- Model Output Before Fine-Tuning for prompt: Привет! Как дела сегодня? Расскажи что-нибудь интересное, что ты недавно узнал. ---\n"
     ]
    },
    {
     "name": "stdout",
     "output_type": "stream",
     "text": [
      "Instruction:\n",
      "Привет! Как дела сегодня? Расскажи что-нибудь интересное, что ты недавно узнал.\n",
      "\n",
      "Response:\n",
      "Hello! How are you doing today? I recently learned that the word \"cat\" is derived from the Old English word \"catta.\" It's fascinating to see how language evolves over time and how certain words come to be used in different ways. I find it interesting to explore the origins of words and how they've been shaped by different cultures and languages. It's also interesting to think about the ways in which our language can reflect our own unique personalities and experiences.\n",
      "\n",
      "\n",
      "\n",
      "--- Model Output Before Fine-Tuning for prompt: Что ты знаешь об истории Ренессанса в Италии? Можешь объяснить его влияние на искусство и науку? ---\n"
     ]
    },
    {
     "name": "stdout",
     "output_type": "stream",
     "text": [
      "Instruction:\n",
      "Что ты знаешь об истории Ренессанса в Италии? Можешь объяснить его влияние на искусство и науку?\n",
      "\n",
      "Response:\n",
      "Rinascimento in Italia, in art and science.\n",
      "\n",
      "The word “Rinascimento” means “Renaissance” in Italian. It’s a historical movement of the 14th to 17th centuries that was characterized by a revival of art and literature. The Renaissance in Italy was the beginning of modern art. It was a period of great creativity and invention. The Renaissance in Italy is a time period that lasted from the 1400's to the 1600's. It is a time period that was characterized by a revival of art and literature.\n",
      "\n",
      "It is important to note that the Renaissance in Italy was not only about art and literature, but also science, philosophy, religion and politics. The Renaissance in Italy was a period of great change in the world. It was a time of great discovery and invention.\n",
      "\n",
      "The Renaissance was a time of discovery and invention. It is also a time of great art and literature, science, philosophy and religion. The Renaissance in Italy is a time period that lasted from the 1400's to the 1600's.\n",
      "\n",
      "It is important to note that the Renaissance in Italy was not only about art and literature, but also science, philosophy, religion and politics. The Renaissance in Italy was a period of great change in the world. It was a time of great discovery and invention. The Renaissance in Italy is a time period that lasted from the 1400's to the 1600's. It is important to note that the Renaissance in Italy was not only about art and literature, but also science, philosophy, religion and politics.\n",
      "\n",
      "The Renaissance in Italy was a time of great change in the world. It was a time of great discovery and invention. The Renaissance in Italy was a period of great creativity and invention. The Renaissance in Italy was a time period that lasted from the 1400's to the 1600's. It is important to note that the Renaissance in Italy was not only about art and literature, but also science, philosophy, religion and politics. The Renaissance in Italy was a period of great change in the world. It was a time of great discovery and invention.\n",
      "\n",
      "The Renaissance in Italy was a period of great creativity and invention. The Renaissance in Italy was\n",
      "\n",
      "\n",
      "\n",
      "--- Model Output Before Fine-Tuning for prompt: Напиши небольшое стихотворение на русском языке об осеннем пейзаже. ---\n"
     ]
    },
    {
     "name": "stdout",
     "output_type": "stream",
     "text": [
      "Instruction:\n",
      "Напиши небольшое стихотворение на русском языке об осеннем пейзаже.\n",
      "\n",
      "Response:\n",
      "На осенний пейзаж я смотрю\n",
      "И вижу, как меняю он цвет.\n",
      "Листья желтые, красные кружат, \n",
      "В воздухе пахнет осенью спелым. \n",
      "На небе тучи, ветер дует в лицо,\n",
      "Но я все равно люблю эту осень.\n",
      "\n",
      "\n",
      "\n",
      "--- Model Output Before Fine-Tuning for prompt: Объясни простыми словами, как работает искусственный интеллект и каковы его наиболее распространенные применения в России. ---\n"
     ]
    },
    {
     "name": "stdout",
     "output_type": "stream",
     "text": [
      "Instruction:\n",
      "Объясни простыми словами, как работает искусственный интеллект и каковы его наиболее распространенные применения в России.\n",
      "\n",
      "Response:\n",
      "Арtificial intelligence (AI) is a branch of computer science that aims to create systems that can perform tasks that typically require human intelligence, such as visual and auditory perception, decision-making, problem-solving, and learning. AI systems can be broadly classified into two categories: narrow AI or weak AI, which is limited to a specific task or set of tasks, and general AI or strong AI, which is able to perform any cognitive task that a human being can perform.\n",
      "\n",
      "One of the most common applications of AI in Russia is in the field of finance. For example, many Russian banks use AI algorithms to analyze financial data and detect fraud. AI systems can also be used to provide personalized recommendations for investments, based on an individual’s financial goals and risk tolerance.\n",
      "\n",
      "Another area where AI is widely used in Russia is in the field of medicine. AI algorithms can be used to analyze medical images, such as X-rays, MRIs, and CT scans, and help diagnose diseases such as cancer and heart disease. AI systems can also be used to predict the effectiveness of different treatments based on a patient’s medical history and other relevant data.\n",
      "\n",
      "In addition to finance and medicine, AI is also being used in a wide range of other industries in Russia, such as manufacturing, logistics, and transportation. For example, AI systems can be used to optimize supply chains, improve production efficiency, and enhance the performance of autonomous vehicles.\n",
      "\n",
      "Overall, the potential applications of AI are vast and varied, and it is likely to play an increasingly important role in shaping the future of many different industries and fields in Russia and around the world.\n",
      "\n",
      "\n",
      "\n",
      "--- Model Output Before Fine-Tuning for prompt: Если кто-то скажет: 'За двумя зайцами погонишься, ни одного не поймаешь', что это будет значить? В какой ситуации можно использовать это выражение? ---\n"
     ]
    },
    {
     "name": "stdout",
     "output_type": "stream",
     "text": [
      "Instruction:\n",
      "Если кто-то скажет: 'За двумя зайцами погонишься, ни одного не поймаешь', что это будет значить? В какой ситуации можно использовать это выражение?\n",
      "\n",
      "Response:\n",
      "За двумя зайцами погонишься, ни одного не поймаешь – не следует браться за два дела одновременно, так как это приведет к некачественному выполнению обеих заданий. Это выражение используется в ситуациях, когда человек не хочет выполнять какое-то из заданий.\n",
      "\n",
      "\n"
     ]
    }
   ],
   "source": [
    "# Sample prompt to check performance before and after fine-tuning\n",
    "test_prompts = [\n",
    "    \"Привет! Как дела сегодня? Расскажи что-нибудь интересное, что ты недавно узнал.\", # Greeting and request for recent information\n",
    "    \"Что ты знаешь об истории Ренессанса в Италии? Можешь объяснить его влияние на искусство и науку?\", # Request for historical knowledge and cultural impact\n",
    "    \"Напиши небольшое стихотворение на русском языке об осеннем пейзаже.\", # Request for poetic creativity\n",
    "    \"Объясни простыми словами, как работает искусственный интеллект и каковы его наиболее распространенные применения в России.\", # Request for technical explanation and geographical context\n",
    "    \"Если кто-то скажет: 'За двумя зайцами погонишься, ни одного не поймаешь', что это будет значить? В какой ситуации можно использовать это выражение?\", # Request for interpretation of an idiomatic expression\n",
    "]\n",
    "\n",
    "for prompt in test_prompts:\n",
    "    print(f\"\\n--- Model Output Before Fine-Tuning for prompt: {prompt} ---\")\n",
    "    print(generate_text(template.format(instruction=prompt, response=\"\"), gemma_lm))\n",
    "    print(\"\\n\")"
   ]
  },
  {
   "cell_type": "code",
   "execution_count": 13,
   "id": "a87a8973",
   "metadata": {
    "execution": {
     "iopub.execute_input": "2024-12-27T20:48:29.887653Z",
     "iopub.status.busy": "2024-12-27T20:48:29.887351Z",
     "iopub.status.idle": "2024-12-27T20:48:30.748012Z",
     "shell.execute_reply": "2024-12-27T20:48:30.746434Z"
    },
    "papermill": {
     "duration": 0.869748,
     "end_time": "2024-12-27T20:48:30.750060",
     "exception": false,
     "start_time": "2024-12-27T20:48:29.880312",
     "status": "completed"
    },
    "tags": []
   },
   "outputs": [
    {
     "data": {
      "text/html": [
       "<pre style=\"white-space:pre;overflow-x:auto;line-height:normal;font-family:Menlo,'DejaVu Sans Mono',consolas,'Courier New',monospace\"><span style=\"font-weight: bold\">Preprocessor: \"gemma_causal_lm_preprocessor\"</span>\n",
       "</pre>\n"
      ],
      "text/plain": [
       "\u001b[1mPreprocessor: \"gemma_causal_lm_preprocessor\"\u001b[0m\n"
      ]
     },
     "metadata": {},
     "output_type": "display_data"
    },
    {
     "data": {
      "text/html": [
       "<pre style=\"white-space:pre;overflow-x:auto;line-height:normal;font-family:Menlo,'DejaVu Sans Mono',consolas,'Courier New',monospace\">┏━━━━━━━━━━━━━━━━━━━━━━━━━━━━━━━━━━━━━━━━━━━━━━━━━━━━━━━━━━━━━━━┳━━━━━━━━━━━━━━━━━━━━━━━━━━━━━━━━━━━━━━━━━━┓\n",
       "┃<span style=\"font-weight: bold\"> Layer (type)                                                  </span>┃<span style=\"font-weight: bold\">                                   Config </span>┃\n",
       "┡━━━━━━━━━━━━━━━━━━━━━━━━━━━━━━━━━━━━━━━━━━━━━━━━━━━━━━━━━━━━━━━╇━━━━━━━━━━━━━━━━━━━━━━━━━━━━━━━━━━━━━━━━━━┩\n",
       "│ gemma_tokenizer (<span style=\"color: #0087ff; text-decoration-color: #0087ff\">GemmaTokenizer</span>)                              │                      Vocab size: <span style=\"color: #00af00; text-decoration-color: #00af00\">256,000</span> │\n",
       "└───────────────────────────────────────────────────────────────┴──────────────────────────────────────────┘\n",
       "</pre>\n"
      ],
      "text/plain": [
       "┏━━━━━━━━━━━━━━━━━━━━━━━━━━━━━━━━━━━━━━━━━━━━━━━━━━━━━━━━━━━━━━━┳━━━━━━━━━━━━━━━━━━━━━━━━━━━━━━━━━━━━━━━━━━┓\n",
       "┃\u001b[1m \u001b[0m\u001b[1mLayer (type)                                                 \u001b[0m\u001b[1m \u001b[0m┃\u001b[1m \u001b[0m\u001b[1m                                  Config\u001b[0m\u001b[1m \u001b[0m┃\n",
       "┡━━━━━━━━━━━━━━━━━━━━━━━━━━━━━━━━━━━━━━━━━━━━━━━━━━━━━━━━━━━━━━━╇━━━━━━━━━━━━━━━━━━━━━━━━━━━━━━━━━━━━━━━━━━┩\n",
       "│ gemma_tokenizer (\u001b[38;5;33mGemmaTokenizer\u001b[0m)                              │                      Vocab size: \u001b[38;5;34m256,000\u001b[0m │\n",
       "└───────────────────────────────────────────────────────────────┴──────────────────────────────────────────┘\n"
      ]
     },
     "metadata": {},
     "output_type": "display_data"
    },
    {
     "data": {
      "text/html": [
       "<pre style=\"white-space:pre;overflow-x:auto;line-height:normal;font-family:Menlo,'DejaVu Sans Mono',consolas,'Courier New',monospace\"><span style=\"font-weight: bold\">Model: \"gemma_causal_lm\"</span>\n",
       "</pre>\n"
      ],
      "text/plain": [
       "\u001b[1mModel: \"gemma_causal_lm\"\u001b[0m\n"
      ]
     },
     "metadata": {},
     "output_type": "display_data"
    },
    {
     "data": {
      "text/html": [
       "<pre style=\"white-space:pre;overflow-x:auto;line-height:normal;font-family:Menlo,'DejaVu Sans Mono',consolas,'Courier New',monospace\">┏━━━━━━━━━━━━━━━━━━━━━━━━━━━━━━━┳━━━━━━━━━━━━━━━━━━━━━━━━━━━┳━━━━━━━━━━━━━━━━━┳━━━━━━━━━━━━━━━━━━━━━━━━━━━━┓\n",
       "┃<span style=\"font-weight: bold\"> Layer (type)                  </span>┃<span style=\"font-weight: bold\"> Output Shape              </span>┃<span style=\"font-weight: bold\">         Param # </span>┃<span style=\"font-weight: bold\"> Connected to               </span>┃\n",
       "┡━━━━━━━━━━━━━━━━━━━━━━━━━━━━━━━╇━━━━━━━━━━━━━━━━━━━━━━━━━━━╇━━━━━━━━━━━━━━━━━╇━━━━━━━━━━━━━━━━━━━━━━━━━━━━┩\n",
       "│ padding_mask (<span style=\"color: #0087ff; text-decoration-color: #0087ff\">InputLayer</span>)     │ (<span style=\"color: #00d7ff; text-decoration-color: #00d7ff\">None</span>, <span style=\"color: #00d7ff; text-decoration-color: #00d7ff\">None</span>)              │               <span style=\"color: #00af00; text-decoration-color: #00af00\">0</span> │ -                          │\n",
       "├───────────────────────────────┼───────────────────────────┼─────────────────┼────────────────────────────┤\n",
       "│ token_ids (<span style=\"color: #0087ff; text-decoration-color: #0087ff\">InputLayer</span>)        │ (<span style=\"color: #00d7ff; text-decoration-color: #00d7ff\">None</span>, <span style=\"color: #00d7ff; text-decoration-color: #00d7ff\">None</span>)              │               <span style=\"color: #00af00; text-decoration-color: #00af00\">0</span> │ -                          │\n",
       "├───────────────────────────────┼───────────────────────────┼─────────────────┼────────────────────────────┤\n",
       "│ gemma_backbone                │ (<span style=\"color: #00d7ff; text-decoration-color: #00d7ff\">None</span>, <span style=\"color: #00d7ff; text-decoration-color: #00d7ff\">None</span>, <span style=\"color: #00af00; text-decoration-color: #00af00\">3584</span>)        │   <span style=\"color: #00af00; text-decoration-color: #00af00\">9,270,779,392</span> │ padding_mask[<span style=\"color: #00af00; text-decoration-color: #00af00\">0</span>][<span style=\"color: #00af00; text-decoration-color: #00af00\">0</span>],        │\n",
       "│ (<span style=\"color: #0087ff; text-decoration-color: #0087ff\">GemmaBackbone</span>)               │                           │                 │ token_ids[<span style=\"color: #00af00; text-decoration-color: #00af00\">0</span>][<span style=\"color: #00af00; text-decoration-color: #00af00\">0</span>]            │\n",
       "├───────────────────────────────┼───────────────────────────┼─────────────────┼────────────────────────────┤\n",
       "│ token_embedding               │ (<span style=\"color: #00d7ff; text-decoration-color: #00d7ff\">None</span>, <span style=\"color: #00d7ff; text-decoration-color: #00d7ff\">None</span>, <span style=\"color: #00af00; text-decoration-color: #00af00\">256000</span>)      │     <span style=\"color: #00af00; text-decoration-color: #00af00\">917,504,000</span> │ gemma_backbone[<span style=\"color: #00af00; text-decoration-color: #00af00\">0</span>][<span style=\"color: #00af00; text-decoration-color: #00af00\">0</span>]       │\n",
       "│ (<span style=\"color: #0087ff; text-decoration-color: #0087ff\">ReversibleEmbedding</span>)         │                           │                 │                            │\n",
       "└───────────────────────────────┴───────────────────────────┴─────────────────┴────────────────────────────┘\n",
       "</pre>\n"
      ],
      "text/plain": [
       "┏━━━━━━━━━━━━━━━━━━━━━━━━━━━━━━━┳━━━━━━━━━━━━━━━━━━━━━━━━━━━┳━━━━━━━━━━━━━━━━━┳━━━━━━━━━━━━━━━━━━━━━━━━━━━━┓\n",
       "┃\u001b[1m \u001b[0m\u001b[1mLayer (type)                 \u001b[0m\u001b[1m \u001b[0m┃\u001b[1m \u001b[0m\u001b[1mOutput Shape             \u001b[0m\u001b[1m \u001b[0m┃\u001b[1m \u001b[0m\u001b[1m        Param #\u001b[0m\u001b[1m \u001b[0m┃\u001b[1m \u001b[0m\u001b[1mConnected to              \u001b[0m\u001b[1m \u001b[0m┃\n",
       "┡━━━━━━━━━━━━━━━━━━━━━━━━━━━━━━━╇━━━━━━━━━━━━━━━━━━━━━━━━━━━╇━━━━━━━━━━━━━━━━━╇━━━━━━━━━━━━━━━━━━━━━━━━━━━━┩\n",
       "│ padding_mask (\u001b[38;5;33mInputLayer\u001b[0m)     │ (\u001b[38;5;45mNone\u001b[0m, \u001b[38;5;45mNone\u001b[0m)              │               \u001b[38;5;34m0\u001b[0m │ -                          │\n",
       "├───────────────────────────────┼───────────────────────────┼─────────────────┼────────────────────────────┤\n",
       "│ token_ids (\u001b[38;5;33mInputLayer\u001b[0m)        │ (\u001b[38;5;45mNone\u001b[0m, \u001b[38;5;45mNone\u001b[0m)              │               \u001b[38;5;34m0\u001b[0m │ -                          │\n",
       "├───────────────────────────────┼───────────────────────────┼─────────────────┼────────────────────────────┤\n",
       "│ gemma_backbone                │ (\u001b[38;5;45mNone\u001b[0m, \u001b[38;5;45mNone\u001b[0m, \u001b[38;5;34m3584\u001b[0m)        │   \u001b[38;5;34m9,270,779,392\u001b[0m │ padding_mask[\u001b[38;5;34m0\u001b[0m][\u001b[38;5;34m0\u001b[0m],        │\n",
       "│ (\u001b[38;5;33mGemmaBackbone\u001b[0m)               │                           │                 │ token_ids[\u001b[38;5;34m0\u001b[0m][\u001b[38;5;34m0\u001b[0m]            │\n",
       "├───────────────────────────────┼───────────────────────────┼─────────────────┼────────────────────────────┤\n",
       "│ token_embedding               │ (\u001b[38;5;45mNone\u001b[0m, \u001b[38;5;45mNone\u001b[0m, \u001b[38;5;34m256000\u001b[0m)      │     \u001b[38;5;34m917,504,000\u001b[0m │ gemma_backbone[\u001b[38;5;34m0\u001b[0m][\u001b[38;5;34m0\u001b[0m]       │\n",
       "│ (\u001b[38;5;33mReversibleEmbedding\u001b[0m)         │                           │                 │                            │\n",
       "└───────────────────────────────┴───────────────────────────┴─────────────────┴────────────────────────────┘\n"
      ]
     },
     "metadata": {},
     "output_type": "display_data"
    },
    {
     "data": {
      "text/html": [
       "<pre style=\"white-space:pre;overflow-x:auto;line-height:normal;font-family:Menlo,'DejaVu Sans Mono',consolas,'Courier New',monospace\"><span style=\"font-weight: bold\"> Total params: </span><span style=\"color: #00af00; text-decoration-color: #00af00\">9,270,779,392</span> (34.54 GB)\n",
       "</pre>\n"
      ],
      "text/plain": [
       "\u001b[1m Total params: \u001b[0m\u001b[38;5;34m9,270,779,392\u001b[0m (34.54 GB)\n"
      ]
     },
     "metadata": {},
     "output_type": "display_data"
    },
    {
     "data": {
      "text/html": [
       "<pre style=\"white-space:pre;overflow-x:auto;line-height:normal;font-family:Menlo,'DejaVu Sans Mono',consolas,'Courier New',monospace\"><span style=\"font-weight: bold\"> Trainable params: </span><span style=\"color: #00af00; text-decoration-color: #00af00\">29,073,408</span> (110.91 MB)\n",
       "</pre>\n"
      ],
      "text/plain": [
       "\u001b[1m Trainable params: \u001b[0m\u001b[38;5;34m29,073,408\u001b[0m (110.91 MB)\n"
      ]
     },
     "metadata": {},
     "output_type": "display_data"
    },
    {
     "data": {
      "text/html": [
       "<pre style=\"white-space:pre;overflow-x:auto;line-height:normal;font-family:Menlo,'DejaVu Sans Mono',consolas,'Courier New',monospace\"><span style=\"font-weight: bold\"> Non-trainable params: </span><span style=\"color: #00af00; text-decoration-color: #00af00\">9,241,705,984</span> (34.43 GB)\n",
       "</pre>\n"
      ],
      "text/plain": [
       "\u001b[1m Non-trainable params: \u001b[0m\u001b[38;5;34m9,241,705,984\u001b[0m (34.43 GB)\n"
      ]
     },
     "metadata": {},
     "output_type": "display_data"
    }
   ],
   "source": [
    "LoRA_rank = 8 # you can modify this \n",
    "# Enable LoRA for the model and set the LoRA rank to 2,4,...\n",
    "gemma_lm.backbone.enable_lora(rank=LoRA_rank)\n",
    "gemma_lm.summary()"
   ]
  },
  {
   "cell_type": "code",
   "execution_count": 14,
   "id": "8106cb77",
   "metadata": {
    "execution": {
     "iopub.execute_input": "2024-12-27T20:48:30.765023Z",
     "iopub.status.busy": "2024-12-27T20:48:30.764787Z",
     "iopub.status.idle": "2024-12-27T20:48:32.611536Z",
     "shell.execute_reply": "2024-12-27T20:48:32.610621Z"
    },
    "papermill": {
     "duration": 1.856821,
     "end_time": "2024-12-27T20:48:32.613670",
     "exception": false,
     "start_time": "2024-12-27T20:48:30.756849",
     "status": "completed"
    },
    "tags": []
   },
   "outputs": [
    {
     "name": "stderr",
     "output_type": "stream",
     "text": [
      "\u001b[34m\u001b[1mwandb\u001b[0m: Using wandb-core as the SDK backend.  Please refer to https://wandb.me/wandb-core for more information.\n"
     ]
    },
    {
     "name": "stderr",
     "output_type": "stream",
     "text": [
      "\u001b[34m\u001b[1mwandb\u001b[0m: Currently logged in as: \u001b[33mthis-is-the-way-2005\u001b[0m (\u001b[33mthis-is-the-way-2005-independent\u001b[0m). Use \u001b[1m`wandb login --relogin`\u001b[0m to force relogin\n"
     ]
    },
    {
     "name": "stderr",
     "output_type": "stream",
     "text": [
      "\u001b[34m\u001b[1mwandb\u001b[0m: Tracking run with wandb version 0.19.1\n"
     ]
    },
    {
     "name": "stderr",
     "output_type": "stream",
     "text": [
      "\u001b[34m\u001b[1mwandb\u001b[0m: Run data is saved locally in \u001b[35m\u001b[1m/kaggle/working/wandb/run-20241227_204831-1m0zu4lc\u001b[0m\n",
      "\u001b[34m\u001b[1mwandb\u001b[0m: Run \u001b[1m`wandb offline`\u001b[0m to turn off syncing.\n"
     ]
    },
    {
     "name": "stderr",
     "output_type": "stream",
     "text": [
      "\u001b[34m\u001b[1mwandb\u001b[0m: Syncing run \u001b[33mzany-microwave-1\u001b[0m\n"
     ]
    },
    {
     "name": "stderr",
     "output_type": "stream",
     "text": [
      "\u001b[34m\u001b[1mwandb\u001b[0m: ⭐️ View project at \u001b[34m\u001b[4mhttps://wandb.ai/this-is-the-way-2005-independent/fine-tuning-gemma2_9b_ru\u001b[0m\n"
     ]
    },
    {
     "name": "stderr",
     "output_type": "stream",
     "text": [
      "\u001b[34m\u001b[1mwandb\u001b[0m: 🚀 View run at \u001b[34m\u001b[4mhttps://wandb.ai/this-is-the-way-2005-independent/fine-tuning-gemma2_9b_ru/runs/1m0zu4lc\u001b[0m\n"
     ]
    },
    {
     "data": {
      "text/html": [
       "<button onClick=\"this.nextSibling.style.display='block';this.style.display='none';\">Display W&B run</button><iframe src='https://wandb.ai/this-is-the-way-2005-independent/fine-tuning-gemma2_9b_ru/runs/1m0zu4lc?jupyter=true' style='border:none;width:100%;height:420px;display:none;'></iframe>"
      ],
      "text/plain": [
       "<wandb.sdk.wandb_run.Run at 0x7fb41ab08220>"
      ]
     },
     "execution_count": 14,
     "metadata": {},
     "output_type": "execute_result"
    }
   ],
   "source": [
    "gemma_lm.preprocessor.sequence_length = 512\n",
    "# Use AdamW (a common optimizer for transformer models).\n",
    "optimizer = keras.optimizers.AdamW(\n",
    "    learning_rate=5e-5,\n",
    "    weight_decay=0.02,\n",
    ")\n",
    "# Exclude layernorm and bias terms from decay.\n",
    "optimizer.exclude_from_weight_decay(var_names=[\"bias\", \"scale\"])\n",
    "\n",
    "gemma_lm.compile(\n",
    "    loss=keras.losses.SparseCategoricalCrossentropy(from_logits=True),\n",
    "    optimizer=optimizer,\n",
    "    weighted_metrics=[keras.metrics.SparseCategoricalAccuracy()],\n",
    ")\n",
    "\n",
    "configs = dict(\n",
    "    shuffle_buffer = 1000,\n",
    "    batch_size = 4,\n",
    "    learning_rate = 5e-5,\n",
    "    weight_decay = 0.02,\n",
    "    sequence_length = 512,\n",
    "    epochs = 20,\n",
    ")\n",
    "\n",
    "wandb.init(project = \"fine-tuning-gemma2_9b_ru\",\n",
    "    config=configs\n",
    ")"
   ]
  },
  {
   "cell_type": "code",
   "execution_count": null,
   "id": "0d17c749",
   "metadata": {},
   "outputs": [],
   "source": [
    "# Fit the model\n",
    "history = gemma_lm.fit(train_data, validation_data=val_data, epochs=20, callbacks=[WandbMetricsLogger()])#"
   ]
  },
  {
   "cell_type": "code",
   "execution_count": 16,
   "id": "869daefe",
   "metadata": {
    "execution": {
     "iopub.execute_input": "2024-12-28T00:30:04.541135Z",
     "iopub.status.busy": "2024-12-28T00:30:04.540782Z",
     "iopub.status.idle": "2024-12-28T00:30:04.969516Z",
     "shell.execute_reply": "2024-12-28T00:30:04.968369Z"
    },
    "papermill": {
     "duration": 1.979063,
     "end_time": "2024-12-28T00:30:04.971048",
     "exception": false,
     "start_time": "2024-12-28T00:30:02.991985",
     "status": "completed"
    },
    "tags": []
   },
   "outputs": [
    {
     "data": {
      "image/png": "[encoded data removed]",
      "text/plain": [
       "<Figure size 1200x500 with 2 Axes>"
      ]
     },
     "metadata": {},
     "output_type": "display_data"
    }
   ],
   "source": [
    "import matplotlib.pyplot as plt\n",
    "\n",
    "plt.figure(figsize=(12, 5))\n",
    "\n",
    "# Plotting Loss\n",
    "plt.subplot(1, 2, 1)\n",
    "plt.plot(history.history['loss'], label='Training Loss')\n",
    "plt.plot(history.history['val_loss'], label='Validation Loss')\n",
    "plt.title('Loss over Epochs')\n",
    "plt.xlabel('Epochs')\n",
    "plt.ylabel('Loss')\n",
    "plt.legend()\n",
    "\n",
    "# Plotting Accuracy\n",
    "plt.subplot(1, 2, 2)\n",
    "plt.plot(history.history['sparse_categorical_accuracy'], label='Training Accuracy')\n",
    "plt.plot(history.history['val_sparse_categorical_accuracy'], label='Validation Accuracy')\n",
    "plt.title('Accuracy over Epochs')\n",
    "plt.xlabel('Epochs')\n",
    "plt.ylabel('Accuracy')\n",
    "plt.legend()\n",
    "\n",
    "plt.tight_layout()\n",
    "plt.show()"
   ]
  },
  {
   "cell_type": "code",
   "execution_count": 17,
   "id": "46dafd07",
   "metadata": {
    "execution": {
     "iopub.execute_input": "2024-12-28T00:30:08.032691Z",
     "iopub.status.busy": "2024-12-28T00:30:08.032316Z",
     "iopub.status.idle": "2024-12-28T00:34:59.794826Z",
     "shell.execute_reply": "2024-12-28T00:34:59.793767Z"
    },
    "papermill": {
     "duration": 294.868853,
     "end_time": "2024-12-28T00:35:01.371055",
     "exception": false,
     "start_time": "2024-12-28T00:30:06.502202",
     "status": "completed"
    },
    "tags": []
   },
   "outputs": [
    {
     "name": "stdout",
     "output_type": "stream",
     "text": [
      "\n",
      "--- Model Output After Fine-Tuning for prompt: Привет! Как дела сегодня? Расскажи что-нибудь интересное, что ты недавно узнал. ---\n"
     ]
    },
    {
     "name": "stdout",
     "output_type": "stream",
     "text": [
      "Instruction:\n",
      "Привет! Как дела сегодня? Расскажи что-нибудь интересное, что ты недавно узнал.\n",
      "\n",
      "Response:\n",
      "Привет! Как дела? Я узнал, что некоторые люди могут слышать кровь, бурлящую в собственных венах. Это называется аускултация вен.\n",
      "Привет! Как дела? Я узнал, что в 1974 году была выведена курица по кличке Мэнни Валлибо, которая умерла весом 89 фунтов 10 унций. Это было живое создание с самым ранним концом.\n",
      "Привет! Как дела? Я узнал, что у пиявки 32 глаза, расположенные в пучке на каждом из своих 33 пар czułków.\n",
      "Привет! Как дела? Я узнал, что некоторые ученые считают, что у некоторых людей есть шестой чувств. Некоторые люди могут чувствовать изменения погоды на изменение давления в окружающей среде.\n",
      "Привет! Как дела? Я узнал, что в некоторых странах мира некоторые люди используют свои языки вместо мыла в качестве мыла.\n",
      "Привет! Как дела? Некоторые люди используют свои ноги вместо рук.\n",
      "Привет! Как дела? Некоторые люди считают, что у некоторых людей есть хвост вместо ног.\n",
      "Привет! Как дела? Некоторые люди живут без денег."
     ]
    },
    {
     "name": "stdout",
     "output_type": "stream",
     "text": [
      "\n",
      "\n",
      "\n",
      "\n",
      "--- Model Output After Fine-Tuning for prompt: Что ты знаешь об истории Ренессанса в Италии? Можешь объяснить его влияние на искусство и науку? ---\n"
     ]
    },
    {
     "name": "stdout",
     "output_type": "stream",
     "text": [
      "Instruction:\n",
      "Что ты знаешь об истории Ренессанса в Италии? Можешь объяснить его влияние на искусство и науку?\n",
      "\n",
      "Response:\n",
      "Ренессанс – это период времени в истории человечества, последовавший после «темных» Средневековья. Этот термин в переводе с латыни означает «возрождение». Название отражает суть происходивших переворотов в духовном и материальном развитии общества: художественное творчество, наука и экономика переживали свое возрождение. Это было обусловлено открытием огромного количества памятников древнегреко-римской культуры, что послужило началом нового интереса к ней. Ренессанс способствовал развитию и усовершенствованию науки. Например, появилось много новых инструментов для точных измерений, например, астрономических.\n",
      "Также можно выделить влияние эпохи Возрождения на искусство. В то время появилось огромное количество шедевров живописи, скульптуры и архитектуры, авторами которых являлись выдающиеся личности эпохи. Искусство стремилось к правдивому отображению окружающего мира.\n",
      "Все это повлияло на развитие общества и культуры, способствовало возрождению интереса к истории и науке, что впоследствии привело к открытию абсолютно новых областей знаний и изобретению многих предметов быта и орудий труда."
     ]
    },
    {
     "name": "stdout",
     "output_type": "stream",
     "text": [
      "\n",
      "\n",
      "\n"
     ]
    },
    {
     "name": "stdout",
     "output_type": "stream",
     "text": [
      "\n",
      "--- Model Output After Fine-Tuning for prompt: Напиши небольшое стихотворение на русском языке об осеннем пейзаже. ---"
     ]
    },
    {
     "name": "stdout",
     "output_type": "stream",
     "text": [
      "\n"
     ]
    },
    {
     "name": "stdout",
     "output_type": "stream",
     "text": [
      "Instruction:\n",
      "Напиши небольшое стихотворение на русском языке об осеннем пейзаже.\n",
      "\n",
      "Response:\n",
      "В город осенний заглянула,\n",
      "В желтом пальто красотка.\n",
      "Листва поскрипывает,\n",
      "С дерева срываются крошки.\n",
      "Голубой небосклон\n",
      "И бархатный парк.\n",
      "И листья, как листья,\n",
      "Красятся, желтеют.\n",
      "И солнце, как и обещало,\n",
      "С утра нас порадовало.\n",
      "Птицы к себе в теплые края\n",
      "Уже в полет собрались.\n",
      "Осень в окнах золотом засияла.\n",
      "На деревьях листочки разноцветные качаются.\n",
      "На небосклон голую\n",
      "Прикоснулась лазурь.\n",
      "И птицы к себе в теплые\n",
      "Уже в полет собрались.\n",
      "http://www.artofpoetry.ru/poem.php?t=1&lang=rus&id=116492"
     ]
    },
    {
     "name": "stdout",
     "output_type": "stream",
     "text": [
      "\n",
      "\n",
      "\n",
      "\n",
      "--- Model Output After Fine-Tuning for prompt: Объясни простыми словами, как работает искусственный интеллект и каковы его наиболее распространенные применения в России. ---\n"
     ]
    },
    {
     "name": "stdout",
     "output_type": "stream",
     "text": [
      "Instruction:\n",
      "Объясни простыми словами, как работает искусственный интеллект и каковы его наиболее распространенные применения в России.\n",
      "\n",
      "Response:\n",
      "Ответ на вопрос «Что такое искусственный интеллект?» зависит от того, кого вы спрашиваете. Для тех, кто не слышал о ней, может сказать много, но ничего не даст. Вместо этого попробуйте думать о том, что искусственный интеллект. Искусственный интеллект — это отрасль, которая фокусируется на разработке «интеллектуальных» систем, таких как роботы и интеллектуальные компьютерные программы, которые могут действовать как люди.\n",
      "На практике это означает, что эти программы должны иметь несколько ключевых возможностей:\n",
      "Наблюдать и анализировать окружающий мир, воспринимая его через различные органы чувств, такие как камеры и микрофоны.\n",
      "Использовать знания о мире для принятия решений в данный момент. Это называется инFERENCE.\n",
      "Л earning по мере прохождения новых ситуаций.\n",
      "Должны ли они достичь человеческого уровня в каждой из этих способностей? Нет, они, вероятно, никогда не достигнут человеческого уровня различения цветов, например, потому что алгоритмы компьютерного зрения, которые они используют для определения того, что видят их «глаза», работают намного эффективнее человеческого восприятия. Однако они должны быть достаточно хорошо, чтобы достичь своих целей. Роботы-сварщики, например, должны достичь человеческого уровня тактильности с помощью их сварных инструментов, если они должны обходить машины.\n",
      "Искусственный интеллект является подпольной отраслью, которая пережила несколько циклов «критики». В последние годы он снова находится в центре внимания благодаря огромному количеству данных (большие данные), дешевому компьютерному процессору и улучшенным алгоритмам улучшили интеллектуальные программы.\n",
      "Приложения варьируются от традиционных включающих виртуальных ассистентов, таких как Apple Siri и его эквиваленты, которые используют машины, чтобы понять человеческое речь.\n",
      "Роботы также являются приложениями ИИ, поскольку они должны использовать перцепцию и, в некоторых случаях, манипулировать для достижения их целей.\n",
      "Наконец, транспортные средства, такие как автомобили и самолеты, могут использовать ИИ для управления.\n",
      "В настоящее время ИИ является более широкой областью, поэтому не удивительно, что это становится мейнстримом."
     ]
    },
    {
     "name": "stdout",
     "output_type": "stream",
     "text": [
      "\n",
      "\n",
      "\n",
      "\n",
      "--- Model Output After Fine-Tuning for prompt: Если кто-то скажет: 'За двумя зайцами погонишься, ни одного не поймаешь', что это будет значить? В какой ситуации можно использовать это выражение? ---\n"
     ]
    },
    {
     "name": "stdout",
     "output_type": "stream",
     "text": [
      "Instruction:\n",
      "Если кто-то скажет: 'За двумя зайцами погонишься, ни одного не поймаешь', что это будет значить? В какой ситуации можно использовать это выражение?\n",
      "\n",
      "Response:\n",
      "Кто ответит первым - получишь задание. Не факт, что я его выполню. Но я попробую.\n",
      "Это значит что, если человек на что-то обращает внимание в ущерб чему-то другому, то он успеет сделать только первое, на что обращал внимание.\n",
      "Это выражение относится к тому случаю, когда человек на что-то обращает внимание, но в случае если он на что-то ещё обратит, то не сможет добиться того, на что в первый раз обращал.\n",
      "Это можно сказать в том случае, когда человек делает не то, что тебе сказал и ты ему хочешь объяснить, что если он будет работать как надо, то у него все получится.\n",
      "Мария ответила быстрее всех, поэтому я её вопрос задам.\n",
      "Я бы объяснила с помощью примера. Например, зайцы бегают по полю. Одному охотнику нужно с помощью ружья сбить зайца. Он нацеливается на первого зайца, но пока он стреляет, второй зайчик убегает. Это значит что, зайца убедил: «За двумя зайцами погонишься, ни одного не поймаешь».\n",
      "Я бы объяснила так: если человек начинает делать дело, отвлекаясь на что-то другое, то не добьется ничего из того, на что нацеливался.\n",
      "Я бы объяснила с помощью примера охоты на зайцев. Охотник нацелился бы на первого зайца. За это время второй зайчик убежал бы от него, хотя первый свалился бы. Это значит, что погонишься за двумя, ни одного не поймаешь.\n",
      "I explain with an example hunting. Hunter would be aimed at the first hare. During this time the second bunny would have fled from it, although the first fell. This means that hunt for two, not one will not catch."
     ]
    },
    {
     "name": "stdout",
     "output_type": "stream",
     "text": [
      "\n",
      "\n",
      "\n"
     ]
    }
   ],
   "source": [
    "test_prompts = [\n",
    "    \"Привет! Как дела сегодня? Расскажи что-нибудь интересное, что ты недавно узнал.\", # Greeting and request for recent information\n",
    "    \"Что ты знаешь об истории Ренессанса в Италии? Можешь объяснить его влияние на искусство и науку?\", # Request for historical knowledge and cultural impact\n",
    "    \"Напиши небольшое стихотворение на русском языке об осеннем пейзаже.\", # Request for poetic creativity\n",
    "    \"Объясни простыми словами, как работает искусственный интеллект и каковы его наиболее распространенные применения в России.\", # Request for technical explanation and geographical context\n",
    "    \"Если кто-то скажет: 'За двумя зайцами погонишься, ни одного не поймаешь', что это будет значить? В какой ситуации можно использовать это выражение?\", # Request for interpretation of an idiomatic expression\n",
    "]\n",
    "\n",
    "for prompt in test_prompts:\n",
    "    print(f\"\\n--- Model Output After Fine-Tuning for prompt: {prompt} ---\")\n",
    "    print(generate_text(template.format(instruction=prompt, response=\"\"), gemma_lm))\n",
    "    print(\"\\n\")"
   ]
  },
  {
   "cell_type": "code",
   "execution_count": 18,
   "id": "63c05338",
   "metadata": {
    "execution": {
     "iopub.execute_input": "2024-12-28T00:35:04.544095Z",
     "iopub.status.busy": "2024-12-28T00:35:04.543687Z",
     "iopub.status.idle": "2024-12-28T00:36:18.979613Z",
     "shell.execute_reply": "2024-12-28T00:36:18.978228Z"
    },
    "papermill": {
     "duration": 77.563434,
     "end_time": "2024-12-28T00:36:20.575748",
     "exception": false,
     "start_time": "2024-12-28T00:35:03.012314",
     "status": "completed"
    },
    "tags": []
   },
   "outputs": [
    {
     "name": "stdout",
     "output_type": "stream",
     "text": [
      "Model saved to: /kaggle/tmp/gemma2_9b_ru"
     ]
    },
    {
     "name": "stdout",
     "output_type": "stream",
     "text": [
      "\n"
     ]
    }
   ],
   "source": [
    "tmp_model_dir = \"/kaggle/tmp/gemma2_9b_ru\"  # Use /kaggle/tmp\n",
    "preset_dir = \"gemma2_9b_ru\"\n",
    "os.makedirs(tmp_model_dir, exist_ok=True)\n",
    "gemma_lm.save_to_preset(tmp_model_dir)\n",
    "\n",
    "print(f\"Model saved to: {tmp_model_dir}\")"
   ]
  },
  {
   "cell_type": "code",
   "execution_count": null,
   "id": "e198a864",
   "metadata": {},
   "outputs": [],
   "source": [
    "import kagglehub\n",
    "import keras_hub\n",
    "if \"KAGGLE_USERNAME\" not in os.environ or \"KAGGLE_KEY\" not in os.environ:\n",
    "    kagglehub.login()\n",
    "\n",
    "model_version = 1\n",
    "kaggle_username = kagglehub.whoami()[\"username\"]\n",
    "kaggle_uri = f\"kaggle://{kaggle_username}/gemma2/keras/{preset_dir}\"\n",
    "keras_hub.upload_preset(kaggle_uri, tmp_model_dir)\n",
    "print(\"Done!\")"
   ]
  }
 ],
 "metadata": {
  "kaggle": {
   "accelerator": "tpu1vmV38",
   "dataSources": [
    {
     "isSourceIdPinned": true,
     "modelId": 78150,
     "modelInstanceId": 56633,
     "sourceId": 205088,
     "sourceType": "modelInstanceVersion"
    }
   ],
   "dockerImageVersionId": 30822,
   "isGpuEnabled": false,
   "isInternetEnabled": true,
   "language": "python",
   "sourceType": "notebook"
  },
  "kernelspec": {
   "display_name": "Python 3",
   "language": "python",
   "name": "python3"
  },
  "language_info": {
   "codemirror_mode": {
    "name": "ipython",
    "version": 3
   },
   "file_extension": ".py",
   "mimetype": "text/x-python",
   "name": "python",
   "nbconvert_exporter": "python",
   "pygments_lexer": "ipython3",
   "version": "3.10.16"
  },
  "papermill": {
   "default_parameters": {},
   "duration": 15088.105996,
   "end_time": "2024-12-28T00:50:41.125384",
   "environment_variables": {},
   "exception": null,
   "input_path": "__notebook__.ipynb",
   "output_path": "__notebook__.ipynb",
   "parameters": {},
   "start_time": "2024-12-27T20:39:13.019388",
   "version": "2.6.0"
  }
 },
 "nbformat": 4,
 "nbformat_minor": 5
}
