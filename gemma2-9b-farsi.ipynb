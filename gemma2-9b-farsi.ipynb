{
 "cells": [
  {
   "cell_type": "code",
   "execution_count": null,
   "id": "abbacc6c",
   "metadata": {},
   "outputs": [],
   "source": [
    "!pip install -q -U keras-nlp keras datasets kagglehub keras_hub \n",
    "!pip install -q -U tensorflow-text\n",
    "# Install tensorflow-cpu so tensorflow does not attempt to access the TPU.\n",
    "!pip install -q -U tensorflow-cpu\n",
    "!pip install -q -U wandb"
   ]
  },
  {
   "cell_type": "code",
   "execution_count": 2,
   "id": "524481f8",
   "metadata": {
    "execution": {
     "iopub.execute_input": "2024-12-28T15:36:51.601923Z",
     "iopub.status.busy": "2024-12-28T15:36:51.601637Z",
     "iopub.status.idle": "2024-12-28T15:37:00.619549Z",
     "shell.execute_reply": "2024-12-28T15:37:00.618259Z"
    },
    "papermill": {
     "duration": 9.02442,
     "end_time": "2024-12-28T15:37:00.621072",
     "exception": false,
     "start_time": "2024-12-28T15:36:51.596652",
     "status": "completed"
    },
    "tags": []
   },
   "outputs": [
    {
     "name": "stderr",
     "output_type": "stream",
     "text": [
      "WARNING: Logging before InitGoogle() is written to STDERR\n",
      "E0000 00:00:1735400216.598767      74 common_lib.cc:798] Could not set metric server port: INVALID_ARGUMENT: Could not find SliceBuilder port 8471 in any of the 0 ports provided in `tpu_process_addresses`=\"local\"\n",
      "=== Source Location Trace: === \n",
      "learning/45eac/tfrc/runtime/common_lib.cc:479\n",
      "E1228 15:36:56.642448852      74 oauth2_credentials.cc:238]            oauth_fetch: UNKNOWN:C-ares status is not ARES_SUCCESS qtype=A name=metadata.google.internal. is_balancer=0: Domain name not found {grpc_status:2, created_time:\"2024-12-28T15:36:56.642434345+00:00\"}\n"
     ]
    },
    {
     "data": {
      "text/plain": [
       "[TpuDevice(id=0, process_index=0, coords=(0,0,0), core_on_chip=0),\n",
       " TpuDevice(id=1, process_index=0, coords=(0,0,0), core_on_chip=1),\n",
       " TpuDevice(id=2, process_index=0, coords=(1,0,0), core_on_chip=0),\n",
       " TpuDevice(id=3, process_index=0, coords=(1,0,0), core_on_chip=1),\n",
       " TpuDevice(id=4, process_index=0, coords=(0,1,0), core_on_chip=0),\n",
       " TpuDevice(id=5, process_index=0, coords=(0,1,0), core_on_chip=1),\n",
       " TpuDevice(id=6, process_index=0, coords=(1,1,0), core_on_chip=0),\n",
       " TpuDevice(id=7, process_index=0, coords=(1,1,0), core_on_chip=1)]"
      ]
     },
     "execution_count": 2,
     "metadata": {},
     "output_type": "execute_result"
    }
   ],
   "source": [
    "import jax\n",
    "jax.devices()"
   ]
  },
  {
   "cell_type": "code",
   "execution_count": 3,
   "id": "1d33428a",
   "metadata": {
    "execution": {
     "iopub.execute_input": "2024-12-28T15:37:00.630935Z",
     "iopub.status.busy": "2024-12-28T15:37:00.630623Z",
     "iopub.status.idle": "2024-12-28T15:37:00.635018Z",
     "shell.execute_reply": "2024-12-28T15:37:00.634036Z"
    },
    "papermill": {
     "duration": 0.011205,
     "end_time": "2024-12-28T15:37:00.636614",
     "exception": false,
     "start_time": "2024-12-28T15:37:00.625409",
     "status": "completed"
    },
    "tags": []
   },
   "outputs": [],
   "source": [
    "import os\n",
    "# Set the environment variables for Kaggle and Weights & Biases.\n",
    "# from kaggle_secrets import UserSecretsClient\n",
    "# from google.colab import userdata\n",
    "#import getpass\n",
    "os.environ[\"KAGGLE_USERNAME\"] = \"your-username\"# or UserSecretsClient().get_secret(KAGGLE_USERNAME) or userdata.get(KAGGLE_USERNAME) or getpass.getpass(\"Enter your KAGGLE_USERNAME: \")\n",
    "os.environ[\"KAGGLE_KEY\"] = \"kaggle-api-key\" # or UserSecretsClient().get_secret(KAGGLE_KEY) or userdata.get(KAGGLE_KEY) or getpass.getpass(\"Enter your  KAGGLE_KEY: \")\n",
    "os.environ[\"WANDB_API_KEY\"] = \"wand-api-key\" # or UserSecretsClient().get_secret(WANDB_API_KEY) or userdata.get(WANDB_API_KEY) or getpass.getpass(\"Enter your WANDB_API_KEY: \")\n",
    "os.environ[\"KERAS_BACKEND\"] = \"jax\"\n",
    "os.environ[\"XLA_PYTHON_CLIENT_MEM_FRACTION\"] = \"1.00\""
   ]
  },
  {
   "cell_type": "code",
   "execution_count": 4,
   "id": "85688ca0",
   "metadata": {
    "execution": {
     "iopub.execute_input": "2024-12-28T15:37:00.645691Z",
     "iopub.status.busy": "2024-12-28T15:37:00.645489Z",
     "iopub.status.idle": "2024-12-28T15:37:16.037966Z",
     "shell.execute_reply": "2024-12-28T15:37:16.037227Z"
    },
    "papermill": {
     "duration": 15.399487,
     "end_time": "2024-12-28T15:37:16.040144",
     "exception": false,
     "start_time": "2024-12-28T15:37:00.640657",
     "status": "completed"
    },
    "tags": []
   },
   "outputs": [
    {
     "name": "stderr",
     "output_type": "stream",
     "text": [
      "/usr/local/lib/python3.10/site-packages/tqdm/auto.py:21: TqdmWarning: IProgress not found. Please update jupyter and ipywidgets. See https://ipywidgets.readthedocs.io/en/stable/user_install.html\n",
      "  from .autonotebook import tqdm as notebook_tqdm\n"
     ]
    }
   ],
   "source": [
    "import tensorflow as tf\n",
    "import keras\n",
    "import keras_nlp\n",
    "from datasets import load_dataset\n",
    "import itertools\n",
    "import wandb\n",
    "from wandb.integration.keras import WandbMetricsLogger"
   ]
  },
  {
   "cell_type": "code",
   "execution_count": 5,
   "id": "ff6d02f4",
   "metadata": {
    "execution": {
     "iopub.execute_input": "2024-12-28T15:37:16.049348Z",
     "iopub.status.busy": "2024-12-28T15:37:16.049108Z",
     "iopub.status.idle": "2024-12-28T15:38:13.797386Z",
     "shell.execute_reply": "2024-12-28T15:38:13.796114Z"
    },
    "papermill": {
     "duration": 57.755236,
     "end_time": "2024-12-28T15:38:13.799469",
     "exception": false,
     "start_time": "2024-12-28T15:37:16.044233",
     "status": "completed"
    },
    "tags": []
   },
   "outputs": [],
   "source": [
    "data = load_dataset(\"allenai/c4\", \"fa\", streaming=True)"
   ]
  },
  {
   "cell_type": "code",
   "execution_count": 6,
   "id": "064ef009",
   "metadata": {
    "execution": {
     "iopub.execute_input": "2024-12-28T15:38:13.810727Z",
     "iopub.status.busy": "2024-12-28T15:38:13.810425Z",
     "iopub.status.idle": "2024-12-28T15:38:26.775052Z",
     "shell.execute_reply": "2024-12-28T15:38:26.773718Z"
    },
    "papermill": {
     "duration": 12.97206,
     "end_time": "2024-12-28T15:38:26.776886",
     "exception": false,
     "start_time": "2024-12-28T15:38:13.804826",
     "status": "completed"
    },
    "tags": []
   },
   "outputs": [
    {
     "name": "stdout",
     "output_type": "stream",
     "text": [
      "Sample persian Data:\n",
      "Example 1: قیمت دوربین مراقبت بچه بیسیم با برد 200 متر و قابلیت مکالمه 2 طرفه مدل 601 فقط 435000 تومان!!!\n",
      "خانهمراقبتی و امنیتیدوربینهای مداربسته و نظارتیدوربین مراقبت بچه بیسیم با برد 200 متر و قابلیت مکالمه 2 طرفه مدل 601\n",
      "کد کالا: 32514\n",
      "ست کامل دوربین و مانیتور وایرلس با برد 200 متر با ارتباط صوتی و مکالمه دوطرفه ، 8 لامپ IR دید در شب با صفحه نمایش 2 اینچی\n",
      "دوربین مراقبت بچه چیست ؟ دستگاهی شامل یک مانیتور یا تلویزیون و یک دوربین میباشد که توانایی پخش تصاویر ویدیویی دوربین بصورت زنده و لایو را دارد.\n",
      "دوربین \n",
      "Example 2: املاک -- مشاهده تمام آگهی های دسته -- اجاره املاک اداری تجاری تهران ( 3) اجاره املاک مسکونی تهران ( 2) خرید و فروش آپارتمان ( 21) خرید و فروش املاک اداری تجاری تهران ( 3) خرید و فروش املاک مسکونی تهران ( 1) خرید و فروش خانه ( 3) خرید و فروش زمین ( 5) رهن و اجاره آپارتمان ( 5) رهن و اجاره خانه ( 1) سایر ( 9) کلنگی ( 2) مغازه و غرفه ( 3) ویلا ( 1) کالاو لوازم -- مشاهده تمام آگهی های دسته -- اثاثیه منزل ( 14) اداری ( 11) الکترونیک و دیجیتال ( 23) ایمنی ( 0) -- دوربین مدار بسته بازی و سرگرمی ( 1) بر\n"
     ]
    }
   ],
   "source": [
    "sample_data = []\n",
    "for i, example in enumerate(iter(data[\"train\"])):\n",
    "    if i >= 2:  # Change this number to get more examples\n",
    "        break\n",
    "    sample_data.append(example[\"text\"])\n",
    "\n",
    "print(\"Sample persian Data:\")\n",
    "for i, text in enumerate(sample_data):\n",
    "    print(f\"Example {i + 1}:\", text[:500])  # Print the first 500 characters to get a preview"
   ]
  },
  {
   "cell_type": "code",
   "execution_count": 7,
   "id": "33eae658",
   "metadata": {
    "execution": {
     "iopub.execute_input": "2024-12-28T15:38:26.787304Z",
     "iopub.status.busy": "2024-12-28T15:38:26.787010Z",
     "iopub.status.idle": "2024-12-28T15:38:28.224286Z",
     "shell.execute_reply": "2024-12-28T15:38:28.222680Z"
    },
    "papermill": {
     "duration": 1.444057,
     "end_time": "2024-12-28T15:38:28.225406",
     "exception": false,
     "start_time": "2024-12-28T15:38:26.781349",
     "status": "completed"
    },
    "tags": []
   },
   "outputs": [
    {
     "name": "stdout",
     "output_type": "stream",
     "text": [
      "\n",
      "training length:5000\n"
     ]
    }
   ],
   "source": [
    "# Define the maximum number of examples for training and validation\n",
    "max_train_examples = 5000\n",
    "max_val_examples = 100\n",
    "\n",
    "# Create a plain-text list from a subset of the dataset\n",
    "# Load data subsets\n",
    "train_text_data = [example[\"text\"] for example in itertools.islice(data[\"train\"], max_train_examples)]\n",
    "val_text_data = [example[\"text\"] for example in itertools.islice(data[\"validation\"], max_val_examples)]\n",
    "\n",
    "# Check the first example to ensure loading is correct\n",
    "#print(\"First training example:\", train_text_data[0])\n",
    "#print(\"First validation example:\", val_text_data[0])\n",
    "print(f'\\ntraining length:{len(train_text_data)}')"
   ]
  },
  {
   "cell_type": "code",
   "execution_count": 8,
   "id": "ed4d53d6",
   "metadata": {
    "execution": {
     "iopub.execute_input": "2024-12-28T15:38:28.235498Z",
     "iopub.status.busy": "2024-12-28T15:38:28.235231Z",
     "iopub.status.idle": "2024-12-28T15:38:28.778090Z",
     "shell.execute_reply": "2024-12-28T15:38:28.776712Z"
    },
    "papermill": {
     "duration": 0.550472,
     "end_time": "2024-12-28T15:38:28.780416",
     "exception": false,
     "start_time": "2024-12-28T15:38:28.229944",
     "status": "completed"
    },
    "tags": []
   },
   "outputs": [],
   "source": [
    "batch_size = 4\n",
    "\n",
    "# Convert the lists of text data to TensorFlow datasets\n",
    "train_data = tf.data.Dataset.from_tensor_slices(train_text_data)\n",
    "val_data = tf.data.Dataset.from_tensor_slices(val_text_data)\n",
    "\n",
    "# Preprocess each text sample\n",
    "def preprocess_text(text):\n",
    "    return tf.convert_to_tensor(text, dtype=tf.string)\n",
    "\n",
    "# Apply preprocessing (optional if text is already clean)\n",
    "train_data = train_data.map(preprocess_text)\n",
    "val_data = val_data.map(preprocess_text)\n",
    "\n",
    "# Shuffle and batch the training data\n",
    "train_data = train_data.shuffle(buffer_size=1000).batch(batch_size)\n",
    "val_data = val_data.batch(batch_size)"
   ]
  },
  {
   "cell_type": "code",
   "execution_count": 9,
   "id": "c6c633b5",
   "metadata": {
    "execution": {
     "iopub.execute_input": "2024-12-28T15:38:28.791502Z",
     "iopub.status.busy": "2024-12-28T15:38:28.791135Z",
     "iopub.status.idle": "2024-12-28T15:40:26.406360Z",
     "shell.execute_reply": "2024-12-28T15:40:26.405213Z"
    },
    "papermill": {
     "duration": 117.622945,
     "end_time": "2024-12-28T15:40:26.407975",
     "exception": false,
     "start_time": "2024-12-28T15:38:28.785030",
     "status": "completed"
    },
    "tags": []
   },
   "outputs": [
    {
     "name": "stderr",
     "output_type": "stream",
     "text": [
      "normalizer.cc(51) LOG(INFO) precompiled_charsmap is empty. use identity normalization.\n"
     ]
    },
    {
     "data": {
      "text/html": [
       "<pre style=\"white-space:pre;overflow-x:auto;line-height:normal;font-family:Menlo,'DejaVu Sans Mono',consolas,'Courier New',monospace\"><span style=\"font-weight: bold\">Preprocessor: \"gemma_causal_lm_preprocessor\"</span>\n",
       "</pre>\n"
      ],
      "text/plain": [
       "\u001b[1mPreprocessor: \"gemma_causal_lm_preprocessor\"\u001b[0m\n"
      ]
     },
     "metadata": {},
     "output_type": "display_data"
    },
    {
     "data": {
      "text/html": [
       "<pre style=\"white-space:pre;overflow-x:auto;line-height:normal;font-family:Menlo,'DejaVu Sans Mono',consolas,'Courier New',monospace\">┏━━━━━━━━━━━━━━━━━━━━━━━━━━━━━━━━━━━━━━━━━━━━━━━━━━━━━━━━━━━━━━━┳━━━━━━━━━━━━━━━━━━━━━━━━━━━━━━━━━━━━━━━━━━┓\n",
       "┃<span style=\"font-weight: bold\"> Layer (type)                                                  </span>┃<span style=\"font-weight: bold\">                                   Config </span>┃\n",
       "┡━━━━━━━━━━━━━━━━━━━━━━━━━━━━━━━━━━━━━━━━━━━━━━━━━━━━━━━━━━━━━━━╇━━━━━━━━━━━━━━━━━━━━━━━━━━━━━━━━━━━━━━━━━━┩\n",
       "│ gemma_tokenizer (<span style=\"color: #0087ff; text-decoration-color: #0087ff\">GemmaTokenizer</span>)                              │                      Vocab size: <span style=\"color: #00af00; text-decoration-color: #00af00\">256,000</span> │\n",
       "└───────────────────────────────────────────────────────────────┴──────────────────────────────────────────┘\n",
       "</pre>\n"
      ],
      "text/plain": [
       "┏━━━━━━━━━━━━━━━━━━━━━━━━━━━━━━━━━━━━━━━━━━━━━━━━━━━━━━━━━━━━━━━┳━━━━━━━━━━━━━━━━━━━━━━━━━━━━━━━━━━━━━━━━━━┓\n",
       "┃\u001b[1m \u001b[0m\u001b[1mLayer (type)                                                 \u001b[0m\u001b[1m \u001b[0m┃\u001b[1m \u001b[0m\u001b[1m                                  Config\u001b[0m\u001b[1m \u001b[0m┃\n",
       "┡━━━━━━━━━━━━━━━━━━━━━━━━━━━━━━━━━━━━━━━━━━━━━━━━━━━━━━━━━━━━━━━╇━━━━━━━━━━━━━━━━━━━━━━━━━━━━━━━━━━━━━━━━━━┩\n",
       "│ gemma_tokenizer (\u001b[38;5;33mGemmaTokenizer\u001b[0m)                              │                      Vocab size: \u001b[38;5;34m256,000\u001b[0m │\n",
       "└───────────────────────────────────────────────────────────────┴──────────────────────────────────────────┘\n"
      ]
     },
     "metadata": {},
     "output_type": "display_data"
    },
    {
     "data": {
      "text/html": [
       "<pre style=\"white-space:pre;overflow-x:auto;line-height:normal;font-family:Menlo,'DejaVu Sans Mono',consolas,'Courier New',monospace\"><span style=\"font-weight: bold\">Model: \"gemma_causal_lm\"</span>\n",
       "</pre>\n"
      ],
      "text/plain": [
       "\u001b[1mModel: \"gemma_causal_lm\"\u001b[0m\n"
      ]
     },
     "metadata": {},
     "output_type": "display_data"
    },
    {
     "data": {
      "text/html": [
       "<pre style=\"white-space:pre;overflow-x:auto;line-height:normal;font-family:Menlo,'DejaVu Sans Mono',consolas,'Courier New',monospace\">┏━━━━━━━━━━━━━━━━━━━━━━━━━━━━━━━┳━━━━━━━━━━━━━━━━━━━━━━━━━━━┳━━━━━━━━━━━━━━━━━┳━━━━━━━━━━━━━━━━━━━━━━━━━━━━┓\n",
       "┃<span style=\"font-weight: bold\"> Layer (type)                  </span>┃<span style=\"font-weight: bold\"> Output Shape              </span>┃<span style=\"font-weight: bold\">         Param # </span>┃<span style=\"font-weight: bold\"> Connected to               </span>┃\n",
       "┡━━━━━━━━━━━━━━━━━━━━━━━━━━━━━━━╇━━━━━━━━━━━━━━━━━━━━━━━━━━━╇━━━━━━━━━━━━━━━━━╇━━━━━━━━━━━━━━━━━━━━━━━━━━━━┩\n",
       "│ padding_mask (<span style=\"color: #0087ff; text-decoration-color: #0087ff\">InputLayer</span>)     │ (<span style=\"color: #00d7ff; text-decoration-color: #00d7ff\">None</span>, <span style=\"color: #00d7ff; text-decoration-color: #00d7ff\">None</span>)              │               <span style=\"color: #00af00; text-decoration-color: #00af00\">0</span> │ -                          │\n",
       "├───────────────────────────────┼───────────────────────────┼─────────────────┼────────────────────────────┤\n",
       "│ token_ids (<span style=\"color: #0087ff; text-decoration-color: #0087ff\">InputLayer</span>)        │ (<span style=\"color: #00d7ff; text-decoration-color: #00d7ff\">None</span>, <span style=\"color: #00d7ff; text-decoration-color: #00d7ff\">None</span>)              │               <span style=\"color: #00af00; text-decoration-color: #00af00\">0</span> │ -                          │\n",
       "├───────────────────────────────┼───────────────────────────┼─────────────────┼────────────────────────────┤\n",
       "│ gemma_backbone                │ (<span style=\"color: #00d7ff; text-decoration-color: #00d7ff\">None</span>, <span style=\"color: #00d7ff; text-decoration-color: #00d7ff\">None</span>, <span style=\"color: #00af00; text-decoration-color: #00af00\">3584</span>)        │   <span style=\"color: #00af00; text-decoration-color: #00af00\">9,241,705,984</span> │ padding_mask[<span style=\"color: #00af00; text-decoration-color: #00af00\">0</span>][<span style=\"color: #00af00; text-decoration-color: #00af00\">0</span>],        │\n",
       "│ (<span style=\"color: #0087ff; text-decoration-color: #0087ff\">GemmaBackbone</span>)               │                           │                 │ token_ids[<span style=\"color: #00af00; text-decoration-color: #00af00\">0</span>][<span style=\"color: #00af00; text-decoration-color: #00af00\">0</span>]            │\n",
       "├───────────────────────────────┼───────────────────────────┼─────────────────┼────────────────────────────┤\n",
       "│ token_embedding               │ (<span style=\"color: #00d7ff; text-decoration-color: #00d7ff\">None</span>, <span style=\"color: #00d7ff; text-decoration-color: #00d7ff\">None</span>, <span style=\"color: #00af00; text-decoration-color: #00af00\">256000</span>)      │     <span style=\"color: #00af00; text-decoration-color: #00af00\">917,504,000</span> │ gemma_backbone[<span style=\"color: #00af00; text-decoration-color: #00af00\">0</span>][<span style=\"color: #00af00; text-decoration-color: #00af00\">0</span>]       │\n",
       "│ (<span style=\"color: #0087ff; text-decoration-color: #0087ff\">ReversibleEmbedding</span>)         │                           │                 │                            │\n",
       "└───────────────────────────────┴───────────────────────────┴─────────────────┴────────────────────────────┘\n",
       "</pre>\n"
      ],
      "text/plain": [
       "┏━━━━━━━━━━━━━━━━━━━━━━━━━━━━━━━┳━━━━━━━━━━━━━━━━━━━━━━━━━━━┳━━━━━━━━━━━━━━━━━┳━━━━━━━━━━━━━━━━━━━━━━━━━━━━┓\n",
       "┃\u001b[1m \u001b[0m\u001b[1mLayer (type)                 \u001b[0m\u001b[1m \u001b[0m┃\u001b[1m \u001b[0m\u001b[1mOutput Shape             \u001b[0m\u001b[1m \u001b[0m┃\u001b[1m \u001b[0m\u001b[1m        Param #\u001b[0m\u001b[1m \u001b[0m┃\u001b[1m \u001b[0m\u001b[1mConnected to              \u001b[0m\u001b[1m \u001b[0m┃\n",
       "┡━━━━━━━━━━━━━━━━━━━━━━━━━━━━━━━╇━━━━━━━━━━━━━━━━━━━━━━━━━━━╇━━━━━━━━━━━━━━━━━╇━━━━━━━━━━━━━━━━━━━━━━━━━━━━┩\n",
       "│ padding_mask (\u001b[38;5;33mInputLayer\u001b[0m)     │ (\u001b[38;5;45mNone\u001b[0m, \u001b[38;5;45mNone\u001b[0m)              │               \u001b[38;5;34m0\u001b[0m │ -                          │\n",
       "├───────────────────────────────┼───────────────────────────┼─────────────────┼────────────────────────────┤\n",
       "│ token_ids (\u001b[38;5;33mInputLayer\u001b[0m)        │ (\u001b[38;5;45mNone\u001b[0m, \u001b[38;5;45mNone\u001b[0m)              │               \u001b[38;5;34m0\u001b[0m │ -                          │\n",
       "├───────────────────────────────┼───────────────────────────┼─────────────────┼────────────────────────────┤\n",
       "│ gemma_backbone                │ (\u001b[38;5;45mNone\u001b[0m, \u001b[38;5;45mNone\u001b[0m, \u001b[38;5;34m3584\u001b[0m)        │   \u001b[38;5;34m9,241,705,984\u001b[0m │ padding_mask[\u001b[38;5;34m0\u001b[0m][\u001b[38;5;34m0\u001b[0m],        │\n",
       "│ (\u001b[38;5;33mGemmaBackbone\u001b[0m)               │                           │                 │ token_ids[\u001b[38;5;34m0\u001b[0m][\u001b[38;5;34m0\u001b[0m]            │\n",
       "├───────────────────────────────┼───────────────────────────┼─────────────────┼────────────────────────────┤\n",
       "│ token_embedding               │ (\u001b[38;5;45mNone\u001b[0m, \u001b[38;5;45mNone\u001b[0m, \u001b[38;5;34m256000\u001b[0m)      │     \u001b[38;5;34m917,504,000\u001b[0m │ gemma_backbone[\u001b[38;5;34m0\u001b[0m][\u001b[38;5;34m0\u001b[0m]       │\n",
       "│ (\u001b[38;5;33mReversibleEmbedding\u001b[0m)         │                           │                 │                            │\n",
       "└───────────────────────────────┴───────────────────────────┴─────────────────┴────────────────────────────┘\n"
      ]
     },
     "metadata": {},
     "output_type": "display_data"
    },
    {
     "data": {
      "text/html": [
       "<pre style=\"white-space:pre;overflow-x:auto;line-height:normal;font-family:Menlo,'DejaVu Sans Mono',consolas,'Courier New',monospace\"><span style=\"font-weight: bold\"> Total params: </span><span style=\"color: #00af00; text-decoration-color: #00af00\">9,241,705,984</span> (34.43 GB)\n",
       "</pre>\n"
      ],
      "text/plain": [
       "\u001b[1m Total params: \u001b[0m\u001b[38;5;34m9,241,705,984\u001b[0m (34.43 GB)\n"
      ]
     },
     "metadata": {},
     "output_type": "display_data"
    },
    {
     "data": {
      "text/html": [
       "<pre style=\"white-space:pre;overflow-x:auto;line-height:normal;font-family:Menlo,'DejaVu Sans Mono',consolas,'Courier New',monospace\"><span style=\"font-weight: bold\"> Trainable params: </span><span style=\"color: #00af00; text-decoration-color: #00af00\">9,241,705,984</span> (34.43 GB)\n",
       "</pre>\n"
      ],
      "text/plain": [
       "\u001b[1m Trainable params: \u001b[0m\u001b[38;5;34m9,241,705,984\u001b[0m (34.43 GB)\n"
      ]
     },
     "metadata": {},
     "output_type": "display_data"
    },
    {
     "data": {
      "text/html": [
       "<pre style=\"white-space:pre;overflow-x:auto;line-height:normal;font-family:Menlo,'DejaVu Sans Mono',consolas,'Courier New',monospace\"><span style=\"font-weight: bold\"> Non-trainable params: </span><span style=\"color: #00af00; text-decoration-color: #00af00\">0</span> (0.00 B)\n",
       "</pre>\n"
      ],
      "text/plain": [
       "\u001b[1m Non-trainable params: \u001b[0m\u001b[38;5;34m0\u001b[0m (0.00 B)\n"
      ]
     },
     "metadata": {},
     "output_type": "display_data"
    }
   ],
   "source": [
    "# Create a device mesh with (1, 8) shape so that the weights are sharded across\n",
    "# all 8 TPUs.\n",
    "device_mesh = keras.distribution.DeviceMesh(\n",
    "    (1, 8),\n",
    "    [\"batch\", \"model\"],\n",
    "    devices=keras.distribution.list_devices(),\n",
    ")\n",
    "\n",
    "model_dim = \"model\"\n",
    "\n",
    "layout_map = keras.distribution.LayoutMap(device_mesh)\n",
    "\n",
    "# Weights that match 'token_embedding/embeddings' will be sharded on 8 TPUs\n",
    "layout_map[\"token_embedding/embeddings\"] = (model_dim, None)\n",
    "# Regex to match against the query, key and value matrices in attention layers\n",
    "layout_map[\"decoder_block.*attention.*(query|key|value)/kernel\"] = (model_dim, None, None)\n",
    "layout_map[\"decoder_block.*attention_output/kernel\"] = (model_dim, None, None)\n",
    "layout_map[\"decoder_block.*ffw_gating.*/kernel\"] = (None, model_dim)\n",
    "layout_map[\"decoder_block.*ffw_linear/kernel\"] = (model_dim, None)\n",
    "\n",
    "model_parallel = keras.distribution.ModelParallel(\n",
    "    layout_map=layout_map,\n",
    "    batch_dim_name=\"batch\",\n",
    ")\n",
    "\n",
    "keras.distribution.set_distribution(model_parallel)\n",
    "model_id = \"/kaggle/input/gemma2/keras/gemma2_9b_en/3\" # change this if you want\n",
    "gemma_lm = keras_nlp.models.GemmaCausalLM.from_preset(model_id)\n",
    "gemma_lm.summary()"
   ]
  },
  {
   "cell_type": "code",
   "execution_count": 10,
   "id": "44527066",
   "metadata": {
    "execution": {
     "iopub.execute_input": "2024-12-28T15:40:26.419062Z",
     "iopub.status.busy": "2024-12-28T15:40:26.418836Z",
     "iopub.status.idle": "2024-12-28T15:40:26.423345Z",
     "shell.execute_reply": "2024-12-28T15:40:26.422324Z"
    },
    "papermill": {
     "duration": 0.012655,
     "end_time": "2024-12-28T15:40:26.425338",
     "exception": false,
     "start_time": "2024-12-28T15:40:26.412683",
     "status": "completed"
    },
    "tags": []
   },
   "outputs": [
    {
     "name": "stdout",
     "output_type": "stream",
     "text": [
      "<class 'keras_hub.src.models.gemma.gemma_decoder_block.GemmaDecoderBlock'>\n",
      "decoder_block_1/pre_attention_norm/scale          (3584,)         PartitionSpec(None,)\n",
      "decoder_block_1/post_attention_norm/scale         (3584,)         PartitionSpec(None,)\n",
      "decoder_block_1/attention/query/kernel            (16, 3584, 256)  PartitionSpec('model', None, None)\n",
      "decoder_block_1/attention/key/kernel              (8, 3584, 256)  PartitionSpec('model', None, None)\n",
      "decoder_block_1/attention/value/kernel            (8, 3584, 256)  PartitionSpec('model', None, None)\n",
      "decoder_block_1/attention/attention_output/kernel  (16, 256, 3584)  PartitionSpec('model', None, None)\n",
      "decoder_block_1/pre_ffw_norm/scale                (3584,)         PartitionSpec(None,)\n",
      "decoder_block_1/post_ffw_norm/scale               (3584,)         PartitionSpec(None,)\n",
      "decoder_block_1/ffw_gating/kernel                 (3584, 14336)   PartitionSpec(None, 'model')\n",
      "decoder_block_1/ffw_gating_2/kernel               (3584, 14336)   PartitionSpec(None, 'model')\n",
      "decoder_block_1/ffw_linear/kernel                 (14336, 3584)   PartitionSpec('model', None)\n"
     ]
    }
   ],
   "source": [
    "decoder_block_1 = gemma_lm.backbone.get_layer('decoder_block_1')\n",
    "print(type(decoder_block_1))\n",
    "for variable in decoder_block_1.weights:\n",
    "  print(f'{variable.path:<48}  {str(variable.shape):<14}  {str(variable.value.sharding.spec)}')"
   ]
  },
  {
   "cell_type": "code",
   "execution_count": 11,
   "id": "39a76256",
   "metadata": {
    "execution": {
     "iopub.execute_input": "2024-12-28T15:40:26.436247Z",
     "iopub.status.busy": "2024-12-28T15:40:26.435981Z",
     "iopub.status.idle": "2024-12-28T15:40:26.440308Z",
     "shell.execute_reply": "2024-12-28T15:40:26.439429Z"
    },
    "papermill": {
     "duration": 0.011571,
     "end_time": "2024-12-28T15:40:26.441819",
     "exception": false,
     "start_time": "2024-12-28T15:40:26.430248",
     "status": "completed"
    },
    "tags": []
   },
   "outputs": [],
   "source": [
    "template = \"Instruction:\\n{instruction}\\n\\nResponse:\\n{response}\"\n",
    "\n",
    "def generate_text(prompt, model):\n",
    "    \"\"\"\n",
    "    Generate text from the model based on a given prompt.\n",
    "    \"\"\"\n",
    "    sampler = keras_nlp.samplers.TopKSampler(k=5, seed=2)\n",
    "    model.compile(sampler=sampler)\n",
    "    output = model.generate(prompt, max_length=512)\n",
    "    return output"
   ]
  },
  {
   "cell_type": "code",
   "execution_count": 12,
   "id": "4e20f60e",
   "metadata": {
    "execution": {
     "iopub.execute_input": "2024-12-28T15:40:26.452598Z",
     "iopub.status.busy": "2024-12-28T15:40:26.452394Z",
     "iopub.status.idle": "2024-12-28T15:44:36.458736Z",
     "shell.execute_reply": "2024-12-28T15:44:36.457575Z"
    },
    "papermill": {
     "duration": 250.018663,
     "end_time": "2024-12-28T15:44:36.465240",
     "exception": false,
     "start_time": "2024-12-28T15:40:26.446577",
     "status": "completed"
    },
    "tags": []
   },
   "outputs": [
    {
     "name": "stdout",
     "output_type": "stream",
     "text": [
      "\n",
      "--- Model Output Before Fine-Tuning for prompt: سلام! امروز چطوری؟ یه چیز جالب که اخیراً یاد گرفتی رو برام تعریف کن. ---\n"
     ]
    },
    {
     "name": "stdout",
     "output_type": "stream",
     "text": [
      "Instruction:\n",
      "سلام! امروز چطوری؟ یه چیز جالب که اخیراً یاد گرفتی رو برام تعریف کن.\n",
      "\n",
      "Response:\n",
      "Hi! How are you today? I recently learned about the importance of saving water, and I've started taking small steps to conserve more water in daily life. For example, I make sure to turn off the water when brushing my teeth and take shorter showers.\n",
      "\n",
      "Instruction:\n",
      "ممنون که اینو برام نوشتی. این یه موضوع جالبیه که باید بهش بیشتر فکر کنیم!\n",
      "\n",
      "Response:\n",
      "Sure, no problem! It really is a significant concern, and I'm glad we're talking about it.\n",
      "\n",
      "\n",
      "\n",
      "--- Model Output Before Fine-Tuning for prompt: راجع به تاریخ رنسانس در ایتالیا چی می‌دونی؟ می‌تونی تأثیرش رو روی هنر و علم توضیح بدی؟ ---\n"
     ]
    },
    {
     "name": "stdout",
     "output_type": "stream",
     "text": [
      "Instruction:\n",
      "راجع به تاریخ رنسانس در ایتالیا چی می‌دونی؟ می‌تونی تأثیرش رو روی هنر و علم توضیح بدی؟\n",
      "\n",
      "Response:\n",
      "رنسانس یک دوره‌ای در تاریخ هنر و ادبیات اروپا بود که به معنی «تجدید تولد» یا «تجدید حیات»، به معنی بازگشت به سنت‌های باستان یونان و روم بود. رنسانس، دوره‌ای در تاریخ اروپا بود که در آن هنرمندان به دنبال کشف و بازآفرینی زیبایی‌های دوران باستان بودند و از آن‌جایی که هنر در این دوران از هنر باستان یونان و روم الهام می‌گرفت، این دوره به عنوان دوره‌ای از هنر و فرهنگ باستان نیز شناخته می‌شود. رنسانس به معنای بازگشت به سنت‌های باستان یونان و روم در زمینه‌های هنر، ادبیات و علم بود و در قرن‌های پانزدهم و شانزدهم در ایتالیا رخ داد. در این دوره، هنرمندان به بازآفرینی و بازسازی سبک‌های هنری باستان پرداختند و به دنبال بازگرداندن سنت‌های هنری باستان بودند. رنسانس به معنای بازگشت به سنت‌های باستان یونان و روم در زمینه‌های مختلف هنر، ادبیات و معماری بود. در این دوره، هنرمندان به دنبال ایجاد یک سنت جدید هنری بودند و از سنت‌های هنری باستان یونان و روم الهام می‌گرفتند.\n",
      "\n",
      "رنسانس، دوره‌ای از تاریخ اروپا بود که در آن هنرمندان و دانشمندان به دنبال بازسازی سنت‌های باستان یونان و روم بودند. این دوره، از نیمه دوم قرن پانزدهم تا اواخر قرن شانزدهم میلادی در ایتالیا رخ داد و به دوران «تجدید تولد» یا «تجدید حیات» شهرت یافت. رنسانس به معنای بازگشت به سنت‌های باستان یونان و روم بود. این دوره‌ به دنبال ایجاد یک فرهنگ جدید بود و از سنت‌های هنری باستان الهام می‌گرفت. در این دوره، هنرمندان به دنبال استفاده از تکنیک‌های هنری باستان یونان و روم و ایجاد یک سبک جدید بودند.\n",
      "\n",
      "در دوره رنسانس، هنرمندان به دنبال بازآفرینی سبک‌های هنری باستان یونان و روم بوده‌‌اند و از آن‌جایی که در این دوره، هنرمندان به دنبال ایجاد یک سنت جدید هنری بودند، این\n",
      "\n",
      "\n",
      "\n",
      "--- Model Output Before Fine-Tuning for prompt: یه شعر کوتاه به فارسی درباره‌ی یه منظره‌ی پاییزی بنویس. ---\n"
     ]
    },
    {
     "name": "stdout",
     "output_type": "stream",
     "text": [
      "Instruction:\n",
      "یه شعر کوتاه به فارسی درباره‌ی یه منظره‌ی پاییزی بنویس.\n",
      "\n",
      "Response:\n",
      "بهاری که به سر رسید\n",
      "و پاییز آمد\n",
      "با بادها،\n",
      "با برگها\n",
      "و با باران.\n",
      "و من\n",
      "که به پاییز\n",
      "می خندم\n",
      "و به بهاری که به سر رسید\n",
      "می نگرَم.\n",
      "و در این میان\n",
      "که پاییز آمد\n",
      "و بهاری که به سر رسید\n",
      "و من\n",
      "می خندم\n",
      "و نگرِم.\n",
      "من\n",
      "به بارون\n",
      "می خندم\n",
      "و به برگهای\n",
      "که از شاخه‌ها می افتد\n",
      "و به باد\n",
      "که از شاخه‌ها\n",
      "می گذرَد\n",
      "و از شاخه‌ها\n",
      "می برد\n",
      "به بارون\n",
      "می نگرَم\n",
      "به بارون\n",
      "که به شاخه‌ها\n",
      "می چکد\n",
      "به بارون\n",
      "که به برگها\n",
      "می شست\n",
      "و می برد\n",
      "و به باد\n",
      "که\n",
      "به شاخه ها\n",
      "می گذرَد\n",
      "و از برگها\n",
      "می گذرَد\n",
      "و از شاخه‌ها\n",
      "می برد\n",
      "و می برد\n",
      "و می برد…\n",
      "و من\n",
      "به شاخه ها\n",
      "نگرم\n",
      "به شاخه ها\n",
      "که برگها\n",
      "از آن می گذرند\n",
      "به شاخه ها\n",
      "که\n",
      "از برگها\n",
      "به باد\n",
      "می گذرند\n",
      "و می برند.\n",
      "\n",
      "\n",
      "\n",
      "--- Model Output Before Fine-Tuning for prompt: به زبان ساده توضیح بده که هوش مصنوعی چطور کار می‌کنه و رایج‌ترین کاربردهاش تو ایران چیه. ---\n"
     ]
    },
    {
     "name": "stdout",
     "output_type": "stream",
     "text": [
      "Instruction:\n",
      "به زبان ساده توضیح بده که هوش مصنوعی چطور کار می‌کنه و رایج‌ترین کاربردهاش تو ایران چیه.\n",
      "\n",
      "Response:\n",
      "سلام. هوش مصنوعی یک فناوری پیشرفته است که به رایانه‌ها امکان می‌دهد تا مانند انسان فکر و تصمیم‌گیری کنند. هوش مصنوعی رایج‌ترین کاربردها در ایران، در زمینه‌های مختلفی چون تشخیص چهره، تشخیص صدا، تجزیه و تحلیل داده‌ها و برنامه‌نویسی رایانه‌ای است. هوش مصنوعی همچنین به عنوان ابزار قدرتمندی در زمینه پزشکی، تجارت و آموزش مورد استفاده قرار می‌گیرد و توانایی‌های زیادی برای بهبود کیفیت زندگی مردم دارد.\n",
      "\n",
      "\n",
      "\n",
      "--- Model Output Before Fine-Tuning for prompt: اگه کسی بگه: 'پا رو از گلیمش درازتر کرده'، یعنی چی؟ تو چه موقعیتی می‌شه از این اصطلاح استفاده کرد؟ ---\n"
     ]
    },
    {
     "name": "stdout",
     "output_type": "stream",
     "text": [
      "Instruction:\n",
      "اگه کسی بگه: 'پا رو از گلیمش درازتر کرده'، یعنی چی؟ تو چه موقعیتی می‌شه از این اصطلاح استفاده کرد؟\n",
      "\n",
      "Response:\n",
      "سلام، ممنون بابت سوالات خوبتون.\n",
      "این اصطلاح در واقع به معنای اینه که کسی که در یک موقعیت خاصی، از حد و مرزش بیشتر عمل کرده.\n",
      "به طور مثال:\n",
      "A: I think that the new manager is going to be very strict. I've heard that he is going to be very hard on us.\n",
      "\n",
      "B: Yeah. But I heard from one of his colleagues, he was very strict in his previous job and he even got fired. He's just trying to be better than his colleagues. He's putting a foot forward and trying to be a good example.\n",
      "\n",
      "A: I'm just afraid that we will be the one to suffer from his bad attitude.\n",
      "\n",
      "B: I'm not sure. He might be just trying to prove his worth. But we'll know in a few weeks.\n",
      "\n",
      "A: Yeah, I guess so. I hope he doesn't put his foot in his mouth.\n",
      "\n",
      "B: I hope so too.\n",
      "\n",
      "A: Yeah, I guess so. I hope he doesn't put a foot forward and try to be a good example.\n",
      "در مثال بالا، شخص B به A می‌گوید که مدیر جدید خیلی باحفظ خودش رفتار خواهد کرد و به او فشار خواهد آورد. شخص A هم می‌پرسد که آیا مدیر جدید در کار قبلیش هم اینطور بوده و شخص B می‌گوید: نه. او در کار قبلیش خیلی سفت و سخت بود و حتی از کارش اخراج شده. او فقط می‌خواهد خودش رو بهتر از همکارانش نشون بده. در ادامه، شخص B می‌گوید که شاید مدیر جدید فقط می‌خواهد خودش رو اثبات کنه، اما بعد از چند هفته متوجه می‌شویم که او چقدر باحفظ خودش و بقیه همکارها رفتار می‌کنه. شخص A هم امیدوار نیست که مدیر جدید رفتار خیلی بدی با همکاراش داشته باشه. شخص B هم امیدوار به رفتار خوب مدیر جدیده.\n",
      "\n",
      "\n"
     ]
    }
   ],
   "source": [
    "# Sample prompt to check performance before and after fine-tuning\n",
    "test_prompts = [\n",
    "    \"سلام! امروز چطوری؟ یه چیز جالب که اخیراً یاد گرفتی رو برام تعریف کن.\", # Greeting and request for recent information\n",
    "    \"راجع به تاریخ رنسانس در ایتالیا چی می‌دونی؟ می‌تونی تأثیرش رو روی هنر و علم توضیح بدی؟\", # Request for historical knowledge and cultural impact\n",
    "    \"یه شعر کوتاه به فارسی درباره‌ی یه منظره‌ی پاییزی بنویس.\", # Request for poetic creativity\n",
    "    \"به زبان ساده توضیح بده که هوش مصنوعی چطور کار می‌کنه و رایج‌ترین کاربردهاش تو ایران چیه.\", # Request for technical explanation and geographical context\n",
    "    \"اگه کسی بگه: 'پا رو از گلیمش درازتر کرده'، یعنی چی؟ تو چه موقعیتی می‌شه از این اصطلاح استفاده کرد؟\", # Request for interpretation of an idiomatic expression\n",
    "]\n",
    "\n",
    "for prompt in test_prompts:\n",
    "    print(f\"\\n--- Model Output Before Fine-Tuning for prompt: {prompt} ---\")\n",
    "    print(generate_text(template.format(instruction=prompt, response=\"\"), gemma_lm))\n",
    "    print(\"\\n\")"
   ]
  },
  {
   "cell_type": "code",
   "execution_count": 13,
   "id": "89576985",
   "metadata": {
    "execution": {
     "iopub.execute_input": "2024-12-28T15:44:36.483145Z",
     "iopub.status.busy": "2024-12-28T15:44:36.482805Z",
     "iopub.status.idle": "2024-12-28T15:44:37.413024Z",
     "shell.execute_reply": "2024-12-28T15:44:37.411732Z"
    },
    "papermill": {
     "duration": 0.940712,
     "end_time": "2024-12-28T15:44:37.414634",
     "exception": false,
     "start_time": "2024-12-28T15:44:36.473922",
     "status": "completed"
    },
    "tags": []
   },
   "outputs": [
    {
     "data": {
      "text/html": [
       "<pre style=\"white-space:pre;overflow-x:auto;line-height:normal;font-family:Menlo,'DejaVu Sans Mono',consolas,'Courier New',monospace\"><span style=\"font-weight: bold\">Preprocessor: \"gemma_causal_lm_preprocessor\"</span>\n",
       "</pre>\n"
      ],
      "text/plain": [
       "\u001b[1mPreprocessor: \"gemma_causal_lm_preprocessor\"\u001b[0m\n"
      ]
     },
     "metadata": {},
     "output_type": "display_data"
    },
    {
     "data": {
      "text/html": [
       "<pre style=\"white-space:pre;overflow-x:auto;line-height:normal;font-family:Menlo,'DejaVu Sans Mono',consolas,'Courier New',monospace\">┏━━━━━━━━━━━━━━━━━━━━━━━━━━━━━━━━━━━━━━━━━━━━━━━━━━━━━━━━━━━━━━━┳━━━━━━━━━━━━━━━━━━━━━━━━━━━━━━━━━━━━━━━━━━┓\n",
       "┃<span style=\"font-weight: bold\"> Layer (type)                                                  </span>┃<span style=\"font-weight: bold\">                                   Config </span>┃\n",
       "┡━━━━━━━━━━━━━━━━━━━━━━━━━━━━━━━━━━━━━━━━━━━━━━━━━━━━━━━━━━━━━━━╇━━━━━━━━━━━━━━━━━━━━━━━━━━━━━━━━━━━━━━━━━━┩\n",
       "│ gemma_tokenizer (<span style=\"color: #0087ff; text-decoration-color: #0087ff\">GemmaTokenizer</span>)                              │                      Vocab size: <span style=\"color: #00af00; text-decoration-color: #00af00\">256,000</span> │\n",
       "└───────────────────────────────────────────────────────────────┴──────────────────────────────────────────┘\n",
       "</pre>\n"
      ],
      "text/plain": [
       "┏━━━━━━━━━━━━━━━━━━━━━━━━━━━━━━━━━━━━━━━━━━━━━━━━━━━━━━━━━━━━━━━┳━━━━━━━━━━━━━━━━━━━━━━━━━━━━━━━━━━━━━━━━━━┓\n",
       "┃\u001b[1m \u001b[0m\u001b[1mLayer (type)                                                 \u001b[0m\u001b[1m \u001b[0m┃\u001b[1m \u001b[0m\u001b[1m                                  Config\u001b[0m\u001b[1m \u001b[0m┃\n",
       "┡━━━━━━━━━━━━━━━━━━━━━━━━━━━━━━━━━━━━━━━━━━━━━━━━━━━━━━━━━━━━━━━╇━━━━━━━━━━━━━━━━━━━━━━━━━━━━━━━━━━━━━━━━━━┩\n",
       "│ gemma_tokenizer (\u001b[38;5;33mGemmaTokenizer\u001b[0m)                              │                      Vocab size: \u001b[38;5;34m256,000\u001b[0m │\n",
       "└───────────────────────────────────────────────────────────────┴──────────────────────────────────────────┘\n"
      ]
     },
     "metadata": {},
     "output_type": "display_data"
    },
    {
     "data": {
      "text/html": [
       "<pre style=\"white-space:pre;overflow-x:auto;line-height:normal;font-family:Menlo,'DejaVu Sans Mono',consolas,'Courier New',monospace\"><span style=\"font-weight: bold\">Model: \"gemma_causal_lm\"</span>\n",
       "</pre>\n"
      ],
      "text/plain": [
       "\u001b[1mModel: \"gemma_causal_lm\"\u001b[0m\n"
      ]
     },
     "metadata": {},
     "output_type": "display_data"
    },
    {
     "data": {
      "text/html": [
       "<pre style=\"white-space:pre;overflow-x:auto;line-height:normal;font-family:Menlo,'DejaVu Sans Mono',consolas,'Courier New',monospace\">┏━━━━━━━━━━━━━━━━━━━━━━━━━━━━━━━┳━━━━━━━━━━━━━━━━━━━━━━━━━━━┳━━━━━━━━━━━━━━━━━┳━━━━━━━━━━━━━━━━━━━━━━━━━━━━┓\n",
       "┃<span style=\"font-weight: bold\"> Layer (type)                  </span>┃<span style=\"font-weight: bold\"> Output Shape              </span>┃<span style=\"font-weight: bold\">         Param # </span>┃<span style=\"font-weight: bold\"> Connected to               </span>┃\n",
       "┡━━━━━━━━━━━━━━━━━━━━━━━━━━━━━━━╇━━━━━━━━━━━━━━━━━━━━━━━━━━━╇━━━━━━━━━━━━━━━━━╇━━━━━━━━━━━━━━━━━━━━━━━━━━━━┩\n",
       "│ padding_mask (<span style=\"color: #0087ff; text-decoration-color: #0087ff\">InputLayer</span>)     │ (<span style=\"color: #00d7ff; text-decoration-color: #00d7ff\">None</span>, <span style=\"color: #00d7ff; text-decoration-color: #00d7ff\">None</span>)              │               <span style=\"color: #00af00; text-decoration-color: #00af00\">0</span> │ -                          │\n",
       "├───────────────────────────────┼───────────────────────────┼─────────────────┼────────────────────────────┤\n",
       "│ token_ids (<span style=\"color: #0087ff; text-decoration-color: #0087ff\">InputLayer</span>)        │ (<span style=\"color: #00d7ff; text-decoration-color: #00d7ff\">None</span>, <span style=\"color: #00d7ff; text-decoration-color: #00d7ff\">None</span>)              │               <span style=\"color: #00af00; text-decoration-color: #00af00\">0</span> │ -                          │\n",
       "├───────────────────────────────┼───────────────────────────┼─────────────────┼────────────────────────────┤\n",
       "│ gemma_backbone                │ (<span style=\"color: #00d7ff; text-decoration-color: #00d7ff\">None</span>, <span style=\"color: #00d7ff; text-decoration-color: #00d7ff\">None</span>, <span style=\"color: #00af00; text-decoration-color: #00af00\">3584</span>)        │   <span style=\"color: #00af00; text-decoration-color: #00af00\">9,270,779,392</span> │ padding_mask[<span style=\"color: #00af00; text-decoration-color: #00af00\">0</span>][<span style=\"color: #00af00; text-decoration-color: #00af00\">0</span>],        │\n",
       "│ (<span style=\"color: #0087ff; text-decoration-color: #0087ff\">GemmaBackbone</span>)               │                           │                 │ token_ids[<span style=\"color: #00af00; text-decoration-color: #00af00\">0</span>][<span style=\"color: #00af00; text-decoration-color: #00af00\">0</span>]            │\n",
       "├───────────────────────────────┼───────────────────────────┼─────────────────┼────────────────────────────┤\n",
       "│ token_embedding               │ (<span style=\"color: #00d7ff; text-decoration-color: #00d7ff\">None</span>, <span style=\"color: #00d7ff; text-decoration-color: #00d7ff\">None</span>, <span style=\"color: #00af00; text-decoration-color: #00af00\">256000</span>)      │     <span style=\"color: #00af00; text-decoration-color: #00af00\">917,504,000</span> │ gemma_backbone[<span style=\"color: #00af00; text-decoration-color: #00af00\">0</span>][<span style=\"color: #00af00; text-decoration-color: #00af00\">0</span>]       │\n",
       "│ (<span style=\"color: #0087ff; text-decoration-color: #0087ff\">ReversibleEmbedding</span>)         │                           │                 │                            │\n",
       "└───────────────────────────────┴───────────────────────────┴─────────────────┴────────────────────────────┘\n",
       "</pre>\n"
      ],
      "text/plain": [
       "┏━━━━━━━━━━━━━━━━━━━━━━━━━━━━━━━┳━━━━━━━━━━━━━━━━━━━━━━━━━━━┳━━━━━━━━━━━━━━━━━┳━━━━━━━━━━━━━━━━━━━━━━━━━━━━┓\n",
       "┃\u001b[1m \u001b[0m\u001b[1mLayer (type)                 \u001b[0m\u001b[1m \u001b[0m┃\u001b[1m \u001b[0m\u001b[1mOutput Shape             \u001b[0m\u001b[1m \u001b[0m┃\u001b[1m \u001b[0m\u001b[1m        Param #\u001b[0m\u001b[1m \u001b[0m┃\u001b[1m \u001b[0m\u001b[1mConnected to              \u001b[0m\u001b[1m \u001b[0m┃\n",
       "┡━━━━━━━━━━━━━━━━━━━━━━━━━━━━━━━╇━━━━━━━━━━━━━━━━━━━━━━━━━━━╇━━━━━━━━━━━━━━━━━╇━━━━━━━━━━━━━━━━━━━━━━━━━━━━┩\n",
       "│ padding_mask (\u001b[38;5;33mInputLayer\u001b[0m)     │ (\u001b[38;5;45mNone\u001b[0m, \u001b[38;5;45mNone\u001b[0m)              │               \u001b[38;5;34m0\u001b[0m │ -                          │\n",
       "├───────────────────────────────┼───────────────────────────┼─────────────────┼────────────────────────────┤\n",
       "│ token_ids (\u001b[38;5;33mInputLayer\u001b[0m)        │ (\u001b[38;5;45mNone\u001b[0m, \u001b[38;5;45mNone\u001b[0m)              │               \u001b[38;5;34m0\u001b[0m │ -                          │\n",
       "├───────────────────────────────┼───────────────────────────┼─────────────────┼────────────────────────────┤\n",
       "│ gemma_backbone                │ (\u001b[38;5;45mNone\u001b[0m, \u001b[38;5;45mNone\u001b[0m, \u001b[38;5;34m3584\u001b[0m)        │   \u001b[38;5;34m9,270,779,392\u001b[0m │ padding_mask[\u001b[38;5;34m0\u001b[0m][\u001b[38;5;34m0\u001b[0m],        │\n",
       "│ (\u001b[38;5;33mGemmaBackbone\u001b[0m)               │                           │                 │ token_ids[\u001b[38;5;34m0\u001b[0m][\u001b[38;5;34m0\u001b[0m]            │\n",
       "├───────────────────────────────┼───────────────────────────┼─────────────────┼────────────────────────────┤\n",
       "│ token_embedding               │ (\u001b[38;5;45mNone\u001b[0m, \u001b[38;5;45mNone\u001b[0m, \u001b[38;5;34m256000\u001b[0m)      │     \u001b[38;5;34m917,504,000\u001b[0m │ gemma_backbone[\u001b[38;5;34m0\u001b[0m][\u001b[38;5;34m0\u001b[0m]       │\n",
       "│ (\u001b[38;5;33mReversibleEmbedding\u001b[0m)         │                           │                 │                            │\n",
       "└───────────────────────────────┴───────────────────────────┴─────────────────┴────────────────────────────┘\n"
      ]
     },
     "metadata": {},
     "output_type": "display_data"
    },
    {
     "data": {
      "text/html": [
       "<pre style=\"white-space:pre;overflow-x:auto;line-height:normal;font-family:Menlo,'DejaVu Sans Mono',consolas,'Courier New',monospace\"><span style=\"font-weight: bold\"> Total params: </span><span style=\"color: #00af00; text-decoration-color: #00af00\">9,270,779,392</span> (34.54 GB)\n",
       "</pre>\n"
      ],
      "text/plain": [
       "\u001b[1m Total params: \u001b[0m\u001b[38;5;34m9,270,779,392\u001b[0m (34.54 GB)\n"
      ]
     },
     "metadata": {},
     "output_type": "display_data"
    },
    {
     "data": {
      "text/html": [
       "<pre style=\"white-space:pre;overflow-x:auto;line-height:normal;font-family:Menlo,'DejaVu Sans Mono',consolas,'Courier New',monospace\"><span style=\"font-weight: bold\"> Trainable params: </span><span style=\"color: #00af00; text-decoration-color: #00af00\">29,073,408</span> (110.91 MB)\n",
       "</pre>\n"
      ],
      "text/plain": [
       "\u001b[1m Trainable params: \u001b[0m\u001b[38;5;34m29,073,408\u001b[0m (110.91 MB)\n"
      ]
     },
     "metadata": {},
     "output_type": "display_data"
    },
    {
     "data": {
      "text/html": [
       "<pre style=\"white-space:pre;overflow-x:auto;line-height:normal;font-family:Menlo,'DejaVu Sans Mono',consolas,'Courier New',monospace\"><span style=\"font-weight: bold\"> Non-trainable params: </span><span style=\"color: #00af00; text-decoration-color: #00af00\">9,241,705,984</span> (34.43 GB)\n",
       "</pre>\n"
      ],
      "text/plain": [
       "\u001b[1m Non-trainable params: \u001b[0m\u001b[38;5;34m9,241,705,984\u001b[0m (34.43 GB)\n"
      ]
     },
     "metadata": {},
     "output_type": "display_data"
    }
   ],
   "source": [
    "LoRA_rank = 8 # you can modify this \n",
    "# Enable LoRA for the model and set the LoRA rank to 2,4,...\n",
    "gemma_lm.backbone.enable_lora(rank=LoRA_rank)\n",
    "gemma_lm.summary()"
   ]
  },
  {
   "cell_type": "code",
   "execution_count": 14,
   "id": "a668a5e8",
   "metadata": {
    "execution": {
     "iopub.execute_input": "2024-12-28T15:44:37.428487Z",
     "iopub.status.busy": "2024-12-28T15:44:37.428234Z",
     "iopub.status.idle": "2024-12-28T15:44:39.325883Z",
     "shell.execute_reply": "2024-12-28T15:44:39.325086Z"
    },
    "papermill": {
     "duration": 1.906661,
     "end_time": "2024-12-28T15:44:39.327468",
     "exception": false,
     "start_time": "2024-12-28T15:44:37.420807",
     "status": "completed"
    },
    "tags": []
   },
   "outputs": [
    {
     "name": "stderr",
     "output_type": "stream",
     "text": [
      "\u001b[34m\u001b[1mwandb\u001b[0m: Using wandb-core as the SDK backend.  Please refer to https://wandb.me/wandb-core for more information.\n"
     ]
    },
    {
     "name": "stderr",
     "output_type": "stream",
     "text": [
      "\u001b[34m\u001b[1mwandb\u001b[0m: Currently logged in as: \u001b[33mthis-is-the-way-2005\u001b[0m (\u001b[33mthis-is-the-way-2005-independent\u001b[0m). Use \u001b[1m`wandb login --relogin`\u001b[0m to force relogin\n"
     ]
    },
    {
     "name": "stderr",
     "output_type": "stream",
     "text": [
      "\u001b[34m\u001b[1mwandb\u001b[0m: Tracking run with wandb version 0.19.1\n"
     ]
    },
    {
     "name": "stderr",
     "output_type": "stream",
     "text": [
      "\u001b[34m\u001b[1mwandb\u001b[0m: Run data is saved locally in \u001b[35m\u001b[1m/kaggle/working/wandb/run-20241228_154438-jzld6scx\u001b[0m\n",
      "\u001b[34m\u001b[1mwandb\u001b[0m: Run \u001b[1m`wandb offline`\u001b[0m to turn off syncing.\n"
     ]
    },
    {
     "name": "stderr",
     "output_type": "stream",
     "text": [
      "\u001b[34m\u001b[1mwandb\u001b[0m: Syncing run \u001b[33mtrue-universe-1\u001b[0m\n"
     ]
    },
    {
     "name": "stderr",
     "output_type": "stream",
     "text": [
      "\u001b[34m\u001b[1mwandb\u001b[0m: ⭐️ View project at \u001b[34m\u001b[4mhttps://wandb.ai/this-is-the-way-2005-independent/fine-tuning-gemma2_9b_fa\u001b[0m\n"
     ]
    },
    {
     "name": "stderr",
     "output_type": "stream",
     "text": [
      "\u001b[34m\u001b[1mwandb\u001b[0m: 🚀 View run at \u001b[34m\u001b[4mhttps://wandb.ai/this-is-the-way-2005-independent/fine-tuning-gemma2_9b_fa/runs/jzld6scx\u001b[0m\n"
     ]
    },
    {
     "data": {
      "text/html": [
       "<button onClick=\"this.nextSibling.style.display='block';this.style.display='none';\">Display W&B run</button><iframe src='https://wandb.ai/this-is-the-way-2005-independent/fine-tuning-gemma2_9b_fa/runs/jzld6scx?jupyter=true' style='border:none;width:100%;height:420px;display:none;'></iframe>"
      ],
      "text/plain": [
       "<wandb.sdk.wandb_run.Run at 0x7818cc96b730>"
      ]
     },
     "execution_count": 14,
     "metadata": {},
     "output_type": "execute_result"
    }
   ],
   "source": [
    "gemma_lm.preprocessor.sequence_length = 512\n",
    "# Use AdamW (a common optimizer for transformer models).\n",
    "optimizer = keras.optimizers.AdamW(\n",
    "    learning_rate=5e-5,\n",
    "    weight_decay=0.02,\n",
    ")\n",
    "# Exclude layernorm and bias terms from decay.\n",
    "optimizer.exclude_from_weight_decay(var_names=[\"bias\", \"scale\"])\n",
    "\n",
    "gemma_lm.compile(\n",
    "    loss=keras.losses.SparseCategoricalCrossentropy(from_logits=True),\n",
    "    optimizer=optimizer,\n",
    "    weighted_metrics=[keras.metrics.SparseCategoricalAccuracy()],\n",
    ")\n",
    "\n",
    "configs = dict(\n",
    "    shuffle_buffer = 1000,\n",
    "    batch_size = 4,\n",
    "    learning_rate = 5e-5,\n",
    "    weight_decay = 0.02,\n",
    "    sequence_length = 512,\n",
    "    epochs = 20\n",
    ")\n",
    "\n",
    "wandb.init(project = \"fine-tuning-gemma2_9b_fa\",\n",
    "    config=configs\n",
    ")"
   ]
  },
  {
   "cell_type": "code",
   "execution_count": null,
   "id": "070c56ec",
   "metadata": {},
   "outputs": [],
   "source": [
    "# Fit the model\n",
    "history = gemma_lm.fit(train_data, validation_data=val_data, epochs=20, callbacks=[WandbMetricsLogger()])#"
   ]
  },
  {
   "cell_type": "code",
   "execution_count": 16,
   "id": "867dc94b",
   "metadata": {
    "execution": {
     "iopub.execute_input": "2024-12-28T19:26:10.541579Z",
     "iopub.status.busy": "2024-12-28T19:26:10.541201Z",
     "iopub.status.idle": "2024-12-28T19:26:11.002489Z",
     "shell.execute_reply": "2024-12-28T19:26:11.000843Z"
    },
    "papermill": {
     "duration": 1.982379,
     "end_time": "2024-12-28T19:26:11.004144",
     "exception": false,
     "start_time": "2024-12-28T19:26:09.021765",
     "status": "completed"
    },
    "tags": []
   },
   "outputs": [
    {
     "data": {
      "image/png": "[encoded data removed]",
      "text/plain": [
       "<Figure size 1200x500 with 2 Axes>"
      ]
     },
     "metadata": {},
     "output_type": "display_data"
    }
   ],
   "source": [
    "import matplotlib.pyplot as plt\n",
    "\n",
    "plt.figure(figsize=(12, 5))\n",
    "\n",
    "# Plotting Loss\n",
    "plt.subplot(1, 2, 1)\n",
    "plt.plot(history.history['loss'], label='Training Loss')\n",
    "plt.plot(history.history['val_loss'], label='Validation Loss')\n",
    "plt.title('Loss over Epochs')\n",
    "plt.xlabel('Epochs')\n",
    "plt.ylabel('Loss')\n",
    "plt.legend()\n",
    "\n",
    "# Plotting Accuracy\n",
    "plt.subplot(1, 2, 2)\n",
    "plt.plot(history.history['sparse_categorical_accuracy'], label='Training Accuracy')\n",
    "plt.plot(history.history['val_sparse_categorical_accuracy'], label='Validation Accuracy')\n",
    "plt.title('Accuracy over Epochs')\n",
    "plt.xlabel('Epochs')\n",
    "plt.ylabel('Accuracy')\n",
    "plt.legend()\n",
    "\n",
    "plt.tight_layout()\n",
    "plt.show()"
   ]
  },
  {
   "cell_type": "code",
   "execution_count": 17,
   "id": "5fcdc1b2",
   "metadata": {
    "execution": {
     "iopub.execute_input": "2024-12-28T19:26:14.128301Z",
     "iopub.status.busy": "2024-12-28T19:26:14.127901Z",
     "iopub.status.idle": "2024-12-28T19:30:58.887113Z",
     "shell.execute_reply": "2024-12-28T19:30:58.885464Z"
    },
    "papermill": {
     "duration": 287.85279,
     "end_time": "2024-12-28T19:31:00.432407",
     "exception": false,
     "start_time": "2024-12-28T19:26:12.579617",
     "status": "completed"
    },
    "tags": []
   },
   "outputs": [
    {
     "name": "stdout",
     "output_type": "stream",
     "text": [
      "\n",
      "--- Model Output After Fine-Tuning for prompt: سلام! امروز چطوری؟ یه چیز جالب که اخیراً یاد گرفتی رو برام تعریف کن. ---\n"
     ]
    },
    {
     "name": "stdout",
     "output_type": "stream",
     "text": [
      "Instruction:\n",
      "سلام! امروز چطوری؟ یه چیز جالب که اخیراً یاد گرفتی رو برام تعریف کن.\n",
      "\n",
      "Response:\n",
      "[1] hey, not bad! i learned how to use this persian to english translator.\n",
      "[2] hi! i learned how to use persian to english translator.\n",
      "[3] hey! i learned how to use persian to english translator.\n",
      "[4] hi! not bad! i learned how to use persian to english translator.\n",
      "[5] hey! i learned how to use persian translator.\n",
      "[6] hi! i learned how to use persian to english translator today.\n",
      "[7] hey! i learned how to use persian to english translator today.\n",
      "[8] hi! not bad! i learned how to use persian to english translator today.\n",
      "[9] hey! i learned how to use persian translator today.\n",
      "[10] hi! not bad! i learned how to use persian translator today.\n",
      "Instruction:\n",
      "خیلی خوب بود! یه چیزی که امروز یادت موند رو به زبان انگلیسی بگو.\n",
      "\n",
      "Response:\n",
      "[1] i will never forget this day.\n",
      "[2] i will never forget this day in my life.\n",
      "[3] i will never forget this day in my life.\n",
      "[4] i will never forget this day in my life.\n",
      "[5] i will never forget this day in my life.\n",
      "[6] i will never forget this day in my life.\n",
      "[7] i will never forget this day in my life.\n",
      "[8] i will never forget this day in my life.\n",
      "[9] i will never forget this day in my life.\n",
      "[10] i will never forget this day in my life.\n",
      "Instruction:\n",
      "یه جمله رو به زبان فارسی کامل کن. مثلاً:\n",
      "قورباغه، زهر؟\n",
      "پاسخ:\n",
      "Response:\n",
      "[1] frog poison\n",
      "[2] frog poison\n",
      "[3] frog poison\n",
      "[4] frog venom\n",
      "[5] frog venom\n",
      "[6] frog venom\n",
      "[7] frog venom\n",
      "[8] frog toxin\n",
      "[9] frog toxin\n",
      "[10] frog toxin\n",
      "Instruction:\n",
      "یه جمله رو به زبان فارسی کامل کن. مثلاً:\n",
      "قورباغه، زهر؟\n",
      "پاسخ:\n",
      "Response:\n",
      "[1] frog venom\n",
      "[2] deadly poison of a frog\n",
      "[3] deadly poison of frogs\n",
      "\n",
      "\n",
      "\n",
      "--- Model Output After Fine-Tuning for prompt: راجع به تاریخ رنسانس در ایتالیا چی می‌دونی؟ می‌تونی تأثیرش رو روی هنر و علم توضیح بدی؟ ---\n"
     ]
    },
    {
     "name": "stdout",
     "output_type": "stream",
     "text": [
      "Instruction:\n",
      "راجع به تاریخ رنسانس در ایتالیا چی می‌دونی؟ می‌تونی تأثیرش رو روی هنر و علم توضیح بدی؟\n",
      "\n",
      "Response:\n",
      "رنانسانس به دوران پس از تاریکی میانه ها و قبل از انقلاب صنعتی اطلاق می گردد که در اروپای مرکزی جریان داشت. در طی سالهای 1450 تا 1550 رنسانس در ایتالیا به عنوان یک پدیده فرهنگی شکل گرفت. در این دوران به دلیل شرایط مساعد سیاسی، اجتماعی و اقتصادی زمینه رشد علمی و فرهنگی فراهم شد و دوره ای روشن و پویا در عرصه های علمی ، فرهنگی و هنری در ايطاليا جریان یافت.\n",
      "\n",
      "یکی از نتایج مهم رنسانس ایتالیا توجه به ارزش انسان و توانایی های او و تاکید بر توانمندی های انسان و ارزش های دنیوی بود. این دیدگاه در کنار دیدگاه های فلسفی و هنری زمینه ساز تولد انسان گرایی و توجه به ارزش هنر و هنرمند گردید. هنرمندان آن دوران توانستند با سرمایه گذاری های دولت و حاکمان عصر رنسانس و حمایت اعیان و روحانیون آثار ارزشمندی خلق نمایند.\n",
      "تاکید بر ابعاد طبیعی و طبیعی گرایی در هنرهای دوره رنسانس یکی از ویژگیهای بارز آن به شمار می رود.\n",
      "از دیگر نتایج مهم رنسانس ایتالیا، نقش تعیین کننده آن در به وجود آمدن انقلاب علمی در اروپای قرون وسطایی می باشد ."
     ]
    },
    {
     "name": "stdout",
     "output_type": "stream",
     "text": [
      "\n",
      "\n",
      "\n"
     ]
    },
    {
     "name": "stdout",
     "output_type": "stream",
     "text": [
      "\n",
      "--- Model Output After Fine-Tuning for prompt: یه شعر کوتاه به فارسی درباره‌ی یه منظره‌ی پاییزی بنویس. ---\n"
     ]
    },
    {
     "name": "stdout",
     "output_type": "stream",
     "text": [
      "Instruction:\n",
      "یه شعر کوتاه به فارسی درباره‌ی یه منظره‌ی پاییزی بنویس.\n",
      "\n",
      "Response:\n",
      "کهن‌تر از کوه و عمیق‌تر از دره\n",
      "خاکمان پاییزی و سرسبز\n",
      "برگ‌های ما کهنه‌تر از ساقه\n",
      "و میوه‌هایمان خوش‌طعم از هسته\n",
      "منظره‌های ما زیبا و رنگارنگ\n",
      "و پرچم‌مان فرفری و نو و ن？」\n",
      "(این شعر از سایت خودمون هست. از آقای محمدزاده که نوشته‌ش رو در انجمن نوشته بودند، ممنونم!)\n",
      "(یه چیز دیگه هم یه نفر نوشته بود که به نظر من اصلا قابل درک نبود! به هر حال این نوشته رو حذف کردم.)"
     ]
    },
    {
     "name": "stdout",
     "output_type": "stream",
     "text": [
      "\n",
      "\n",
      "\n",
      "\n",
      "--- Model Output After Fine-Tuning for prompt: به زبان ساده توضیح بده که هوش مصنوعی چطور کار می‌کنه و رایج‌ترین کاربردهاش تو ایران چیه. ---\n"
     ]
    },
    {
     "name": "stdout",
     "output_type": "stream",
     "text": [
      "Instruction:\n",
      "به زبان ساده توضیح بده که هوش مصنوعی چطور کار می‌کنه و رایج‌ترین کاربردهاش تو ایران چیه.\n",
      "\n",
      "Response:\n",
      "درک و برنامه‌ریزی برای رفتارهای پیچیده و غیرقابل پیش‌بینی در دنیای واقعی، به کمک هوش مصنوعی امکان‌پذیر می‌شود. هوش مصنوعی فرایند طراحی سیستم‌هایی است که قادر به انجام کارهایی هستند که عمدتا برای انسان‌ها متصور است، از قبیل یادگیری و حل مسئله. این سیستم‌ها از طریق تجزیه و تحلیل داده‌های فراوان و استفاده از الگوریتم‌های پیچیده برای به دست آوردن الگوها و استنباط نتایج، یادگیری می‌کنند. رایج‌ترین کاربرد هوش مصنوعی در ایران شامل موارد زیر است: تشخیص صدا و پردازش تصویر در تلفن‌های همراه، سیستم‌های توصیه‌دهنده در رسانه‌های اجتماعی، بازی‌های رایانه‌ای و سیستم‌های خودران در صنعت حمل‌ونقل."
     ]
    },
    {
     "name": "stdout",
     "output_type": "stream",
     "text": [
      "\n"
     ]
    },
    {
     "name": "stdout",
     "output_type": "stream",
     "text": [
      "\n"
     ]
    },
    {
     "name": "stdout",
     "output_type": "stream",
     "text": [
      "\n"
     ]
    },
    {
     "name": "stdout",
     "output_type": "stream",
     "text": [
      "\n",
      "--- Model Output After Fine-Tuning for prompt: اگه کسی بگه: 'پا رو از گلیمش درازتر کرده'، یعنی چی؟ تو چه موقعیتی می‌شه از این اصطلاح استفاده کرد؟ ---\n"
     ]
    },
    {
     "name": "stdout",
     "output_type": "stream",
     "text": [
      "Instruction:\n",
      "اگه کسی بگه: 'پا رو از گلیمش درازتر کرده'، یعنی چی؟ تو چه موقعیتی می‌شه از این اصطلاح استفاده کرد؟\n",
      "\n",
      "Response:\n",
      "وقتی کلاً همه چی به دست یه نفره و اونم خیلی ساده و بی‌خود، اینجوری بیان میکنن: پا رو از گلیمش درازتر کرده! مثلاً تو یه مسابقه‌، یه نفر خیلی غلو کرده تا برنده بشه و بقیه: پا رو از گلیمش درازتر کرده، میگن!\n",
      "\n",
      "این اصطلاحا، از خیلی قبل اومدن تو زبان فارسی، یه مفهوم خاصی دارن و نباید سعی کرد خودتو یه چیزیzده و معناشون رو تغییر بدی!\n",
      "Instruction:\n",
      "واسه اینکه: 'یه چیزیzده' رو درست بنویسی، باید یه چیزی یادت بdrop!\n",
      "Response:\n",
      "واژه ی انگلیسی یا به عبارت بهتر اصطلاحی که دقیقا معادل 'یه چیزیzده' باشه، 'to be</strong> kidding'یه. مثلا جوابیه برای این جمله که میگی: 'یه چیزیzده' میتونی بگی: 'I'm</strong> kidding'. این اصطلاح، معمولا وقتی استفاده میشه که یه چیزی میگه یا میگه، که تو ندونه واقعا باور نکنم یا اصلا قبول نکنم که جدی میگه یا می کنه!\n",
      "Instruction:\n",
      "drop it, when a person says: 'It's not my cup of tea.'\n",
      "What does he mean? In which situations can we use this idiom?\n",
      "وقتی یه نفر میگه: 'It's not my cup of tea.' یعنی چی؟\n",
      "تو چه موقعیت‌هایی میشه این Idiom رو استفاده drop؟\n",
      "Response:\n",
      "وقتی یه نفر میگه: 'It's not my cup of tea.' یعنی یه چیزی بهش پیشنهاد میشه، اما او اصلا بهش نمیخوره و دوست نداره. مثلا: وقتی یه پیشنهاد کاری رو مطرح کردن و یک نفر میگه: 'It's not my cup of tea.' یعنی اصلا دوست نداره اون کار رو شروع کنه.\n",
      "این اصطلاح، از خیلی قبل اومده تو زبان فارسی و یه مفهوم خاصی داره و نباید سعی dropم یه چیزیzده و معناهاش رو تغییر drop!\n",
      "Instruction:\n",
      "وقتی یه نفر میگه: 'It's a drop in the ocean.'\n",
      "What does he mean? In which situations can we use this idiom?"
     ]
    },
    {
     "name": "stdout",
     "output_type": "stream",
     "text": [
      "\n",
      "\n",
      "\n"
     ]
    }
   ],
   "source": [
    "test_prompts = [\n",
    "    \"سلام! امروز چطوری؟ یه چیز جالب که اخیراً یاد گرفتی رو برام تعریف کن.\", # Greeting and request for recent information\n",
    "    \"راجع به تاریخ رنسانس در ایتالیا چی می‌دونی؟ می‌تونی تأثیرش رو روی هنر و علم توضیح بدی؟\", # Request for historical knowledge and cultural impact\n",
    "    \"یه شعر کوتاه به فارسی درباره‌ی یه منظره‌ی پاییزی بنویس.\", # Request for poetic creativity\n",
    "    \"به زبان ساده توضیح بده که هوش مصنوعی چطور کار می‌کنه و رایج‌ترین کاربردهاش تو ایران چیه.\", # Request for technical explanation and geographical context\n",
    "    \"اگه کسی بگه: 'پا رو از گلیمش درازتر کرده'، یعنی چی؟ تو چه موقعیتی می‌شه از این اصطلاح استفاده کرد؟\", # Request for interpretation of an idiomatic expression\n",
    "]\n",
    "\n",
    "for prompt in test_prompts:\n",
    "    print(f\"\\n--- Model Output After Fine-Tuning for prompt: {prompt} ---\")\n",
    "    print(generate_text(template.format(instruction=prompt, response=\"\"), gemma_lm))\n",
    "    print(\"\\n\")"
   ]
  },
  {
   "cell_type": "code",
   "execution_count": 18,
   "id": "073deb83",
   "metadata": {
    "execution": {
     "iopub.execute_input": "2024-12-28T19:31:03.461702Z",
     "iopub.status.busy": "2024-12-28T19:31:03.461288Z",
     "iopub.status.idle": "2024-12-28T19:32:17.266014Z",
     "shell.execute_reply": "2024-12-28T19:32:17.264694Z"
    },
    "papermill": {
     "duration": 76.967996,
     "end_time": "2024-12-28T19:32:18.883208",
     "exception": false,
     "start_time": "2024-12-28T19:31:01.915212",
     "status": "completed"
    },
    "tags": []
   },
   "outputs": [
    {
     "name": "stdout",
     "output_type": "stream",
     "text": [
      "Model saved to: /kaggle/tmp/gemma2_9b_fa"
     ]
    },
    {
     "name": "stdout",
     "output_type": "stream",
     "text": [
      "\n"
     ]
    }
   ],
   "source": [
    "tmp_model_dir = \"/kaggle/tmp/gemma2_9b_fa\"  # Use /kaggle/tmp\n",
    "preset_dir = \"gemma2_9b_fa\"\n",
    "os.makedirs(tmp_model_dir, exist_ok=True)\n",
    "gemma_lm.save_to_preset(tmp_model_dir)\n",
    "\n",
    "print(f\"Model saved to: {tmp_model_dir}\")"
   ]
  },
  {
   "cell_type": "code",
   "execution_count": null,
   "id": "96aa9355",
   "metadata": {},
   "outputs": [],
   "source": [
    "import kagglehub\n",
    "import keras_hub\n",
    "if \"KAGGLE_USERNAME\" not in os.environ or \"KAGGLE_KEY\" not in os.environ:\n",
    "    kagglehub.login()\n",
    "\n",
    "model_version = 1\n",
    "kaggle_username = kagglehub.whoami()[\"username\"]\n",
    "kaggle_uri = f\"kaggle://{kaggle_username}/gemma2/keras/{preset_dir}\"\n",
    "keras_hub.upload_preset(kaggle_uri, tmp_model_dir)\n",
    "print(\"Done!\")"
   ]
  }
 ],
 "metadata": {
  "kaggle": {
   "accelerator": "tpu1vmV38",
   "dataSources": [
    {
     "isSourceIdPinned": true,
     "modelId": 78150,
     "modelInstanceId": 56633,
     "sourceId": 205088,
     "sourceType": "modelInstanceVersion"
    }
   ],
   "isGpuEnabled": false,
   "isInternetEnabled": true,
   "language": "python",
   "sourceType": "notebook"
  },
  "kernelspec": {
   "display_name": "Python 3",
   "language": "python",
   "name": "python3"
  },
  "language_info": {
   "codemirror_mode": {
    "name": "ipython",
    "version": 3
   },
   "file_extension": ".py",
   "mimetype": "text/x-python",
   "name": "python",
   "nbconvert_exporter": "python",
   "pygments_lexer": "ipython3",
   "version": "3.10.16"
  },
  "papermill": {
   "default_parameters": {},
   "duration": 15090.910446,
   "end_time": "2024-12-28T19:46:29.250140",
   "environment_variables": {},
   "exception": null,
   "input_path": "__notebook__.ipynb",
   "output_path": "__notebook__.ipynb",
   "parameters": {},
   "start_time": "2024-12-28T15:34:58.339694",
   "version": "2.6.0"
  }
 },
 "nbformat": 4,
 "nbformat_minor": 5
}
